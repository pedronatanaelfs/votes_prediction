{
 "cells": [
  {
   "cell_type": "markdown",
   "metadata": {},
   "source": [
    "# Data Analysis on Brasilian Congress Voting System"
   ]
  },
  {
   "cell_type": "markdown",
   "metadata": {},
   "source": [
    "## Importing Necessary Libraries"
   ]
  },
  {
   "cell_type": "code",
   "execution_count": 2,
   "metadata": {},
   "outputs": [],
   "source": [
    "import pandas as pd\n",
    "import matplotlib.pyplot as plt\n",
    "import glob\n",
    "import os\n",
    "from tabulate import tabulate\n",
    "import numpy as np\n",
    "import csv\n",
    "\n",
    "from groq import Groq\n",
    "import time\n",
    "from dotenv import load_dotenv\n",
    "from tqdm import tqdm"
   ]
  },
  {
   "cell_type": "markdown",
   "metadata": {},
   "source": [
    "## Importing Data"
   ]
  },
  {
   "cell_type": "code",
   "execution_count": 3,
   "metadata": {},
   "outputs": [],
   "source": [
    "# Define the folder path\n",
    "votacoes = 'data/voting/'\n",
    "votacoesProposicoes = 'data/voting/proposition/'\n",
    "proposicoes = 'data/propositions'\n",
    "\n",
    "# Use glob to find all files matching the pattern\n",
    "votacoes_file_paths = glob.glob(os.path.join(votacoes, 'votacoes-*.csv'))\n",
    "votacoesProposicoes_file_paths = glob.glob(os.path.join(votacoesProposicoes, 'votacoesProposicoes-*.csv'))\n",
    "proposicoes_file_paths = glob.glob(os.path.join(proposicoes, 'proposicoes-*.xlsx'))\n",
    "\n",
    "# Load the orgaos.csv data\n",
    "orgaos_df = pd.read_csv('data/extra/orgaos.csv', delimiter=';', quotechar='\"')\n",
    "\n",
    "# Load the legislaturas.csv data\n",
    "legislaturas_df = pd.read_csv('data/extra/legislaturas.csv', delimiter=';', quotechar='\"')\n"
   ]
  },
  {
   "cell_type": "code",
   "execution_count": 4,
   "metadata": {},
   "outputs": [
    {
     "name": "stdout",
     "output_type": "stream",
     "text": [
      "File: votacoes-2003.csv | Rows: 10128\n",
      "File: votacoes-2004.csv | Rows: 6783\n",
      "File: votacoes-2005.csv | Rows: 7298\n",
      "File: votacoes-2006.csv | Rows: 4777\n",
      "File: votacoes-2007.csv | Rows: 8006\n",
      "File: votacoes-2008.csv | Rows: 7187\n",
      "File: votacoes-2009.csv | Rows: 8896\n",
      "File: votacoes-2010.csv | Rows: 5422\n",
      "File: votacoes-2011.csv | Rows: 6268\n",
      "File: votacoes-2012.csv | Rows: 5434\n",
      "File: votacoes-2013.csv | Rows: 7256\n",
      "File: votacoes-2014.csv | Rows: 3525\n",
      "File: votacoes-2015.csv | Rows: 9987\n",
      "File: votacoes-2016.csv | Rows: 5525\n",
      "File: votacoes-2017.csv | Rows: 7392\n",
      "File: votacoes-2018.csv | Rows: 3991\n",
      "File: votacoes-2019.csv | Rows: 8720\n",
      "File: votacoes-2020.csv | Rows: 1493\n",
      "File: votacoes-2021.csv | Rows: 9998\n",
      "File: votacoes-2022.csv | Rows: 5579\n",
      "File: votacoes-2023.csv | Rows: 10910\n",
      "File: votacoes-2024.csv | Rows: 10452\n"
     ]
    }
   ],
   "source": [
    "# Initialize an empty list to store individual DataFrames\n",
    "votacoes = []\n",
    "\n",
    "# Loop through each file path\n",
    "for file_path in votacoes_file_paths:\n",
    "    # Extract the year from the file name\n",
    "    year = os.path.basename(file_path).split('-')[1].split('.')[0]\n",
    "    \n",
    "    # Read the CSV file into a DataFrame\n",
    "    df = pd.read_csv(file_path, delimiter=';', quotechar='\"')\n",
    "    \n",
    "    # Print the number of rows in the current dataset\n",
    "    print(f\"File: {os.path.basename(file_path)} | Rows: {len(df)}\")\n",
    "    \n",
    "    # Add a 'year' column to the DataFrame\n",
    "    df['year'] = int(year)\n",
    "    \n",
    "    # Append the DataFrame to the list\n",
    "    votacoes.append(df)"
   ]
  },
  {
   "cell_type": "code",
   "execution_count": 5,
   "metadata": {},
   "outputs": [
    {
     "name": "stderr",
     "output_type": "stream",
     "text": [
      "e:\\Anaconda\\envs\\dados_abertos\\lib\\site-packages\\openpyxl\\styles\\stylesheet.py:237: UserWarning: Workbook contains no default style, apply openpyxl's default\n",
      "  warn(\"Workbook contains no default style, apply openpyxl's default\")\n",
      "e:\\Anaconda\\envs\\dados_abertos\\lib\\site-packages\\openpyxl\\styles\\stylesheet.py:237: UserWarning: Workbook contains no default style, apply openpyxl's default\n",
      "  warn(\"Workbook contains no default style, apply openpyxl's default\")\n",
      "e:\\Anaconda\\envs\\dados_abertos\\lib\\site-packages\\openpyxl\\styles\\stylesheet.py:237: UserWarning: Workbook contains no default style, apply openpyxl's default\n",
      "  warn(\"Workbook contains no default style, apply openpyxl's default\")\n",
      "e:\\Anaconda\\envs\\dados_abertos\\lib\\site-packages\\openpyxl\\styles\\stylesheet.py:237: UserWarning: Workbook contains no default style, apply openpyxl's default\n",
      "  warn(\"Workbook contains no default style, apply openpyxl's default\")\n",
      "e:\\Anaconda\\envs\\dados_abertos\\lib\\site-packages\\openpyxl\\styles\\stylesheet.py:237: UserWarning: Workbook contains no default style, apply openpyxl's default\n",
      "  warn(\"Workbook contains no default style, apply openpyxl's default\")\n",
      "e:\\Anaconda\\envs\\dados_abertos\\lib\\site-packages\\openpyxl\\styles\\stylesheet.py:237: UserWarning: Workbook contains no default style, apply openpyxl's default\n",
      "  warn(\"Workbook contains no default style, apply openpyxl's default\")\n",
      "e:\\Anaconda\\envs\\dados_abertos\\lib\\site-packages\\openpyxl\\styles\\stylesheet.py:237: UserWarning: Workbook contains no default style, apply openpyxl's default\n",
      "  warn(\"Workbook contains no default style, apply openpyxl's default\")\n",
      "e:\\Anaconda\\envs\\dados_abertos\\lib\\site-packages\\openpyxl\\styles\\stylesheet.py:237: UserWarning: Workbook contains no default style, apply openpyxl's default\n",
      "  warn(\"Workbook contains no default style, apply openpyxl's default\")\n",
      "e:\\Anaconda\\envs\\dados_abertos\\lib\\site-packages\\openpyxl\\styles\\stylesheet.py:237: UserWarning: Workbook contains no default style, apply openpyxl's default\n",
      "  warn(\"Workbook contains no default style, apply openpyxl's default\")\n",
      "e:\\Anaconda\\envs\\dados_abertos\\lib\\site-packages\\openpyxl\\styles\\stylesheet.py:237: UserWarning: Workbook contains no default style, apply openpyxl's default\n",
      "  warn(\"Workbook contains no default style, apply openpyxl's default\")\n",
      "e:\\Anaconda\\envs\\dados_abertos\\lib\\site-packages\\openpyxl\\styles\\stylesheet.py:237: UserWarning: Workbook contains no default style, apply openpyxl's default\n",
      "  warn(\"Workbook contains no default style, apply openpyxl's default\")\n",
      "e:\\Anaconda\\envs\\dados_abertos\\lib\\site-packages\\openpyxl\\styles\\stylesheet.py:237: UserWarning: Workbook contains no default style, apply openpyxl's default\n",
      "  warn(\"Workbook contains no default style, apply openpyxl's default\")\n",
      "e:\\Anaconda\\envs\\dados_abertos\\lib\\site-packages\\openpyxl\\styles\\stylesheet.py:237: UserWarning: Workbook contains no default style, apply openpyxl's default\n",
      "  warn(\"Workbook contains no default style, apply openpyxl's default\")\n",
      "e:\\Anaconda\\envs\\dados_abertos\\lib\\site-packages\\openpyxl\\styles\\stylesheet.py:237: UserWarning: Workbook contains no default style, apply openpyxl's default\n",
      "  warn(\"Workbook contains no default style, apply openpyxl's default\")\n",
      "e:\\Anaconda\\envs\\dados_abertos\\lib\\site-packages\\openpyxl\\styles\\stylesheet.py:237: UserWarning: Workbook contains no default style, apply openpyxl's default\n",
      "  warn(\"Workbook contains no default style, apply openpyxl's default\")\n",
      "e:\\Anaconda\\envs\\dados_abertos\\lib\\site-packages\\openpyxl\\styles\\stylesheet.py:237: UserWarning: Workbook contains no default style, apply openpyxl's default\n",
      "  warn(\"Workbook contains no default style, apply openpyxl's default\")\n",
      "e:\\Anaconda\\envs\\dados_abertos\\lib\\site-packages\\openpyxl\\styles\\stylesheet.py:237: UserWarning: Workbook contains no default style, apply openpyxl's default\n",
      "  warn(\"Workbook contains no default style, apply openpyxl's default\")\n",
      "e:\\Anaconda\\envs\\dados_abertos\\lib\\site-packages\\openpyxl\\styles\\stylesheet.py:237: UserWarning: Workbook contains no default style, apply openpyxl's default\n",
      "  warn(\"Workbook contains no default style, apply openpyxl's default\")\n",
      "e:\\Anaconda\\envs\\dados_abertos\\lib\\site-packages\\openpyxl\\styles\\stylesheet.py:237: UserWarning: Workbook contains no default style, apply openpyxl's default\n",
      "  warn(\"Workbook contains no default style, apply openpyxl's default\")\n",
      "e:\\Anaconda\\envs\\dados_abertos\\lib\\site-packages\\openpyxl\\styles\\stylesheet.py:237: UserWarning: Workbook contains no default style, apply openpyxl's default\n",
      "  warn(\"Workbook contains no default style, apply openpyxl's default\")\n",
      "e:\\Anaconda\\envs\\dados_abertos\\lib\\site-packages\\openpyxl\\styles\\stylesheet.py:237: UserWarning: Workbook contains no default style, apply openpyxl's default\n",
      "  warn(\"Workbook contains no default style, apply openpyxl's default\")\n",
      "e:\\Anaconda\\envs\\dados_abertos\\lib\\site-packages\\openpyxl\\styles\\stylesheet.py:237: UserWarning: Workbook contains no default style, apply openpyxl's default\n",
      "  warn(\"Workbook contains no default style, apply openpyxl's default\")\n"
     ]
    },
    {
     "data": {
      "text/html": [
       "<div>\n",
       "<style scoped>\n",
       "    .dataframe tbody tr th:only-of-type {\n",
       "        vertical-align: middle;\n",
       "    }\n",
       "\n",
       "    .dataframe tbody tr th {\n",
       "        vertical-align: top;\n",
       "    }\n",
       "\n",
       "    .dataframe thead th {\n",
       "        text-align: right;\n",
       "    }\n",
       "</style>\n",
       "<table border=\"1\" class=\"dataframe\">\n",
       "  <thead>\n",
       "    <tr style=\"text-align: right;\">\n",
       "      <th></th>\n",
       "      <th>id</th>\n",
       "      <th>uri</th>\n",
       "      <th>siglaTipo</th>\n",
       "      <th>numero</th>\n",
       "      <th>ano</th>\n",
       "      <th>codTipo</th>\n",
       "      <th>descricaoTipo</th>\n",
       "      <th>ementa</th>\n",
       "      <th>ementaDetalhada</th>\n",
       "      <th>keywords</th>\n",
       "      <th>...</th>\n",
       "      <th>ultimoStatus_uriOrgao</th>\n",
       "      <th>ultimoStatus_regime</th>\n",
       "      <th>ultimoStatus_descricaoTramitacao</th>\n",
       "      <th>ultimoStatus_idTipoTramitacao</th>\n",
       "      <th>ultimoStatus_descricaoSituacao</th>\n",
       "      <th>ultimoStatus_idSituacao</th>\n",
       "      <th>ultimoStatus_despacho</th>\n",
       "      <th>ultimoStatus_apreciacao</th>\n",
       "      <th>ultimoStatus_url</th>\n",
       "      <th>year</th>\n",
       "    </tr>\n",
       "  </thead>\n",
       "  <tbody>\n",
       "    <tr>\n",
       "      <th>0</th>\n",
       "      <td>29517</td>\n",
       "      <td>https://dadosabertos.camara.leg.br/api/v2/prop...</td>\n",
       "      <td>SBT</td>\n",
       "      <td>1</td>\n",
       "      <td>0</td>\n",
       "      <td>255</td>\n",
       "      <td>Substitutivo</td>\n",
       "      <td>NaN</td>\n",
       "      <td>NaN</td>\n",
       "      <td>NaN</td>\n",
       "      <td>...</td>\n",
       "      <td>https://dadosabertos.camara.leg.br/api/v2/orga...</td>\n",
       "      <td>NaN</td>\n",
       "      <td>Apresentação de Proposição</td>\n",
       "      <td>100</td>\n",
       "      <td>Arquivada</td>\n",
       "      <td>923.0</td>\n",
       "      <td>Apresentação do Substitutivo pelo Dep. Vilmar ...</td>\n",
       "      <td>Indefinida</td>\n",
       "      <td>https://www.camara.leg.br/proposicoesWeb/prop_...</td>\n",
       "      <td>2003</td>\n",
       "    </tr>\n",
       "    <tr>\n",
       "      <th>1</th>\n",
       "      <td>33173</td>\n",
       "      <td>https://dadosabertos.camara.leg.br/api/v2/prop...</td>\n",
       "      <td>EMR</td>\n",
       "      <td>1</td>\n",
       "      <td>0</td>\n",
       "      <td>257</td>\n",
       "      <td>Emenda de Relator</td>\n",
       "      <td>NaN</td>\n",
       "      <td>NaN</td>\n",
       "      <td>NaN</td>\n",
       "      <td>...</td>\n",
       "      <td>NaN</td>\n",
       "      <td>NaN</td>\n",
       "      <td>Apresentação de Proposição</td>\n",
       "      <td>100</td>\n",
       "      <td>NaN</td>\n",
       "      <td>NaN</td>\n",
       "      <td>Apresentação da Emenda de Relator pelo Dep. Wi...</td>\n",
       "      <td>Indefinida</td>\n",
       "      <td>https://www.camara.leg.br/proposicoesWeb/prop_...</td>\n",
       "      <td>2003</td>\n",
       "    </tr>\n",
       "    <tr>\n",
       "      <th>2</th>\n",
       "      <td>33174</td>\n",
       "      <td>https://dadosabertos.camara.leg.br/api/v2/prop...</td>\n",
       "      <td>EMR</td>\n",
       "      <td>2</td>\n",
       "      <td>0</td>\n",
       "      <td>257</td>\n",
       "      <td>Emenda de Relator</td>\n",
       "      <td>NaN</td>\n",
       "      <td>NaN</td>\n",
       "      <td>NaN</td>\n",
       "      <td>...</td>\n",
       "      <td>NaN</td>\n",
       "      <td>NaN</td>\n",
       "      <td>Apresentação de Proposição</td>\n",
       "      <td>100</td>\n",
       "      <td>NaN</td>\n",
       "      <td>NaN</td>\n",
       "      <td>Apresentação da Emenda de Relator pelo Dep. Wi...</td>\n",
       "      <td>Indefinida</td>\n",
       "      <td>https://www.camara.leg.br/proposicoesWeb/prop_...</td>\n",
       "      <td>2003</td>\n",
       "    </tr>\n",
       "    <tr>\n",
       "      <th>3</th>\n",
       "      <td>36887</td>\n",
       "      <td>https://dadosabertos.camara.leg.br/api/v2/prop...</td>\n",
       "      <td>SBT</td>\n",
       "      <td>1</td>\n",
       "      <td>0</td>\n",
       "      <td>255</td>\n",
       "      <td>Substitutivo</td>\n",
       "      <td>NaN</td>\n",
       "      <td>NaN</td>\n",
       "      <td>NaN</td>\n",
       "      <td>...</td>\n",
       "      <td>https://dadosabertos.camara.leg.br/api/v2/orga...</td>\n",
       "      <td>NaN</td>\n",
       "      <td>Apresentação de Proposição</td>\n",
       "      <td>100</td>\n",
       "      <td>Arquivada</td>\n",
       "      <td>923.0</td>\n",
       "      <td>Apresentação do Substitutivo pelo Dep. Bonifác...</td>\n",
       "      <td>Indefinida</td>\n",
       "      <td>https://www.camara.leg.br/proposicoesWeb/prop_...</td>\n",
       "      <td>2003</td>\n",
       "    </tr>\n",
       "    <tr>\n",
       "      <th>4</th>\n",
       "      <td>45667</td>\n",
       "      <td>https://dadosabertos.camara.leg.br/api/v2/prop...</td>\n",
       "      <td>SBT</td>\n",
       "      <td>1</td>\n",
       "      <td>0</td>\n",
       "      <td>255</td>\n",
       "      <td>Substitutivo</td>\n",
       "      <td>NaN</td>\n",
       "      <td>NaN</td>\n",
       "      <td>NaN</td>\n",
       "      <td>...</td>\n",
       "      <td>https://dadosabertos.camara.leg.br/api/v2/orga...</td>\n",
       "      <td>NaN</td>\n",
       "      <td>Apresentação de Proposição</td>\n",
       "      <td>100</td>\n",
       "      <td>Arquivada</td>\n",
       "      <td>923.0</td>\n",
       "      <td>Apresentação do Substitutivo pelo Dep. Zenaldo...</td>\n",
       "      <td>Indefinida</td>\n",
       "      <td>https://www.camara.leg.br/proposicoesWeb/prop_...</td>\n",
       "      <td>2003</td>\n",
       "    </tr>\n",
       "  </tbody>\n",
       "</table>\n",
       "<p>5 rows × 32 columns</p>\n",
       "</div>"
      ],
      "text/plain": [
       "      id                                                uri siglaTipo  numero  \\\n",
       "0  29517  https://dadosabertos.camara.leg.br/api/v2/prop...       SBT       1   \n",
       "1  33173  https://dadosabertos.camara.leg.br/api/v2/prop...       EMR       1   \n",
       "2  33174  https://dadosabertos.camara.leg.br/api/v2/prop...       EMR       2   \n",
       "3  36887  https://dadosabertos.camara.leg.br/api/v2/prop...       SBT       1   \n",
       "4  45667  https://dadosabertos.camara.leg.br/api/v2/prop...       SBT       1   \n",
       "\n",
       "   ano  codTipo      descricaoTipo ementa ementaDetalhada keywords  ...  \\\n",
       "0    0      255       Substitutivo    NaN             NaN      NaN  ...   \n",
       "1    0      257  Emenda de Relator    NaN             NaN      NaN  ...   \n",
       "2    0      257  Emenda de Relator    NaN             NaN      NaN  ...   \n",
       "3    0      255       Substitutivo    NaN             NaN      NaN  ...   \n",
       "4    0      255       Substitutivo    NaN             NaN      NaN  ...   \n",
       "\n",
       "                               ultimoStatus_uriOrgao ultimoStatus_regime  \\\n",
       "0  https://dadosabertos.camara.leg.br/api/v2/orga...                 NaN   \n",
       "1                                                NaN                 NaN   \n",
       "2                                                NaN                 NaN   \n",
       "3  https://dadosabertos.camara.leg.br/api/v2/orga...                 NaN   \n",
       "4  https://dadosabertos.camara.leg.br/api/v2/orga...                 NaN   \n",
       "\n",
       "   ultimoStatus_descricaoTramitacao ultimoStatus_idTipoTramitacao  \\\n",
       "0        Apresentação de Proposição                           100   \n",
       "1        Apresentação de Proposição                           100   \n",
       "2        Apresentação de Proposição                           100   \n",
       "3        Apresentação de Proposição                           100   \n",
       "4        Apresentação de Proposição                           100   \n",
       "\n",
       "  ultimoStatus_descricaoSituacao ultimoStatus_idSituacao  \\\n",
       "0                      Arquivada                   923.0   \n",
       "1                            NaN                     NaN   \n",
       "2                            NaN                     NaN   \n",
       "3                      Arquivada                   923.0   \n",
       "4                      Arquivada                   923.0   \n",
       "\n",
       "                               ultimoStatus_despacho ultimoStatus_apreciacao  \\\n",
       "0  Apresentação do Substitutivo pelo Dep. Vilmar ...              Indefinida   \n",
       "1  Apresentação da Emenda de Relator pelo Dep. Wi...              Indefinida   \n",
       "2  Apresentação da Emenda de Relator pelo Dep. Wi...              Indefinida   \n",
       "3  Apresentação do Substitutivo pelo Dep. Bonifác...              Indefinida   \n",
       "4  Apresentação do Substitutivo pelo Dep. Zenaldo...              Indefinida   \n",
       "\n",
       "                                    ultimoStatus_url  year  \n",
       "0  https://www.camara.leg.br/proposicoesWeb/prop_...  2003  \n",
       "1  https://www.camara.leg.br/proposicoesWeb/prop_...  2003  \n",
       "2  https://www.camara.leg.br/proposicoesWeb/prop_...  2003  \n",
       "3  https://www.camara.leg.br/proposicoesWeb/prop_...  2003  \n",
       "4  https://www.camara.leg.br/proposicoesWeb/prop_...  2003  \n",
       "\n",
       "[5 rows x 32 columns]"
      ]
     },
     "execution_count": 5,
     "metadata": {},
     "output_type": "execute_result"
    }
   ],
   "source": [
    "proposicoes = []\n",
    "\n",
    "# Loop over the years from 2003 to 2024\n",
    "for year in range(2003, 2025):\n",
    "    file_path = f\"data/propositions/proposicoes-{year}.xlsx\"\n",
    "    \n",
    "    # Read the Excel file\n",
    "    df = pd.read_excel(file_path)\n",
    "    \n",
    "    # Add the 'year' column\n",
    "    df[\"year\"] = year\n",
    "    \n",
    "    # Append to the list of DataFrames\n",
    "    proposicoes.append(df)\n",
    "\n",
    "# Concatenate all DataFrames into a single one\n",
    "proposicoes_df = pd.concat(proposicoes, ignore_index=True)\n",
    "\n",
    "proposicoes_df.head()"
   ]
  },
  {
   "cell_type": "code",
   "execution_count": 6,
   "metadata": {},
   "outputs": [
    {
     "name": "stdout",
     "output_type": "stream",
     "text": [
      "File: votacoesProposicoes-2003.csv | Rows: 7623\n",
      "File: votacoesProposicoes-2004.csv | Rows: 5434\n",
      "File: votacoesProposicoes-2005.csv | Rows: 5602\n",
      "File: votacoesProposicoes-2006.csv | Rows: 4086\n",
      "File: votacoesProposicoes-2007.csv | Rows: 5351\n",
      "File: votacoesProposicoes-2008.csv | Rows: 5447\n",
      "File: votacoesProposicoes-2009.csv | Rows: 6697\n",
      "File: votacoesProposicoes-2010.csv | Rows: 4508\n",
      "File: votacoesProposicoes-2011.csv | Rows: 4169\n",
      "File: votacoesProposicoes-2012.csv | Rows: 3711\n",
      "File: votacoesProposicoes-2013.csv | Rows: 4801\n",
      "File: votacoesProposicoes-2014.csv | Rows: 2373\n",
      "File: votacoesProposicoes-2015.csv | Rows: 7012\n",
      "File: votacoesProposicoes-2016.csv | Rows: 4052\n",
      "File: votacoesProposicoes-2017.csv | Rows: 5245\n",
      "File: votacoesProposicoes-2018.csv | Rows: 2911\n",
      "File: votacoesProposicoes-2019.csv | Rows: 5799\n",
      "File: votacoesProposicoes-2020.csv | Rows: 1434\n",
      "File: votacoesProposicoes-2021.csv | Rows: 7763\n",
      "File: votacoesProposicoes-2022.csv | Rows: 4255\n",
      "File: votacoesProposicoes-2023.csv | Rows: 8268\n",
      "File: votacoesProposicoes-2024.csv | Rows: 7502\n"
     ]
    }
   ],
   "source": [
    "# Initialize an empty list to store individual DataFrames\n",
    "votacoesProposicoes = []\n",
    "\n",
    "# Loop through each file path\n",
    "for file_path in votacoesProposicoes_file_paths:\n",
    "    # Extract the year from the file name\n",
    "    year = os.path.basename(file_path).split('-')[1].split('.')[0]\n",
    "    \n",
    "    # Read the CSV file into a DataFrame\n",
    "    df = pd.read_csv(file_path, delimiter=';', quotechar='\"')\n",
    "    \n",
    "    # Print the number of rows in the current dataset\n",
    "    print(f\"File: {os.path.basename(file_path)} | Rows: {len(df)}\")\n",
    "    \n",
    "    # Add a 'year' column to the DataFrame\n",
    "    df['year'] = int(year)\n",
    "    \n",
    "    # Append the DataFrame to the list\n",
    "    votacoesProposicoes.append(df)"
   ]
  },
  {
   "cell_type": "markdown",
   "metadata": {},
   "source": [
    "## Data Processing"
   ]
  },
  {
   "cell_type": "code",
   "execution_count": 7,
   "metadata": {},
   "outputs": [
    {
     "name": "stdout",
     "output_type": "stream",
     "text": [
      "<class 'pandas.core.frame.DataFrame'>\n",
      "RangeIndex: 155027 entries, 0 to 155026\n",
      "Data columns (total 21 columns):\n",
      " #   Column                                         Non-Null Count   Dtype  \n",
      "---  ------                                         --------------   -----  \n",
      " 0   id                                             155027 non-null  object \n",
      " 1   uri                                            155027 non-null  object \n",
      " 2   data                                           155027 non-null  object \n",
      " 3   dataHoraRegistro                               153538 non-null  object \n",
      " 4   idOrgao                                        155027 non-null  int64  \n",
      " 5   uriOrgao                                       155027 non-null  object \n",
      " 6   siglaOrgao                                     155027 non-null  object \n",
      " 7   idEvento                                       155027 non-null  int64  \n",
      " 8   uriEvento                                      147073 non-null  object \n",
      " 9   aprovacao                                      154225 non-null  float64\n",
      " 10  votosSim                                       155027 non-null  int64  \n",
      " 11  votosNao                                       155027 non-null  int64  \n",
      " 12  votosOutros                                    155027 non-null  int64  \n",
      " 13  descricao                                      155024 non-null  object \n",
      " 14  ultimaAberturaVotacao_dataHoraRegistro         17021 non-null   object \n",
      " 15  ultimaAberturaVotacao_descricao                17147 non-null   object \n",
      " 16  ultimaApresentacaoProposicao_dataHoraRegistro  133134 non-null  object \n",
      " 17  ultimaApresentacaoProposicao_descricao         149273 non-null  object \n",
      " 18  ultimaApresentacaoProposicao_idProposicao      155027 non-null  int64  \n",
      " 19  ultimaApresentacaoProposicao_uriProposicao     88590 non-null   object \n",
      " 20  year                                           155027 non-null  int64  \n",
      "dtypes: float64(1), int64(7), object(13)\n",
      "memory usage: 24.8+ MB\n"
     ]
    }
   ],
   "source": [
    "# Concatenate all DataFrames into a single DataFrame\n",
    "votacoes_df = pd.concat(votacoes, ignore_index=True)\n",
    "\n",
    "# Display the first few rows of the combined DataFrame\n",
    "votacoes_df.info()"
   ]
  },
  {
   "cell_type": "code",
   "execution_count": 8,
   "metadata": {},
   "outputs": [
    {
     "data": {
      "text/html": [
       "<div>\n",
       "<style scoped>\n",
       "    .dataframe tbody tr th:only-of-type {\n",
       "        vertical-align: middle;\n",
       "    }\n",
       "\n",
       "    .dataframe tbody tr th {\n",
       "        vertical-align: top;\n",
       "    }\n",
       "\n",
       "    .dataframe thead th {\n",
       "        text-align: right;\n",
       "    }\n",
       "</style>\n",
       "<table border=\"1\" class=\"dataframe\">\n",
       "  <thead>\n",
       "    <tr style=\"text-align: right;\">\n",
       "      <th></th>\n",
       "      <th>id</th>\n",
       "      <th>idOrgao</th>\n",
       "      <th>siglaOrgao</th>\n",
       "      <th>aprovacao</th>\n",
       "      <th>votosSim</th>\n",
       "      <th>votosNao</th>\n",
       "      <th>votosOutros</th>\n",
       "      <th>descricao</th>\n",
       "      <th>year</th>\n",
       "    </tr>\n",
       "  </thead>\n",
       "  <tbody>\n",
       "    <tr>\n",
       "      <th>0</th>\n",
       "      <td>41577-14</td>\n",
       "      <td>4</td>\n",
       "      <td>MESA</td>\n",
       "      <td>1.0</td>\n",
       "      <td>0</td>\n",
       "      <td>0</td>\n",
       "      <td>0</td>\n",
       "      <td>Aprovação unânime do parecer da Relatora, Dep....</td>\n",
       "      <td>2003</td>\n",
       "    </tr>\n",
       "    <tr>\n",
       "      <th>1</th>\n",
       "      <td>96076-49</td>\n",
       "      <td>180</td>\n",
       "      <td>PLEN</td>\n",
       "      <td>1.0</td>\n",
       "      <td>0</td>\n",
       "      <td>0</td>\n",
       "      <td>0</td>\n",
       "      <td>Aprovada a Redação Final oferecida pelo Relato...</td>\n",
       "      <td>2003</td>\n",
       "    </tr>\n",
       "    <tr>\n",
       "      <th>2</th>\n",
       "      <td>98922-29</td>\n",
       "      <td>180</td>\n",
       "      <td>PLEN</td>\n",
       "      <td>1.0</td>\n",
       "      <td>0</td>\n",
       "      <td>0</td>\n",
       "      <td>0</td>\n",
       "      <td>Aprovada a Redação Final oferecida pelo Relato...</td>\n",
       "      <td>2003</td>\n",
       "    </tr>\n",
       "    <tr>\n",
       "      <th>3</th>\n",
       "      <td>102277-6</td>\n",
       "      <td>180</td>\n",
       "      <td>PLEN</td>\n",
       "      <td>1.0</td>\n",
       "      <td>0</td>\n",
       "      <td>0</td>\n",
       "      <td>0</td>\n",
       "      <td>Aprovado requerimento n. 264/2002 de Líderes q...</td>\n",
       "      <td>2003</td>\n",
       "    </tr>\n",
       "    <tr>\n",
       "      <th>4</th>\n",
       "      <td>103255-3</td>\n",
       "      <td>180</td>\n",
       "      <td>PLEN</td>\n",
       "      <td>1.0</td>\n",
       "      <td>0</td>\n",
       "      <td>0</td>\n",
       "      <td>0</td>\n",
       "      <td>Aprovado o Requerimento</td>\n",
       "      <td>2003</td>\n",
       "    </tr>\n",
       "  </tbody>\n",
       "</table>\n",
       "</div>"
      ],
      "text/plain": [
       "         id  idOrgao siglaOrgao  aprovacao  votosSim  votosNao  votosOutros  \\\n",
       "0  41577-14        4       MESA        1.0         0         0            0   \n",
       "1  96076-49      180       PLEN        1.0         0         0            0   \n",
       "2  98922-29      180       PLEN        1.0         0         0            0   \n",
       "3  102277-6      180       PLEN        1.0         0         0            0   \n",
       "4  103255-3      180       PLEN        1.0         0         0            0   \n",
       "\n",
       "                                           descricao  year  \n",
       "0  Aprovação unânime do parecer da Relatora, Dep....  2003  \n",
       "1  Aprovada a Redação Final oferecida pelo Relato...  2003  \n",
       "2  Aprovada a Redação Final oferecida pelo Relato...  2003  \n",
       "3  Aprovado requerimento n. 264/2002 de Líderes q...  2003  \n",
       "4                            Aprovado o Requerimento  2003  "
      ]
     },
     "execution_count": 8,
     "metadata": {},
     "output_type": "execute_result"
    }
   ],
   "source": [
    "votacoes_df = votacoes_df.drop(columns=['uri', 'data', 'dataHoraRegistro', 'uriOrgao', 'idEvento', 'uriEvento', 'ultimaAberturaVotacao_dataHoraRegistro', 'ultimaAberturaVotacao_descricao', 'ultimaApresentacaoProposicao_dataHoraRegistro', 'ultimaApresentacaoProposicao_descricao', 'ultimaApresentacaoProposicao_idProposicao', 'ultimaApresentacaoProposicao_uriProposicao'])\n",
    "\n",
    "votacoes_df.head()"
   ]
  },
  {
   "cell_type": "code",
   "execution_count": 9,
   "metadata": {},
   "outputs": [
    {
     "name": "stdout",
     "output_type": "stream",
     "text": [
      "<class 'pandas.core.frame.DataFrame'>\n",
      "RangeIndex: 155027 entries, 0 to 155026\n",
      "Data columns (total 9 columns):\n",
      " #   Column       Non-Null Count   Dtype  \n",
      "---  ------       --------------   -----  \n",
      " 0   id           155027 non-null  object \n",
      " 1   idOrgao      155027 non-null  int64  \n",
      " 2   siglaOrgao   155027 non-null  object \n",
      " 3   aprovacao    154225 non-null  float64\n",
      " 4   votosSim     155027 non-null  int64  \n",
      " 5   votosNao     155027 non-null  int64  \n",
      " 6   votosOutros  155027 non-null  int64  \n",
      " 7   descricao    155024 non-null  object \n",
      " 8   year         155027 non-null  int64  \n",
      "dtypes: float64(1), int64(5), object(3)\n",
      "memory usage: 10.6+ MB\n"
     ]
    }
   ],
   "source": [
    "votacoes_df.info()"
   ]
  },
  {
   "cell_type": "code",
   "execution_count": 10,
   "metadata": {},
   "outputs": [
    {
     "name": "stdout",
     "output_type": "stream",
     "text": [
      "<class 'pandas.core.frame.DataFrame'>\n",
      "RangeIndex: 155027 entries, 0 to 155026\n",
      "Data columns (total 9 columns):\n",
      " #   Column       Non-Null Count   Dtype  \n",
      "---  ------       --------------   -----  \n",
      " 0   id           155027 non-null  object \n",
      " 1   idOrgao      155027 non-null  int64  \n",
      " 2   siglaOrgao   155027 non-null  object \n",
      " 3   aprovacao    155027 non-null  float64\n",
      " 4   votosSim     155027 non-null  int64  \n",
      " 5   votosNao     155027 non-null  int64  \n",
      " 6   votosOutros  155027 non-null  int64  \n",
      " 7   descricao    155024 non-null  object \n",
      " 8   year         155027 non-null  int64  \n",
      "dtypes: float64(1), int64(5), object(3)\n",
      "memory usage: 10.6+ MB\n"
     ]
    }
   ],
   "source": [
    "# Filling NA values in 'aprovacao' based on 'descricao'\n",
    "votacoes_df['aprovacao'] = votacoes_df['aprovacao'].fillna(\n",
    "    votacoes_df['descricao'].apply(lambda x: 1 if 'Mantid' in str(x) else (0 if 'Suprimid' in str(x) else None))\n",
    ")\n",
    "\n",
    "votacoes_df.info()"
   ]
  },
  {
   "cell_type": "code",
   "execution_count": 11,
   "metadata": {},
   "outputs": [
    {
     "name": "stdout",
     "output_type": "stream",
     "text": [
      "<class 'pandas.core.frame.DataFrame'>\n",
      "RangeIndex: 155027 entries, 0 to 155026\n",
      "Data columns (total 9 columns):\n",
      " #   Column       Non-Null Count   Dtype \n",
      "---  ------       --------------   ----- \n",
      " 0   id           155027 non-null  object\n",
      " 1   idOrgao      155027 non-null  int64 \n",
      " 2   siglaOrgao   155027 non-null  object\n",
      " 3   aprovacao    155027 non-null  int64 \n",
      " 4   votosSim     155027 non-null  int64 \n",
      " 5   votosNao     155027 non-null  int64 \n",
      " 6   votosOutros  155027 non-null  int64 \n",
      " 7   descricao    155024 non-null  object\n",
      " 8   year         155027 non-null  int64 \n",
      "dtypes: int64(6), object(3)\n",
      "memory usage: 10.6+ MB\n"
     ]
    }
   ],
   "source": [
    "votacoes_df['aprovacao'] = votacoes_df['aprovacao'].astype('int64')\n",
    "votacoes_df.info()"
   ]
  },
  {
   "cell_type": "code",
   "execution_count": 12,
   "metadata": {},
   "outputs": [
    {
     "name": "stdout",
     "output_type": "stream",
     "text": [
      "<class 'pandas.core.frame.DataFrame'>\n",
      "RangeIndex: 3699 entries, 0 to 3698\n",
      "Data columns (total 16 columns):\n",
      " #   Column             Non-Null Count  Dtype  \n",
      "---  ------             --------------  -----  \n",
      " 0   uri                3699 non-null   object \n",
      " 1   sigla              3697 non-null   object \n",
      " 2   apelido            3698 non-null   object \n",
      " 3   nome               3699 non-null   object \n",
      " 4   nomePublicacao     3379 non-null   object \n",
      " 5   codTipoOrgao       3699 non-null   int64  \n",
      " 6   tipoOrgao          3699 non-null   object \n",
      " 7   dataInicio         2315 non-null   object \n",
      " 8   dataInstalacao     1697 non-null   object \n",
      " 9   dataFim            2107 non-null   object \n",
      " 10  dataFimOriginal    0 non-null      float64\n",
      " 11  codSituacao        1699 non-null   float64\n",
      " 12  descricaoSituacao  1699 non-null   object \n",
      " 13  casa               3697 non-null   object \n",
      " 14  sala               1004 non-null   object \n",
      " 15  urlWebsite         0 non-null      float64\n",
      "dtypes: float64(3), int64(1), object(12)\n",
      "memory usage: 462.5+ KB\n"
     ]
    }
   ],
   "source": [
    "orgaos_df.info()"
   ]
  },
  {
   "cell_type": "code",
   "execution_count": 13,
   "metadata": {},
   "outputs": [
    {
     "name": "stdout",
     "output_type": "stream",
     "text": [
      "<class 'pandas.core.frame.DataFrame'>\n",
      "RangeIndex: 3699 entries, 0 to 3698\n",
      "Data columns (total 4 columns):\n",
      " #   Column     Non-Null Count  Dtype \n",
      "---  ------     --------------  ----- \n",
      " 0   uri        3699 non-null   object\n",
      " 1   sigla      3697 non-null   object\n",
      " 2   nome       3699 non-null   object\n",
      " 3   tipoOrgao  3699 non-null   object\n",
      "dtypes: object(4)\n",
      "memory usage: 115.7+ KB\n"
     ]
    }
   ],
   "source": [
    "orgaos_df = orgaos_df.drop(columns=['apelido', 'nomePublicacao', 'codTipoOrgao', 'dataInicio', 'dataInstalacao', 'dataFim', 'dataFimOriginal', 'codSituacao', 'descricaoSituacao', 'casa', 'sala', 'urlWebsite'])\n",
    "\n",
    "orgaos_df.info()"
   ]
  },
  {
   "cell_type": "code",
   "execution_count": 14,
   "metadata": {},
   "outputs": [
    {
     "name": "stdout",
     "output_type": "stream",
     "text": [
      "<class 'pandas.core.frame.DataFrame'>\n",
      "RangeIndex: 3699 entries, 0 to 3698\n",
      "Data columns (total 5 columns):\n",
      " #   Column     Non-Null Count  Dtype \n",
      "---  ------     --------------  ----- \n",
      " 0   uri        3699 non-null   object\n",
      " 1   sigla      3697 non-null   object\n",
      " 2   nome       3699 non-null   object\n",
      " 3   tipoOrgao  3699 non-null   object\n",
      " 4   id         3699 non-null   int32 \n",
      "dtypes: int32(1), object(4)\n",
      "memory usage: 130.2+ KB\n"
     ]
    }
   ],
   "source": [
    "# Extract the organ ID from the 'uri' column (e.g., \"https://.../orgaos/12345\" → 12345)\n",
    "orgaos_df['id'] = orgaos_df['uri'].str.extract(r'orgaos/(\\d+)$').astype(int)\n",
    "\n",
    "orgaos_df.info()"
   ]
  },
  {
   "cell_type": "code",
   "execution_count": 15,
   "metadata": {},
   "outputs": [
    {
     "name": "stdout",
     "output_type": "stream",
     "text": [
      "<class 'pandas.core.frame.DataFrame'>\n",
      "RangeIndex: 3699 entries, 0 to 3698\n",
      "Data columns (total 4 columns):\n",
      " #   Column     Non-Null Count  Dtype \n",
      "---  ------     --------------  ----- \n",
      " 0   sigla      3697 non-null   object\n",
      " 1   nome       3699 non-null   object\n",
      " 2   tipoOrgao  3699 non-null   object\n",
      " 3   id         3699 non-null   int32 \n",
      "dtypes: int32(1), object(3)\n",
      "memory usage: 101.3+ KB\n"
     ]
    }
   ],
   "source": [
    "orgaos_df = orgaos_df.drop(columns=['uri'])\n",
    "\n",
    "orgaos_df.info()"
   ]
  },
  {
   "cell_type": "code",
   "execution_count": 16,
   "metadata": {},
   "outputs": [
    {
     "data": {
      "text/html": [
       "<div>\n",
       "<style scoped>\n",
       "    .dataframe tbody tr th:only-of-type {\n",
       "        vertical-align: middle;\n",
       "    }\n",
       "\n",
       "    .dataframe tbody tr th {\n",
       "        vertical-align: top;\n",
       "    }\n",
       "\n",
       "    .dataframe thead th {\n",
       "        text-align: right;\n",
       "    }\n",
       "</style>\n",
       "<table border=\"1\" class=\"dataframe\">\n",
       "  <thead>\n",
       "    <tr style=\"text-align: right;\">\n",
       "      <th></th>\n",
       "      <th>id_x</th>\n",
       "      <th>idOrgao</th>\n",
       "      <th>siglaOrgao</th>\n",
       "      <th>aprovacao</th>\n",
       "      <th>votosSim</th>\n",
       "      <th>votosNao</th>\n",
       "      <th>votosOutros</th>\n",
       "      <th>descricao</th>\n",
       "      <th>year</th>\n",
       "      <th>sigla</th>\n",
       "      <th>nome</th>\n",
       "      <th>tipoOrgao</th>\n",
       "      <th>id_y</th>\n",
       "    </tr>\n",
       "  </thead>\n",
       "  <tbody>\n",
       "    <tr>\n",
       "      <th>0</th>\n",
       "      <td>41577-14</td>\n",
       "      <td>4</td>\n",
       "      <td>MESA</td>\n",
       "      <td>1</td>\n",
       "      <td>0</td>\n",
       "      <td>0</td>\n",
       "      <td>0</td>\n",
       "      <td>Aprovação unânime do parecer da Relatora, Dep....</td>\n",
       "      <td>2003</td>\n",
       "      <td>MESA</td>\n",
       "      <td>Mesa Diretora da Câmara dos Deputados</td>\n",
       "      <td>Comissão Diretora</td>\n",
       "      <td>4.0</td>\n",
       "    </tr>\n",
       "    <tr>\n",
       "      <th>1</th>\n",
       "      <td>96076-49</td>\n",
       "      <td>180</td>\n",
       "      <td>PLEN</td>\n",
       "      <td>1</td>\n",
       "      <td>0</td>\n",
       "      <td>0</td>\n",
       "      <td>0</td>\n",
       "      <td>Aprovada a Redação Final oferecida pelo Relato...</td>\n",
       "      <td>2003</td>\n",
       "      <td>PLEN</td>\n",
       "      <td>Plenário</td>\n",
       "      <td>Plenário Virtual</td>\n",
       "      <td>180.0</td>\n",
       "    </tr>\n",
       "    <tr>\n",
       "      <th>2</th>\n",
       "      <td>98922-29</td>\n",
       "      <td>180</td>\n",
       "      <td>PLEN</td>\n",
       "      <td>1</td>\n",
       "      <td>0</td>\n",
       "      <td>0</td>\n",
       "      <td>0</td>\n",
       "      <td>Aprovada a Redação Final oferecida pelo Relato...</td>\n",
       "      <td>2003</td>\n",
       "      <td>PLEN</td>\n",
       "      <td>Plenário</td>\n",
       "      <td>Plenário Virtual</td>\n",
       "      <td>180.0</td>\n",
       "    </tr>\n",
       "    <tr>\n",
       "      <th>3</th>\n",
       "      <td>102277-6</td>\n",
       "      <td>180</td>\n",
       "      <td>PLEN</td>\n",
       "      <td>1</td>\n",
       "      <td>0</td>\n",
       "      <td>0</td>\n",
       "      <td>0</td>\n",
       "      <td>Aprovado requerimento n. 264/2002 de Líderes q...</td>\n",
       "      <td>2003</td>\n",
       "      <td>PLEN</td>\n",
       "      <td>Plenário</td>\n",
       "      <td>Plenário Virtual</td>\n",
       "      <td>180.0</td>\n",
       "    </tr>\n",
       "    <tr>\n",
       "      <th>4</th>\n",
       "      <td>103255-3</td>\n",
       "      <td>180</td>\n",
       "      <td>PLEN</td>\n",
       "      <td>1</td>\n",
       "      <td>0</td>\n",
       "      <td>0</td>\n",
       "      <td>0</td>\n",
       "      <td>Aprovado o Requerimento</td>\n",
       "      <td>2003</td>\n",
       "      <td>PLEN</td>\n",
       "      <td>Plenário</td>\n",
       "      <td>Plenário Virtual</td>\n",
       "      <td>180.0</td>\n",
       "    </tr>\n",
       "  </tbody>\n",
       "</table>\n",
       "</div>"
      ],
      "text/plain": [
       "       id_x  idOrgao siglaOrgao  aprovacao  votosSim  votosNao  votosOutros  \\\n",
       "0  41577-14        4       MESA          1         0         0            0   \n",
       "1  96076-49      180       PLEN          1         0         0            0   \n",
       "2  98922-29      180       PLEN          1         0         0            0   \n",
       "3  102277-6      180       PLEN          1         0         0            0   \n",
       "4  103255-3      180       PLEN          1         0         0            0   \n",
       "\n",
       "                                           descricao  year sigla  \\\n",
       "0  Aprovação unânime do parecer da Relatora, Dep....  2003  MESA   \n",
       "1  Aprovada a Redação Final oferecida pelo Relato...  2003  PLEN   \n",
       "2  Aprovada a Redação Final oferecida pelo Relato...  2003  PLEN   \n",
       "3  Aprovado requerimento n. 264/2002 de Líderes q...  2003  PLEN   \n",
       "4                            Aprovado o Requerimento  2003  PLEN   \n",
       "\n",
       "                                    nome          tipoOrgao   id_y  \n",
       "0  Mesa Diretora da Câmara dos Deputados  Comissão Diretora    4.0  \n",
       "1                               Plenário   Plenário Virtual  180.0  \n",
       "2                               Plenário   Plenário Virtual  180.0  \n",
       "3                               Plenário   Plenário Virtual  180.0  \n",
       "4                               Plenário   Plenário Virtual  180.0  "
      ]
     },
     "execution_count": 16,
     "metadata": {},
     "output_type": "execute_result"
    }
   ],
   "source": [
    "# Merge to add the organ name (nome) to combined_df\n",
    "votacoes_df = votacoes_df.merge(\n",
    "    orgaos_df,\n",
    "    left_on='idOrgao',\n",
    "    right_on='id',\n",
    "    how='left'\n",
    ")\n",
    "\n",
    "votacoes_df.head()"
   ]
  },
  {
   "cell_type": "code",
   "execution_count": 17,
   "metadata": {},
   "outputs": [
    {
     "name": "stdout",
     "output_type": "stream",
     "text": [
      "<class 'pandas.core.frame.DataFrame'>\n",
      "RangeIndex: 155027 entries, 0 to 155026\n",
      "Data columns (total 11 columns):\n",
      " #   Column       Non-Null Count   Dtype \n",
      "---  ------       --------------   ----- \n",
      " 0   idVotacao    155027 non-null  object\n",
      " 1   idOrgao      155027 non-null  int64 \n",
      " 2   siglaOrgao   155027 non-null  object\n",
      " 3   aprovacao    155027 non-null  int64 \n",
      " 4   votosSim     155027 non-null  int64 \n",
      " 5   votosNao     155027 non-null  int64 \n",
      " 6   votosOutros  155027 non-null  int64 \n",
      " 7   descricao    155024 non-null  object\n",
      " 8   year         155027 non-null  int64 \n",
      " 9   nomeOrgao    154694 non-null  object\n",
      " 10  tipoOrgao    154694 non-null  object\n",
      "dtypes: int64(6), object(5)\n",
      "memory usage: 13.0+ MB\n"
     ]
    }
   ],
   "source": [
    "votacoes_df = votacoes_df.rename(columns = {'id_x':'idVotacao', 'nome':'nomeOrgao'})\n",
    "\n",
    "votacoes_df = votacoes_df.drop(columns=['id_y', 'sigla'])\n",
    "\n",
    "votacoes_df.info()"
   ]
  },
  {
   "cell_type": "code",
   "execution_count": 18,
   "metadata": {},
   "outputs": [
    {
     "name": "stdout",
     "output_type": "stream",
     "text": [
      "<class 'pandas.core.frame.DataFrame'>\n",
      "RangeIndex: 114043 entries, 0 to 114042\n",
      "Data columns (total 13 columns):\n",
      " #   Column                Non-Null Count   Dtype  \n",
      "---  ------                --------------   -----  \n",
      " 0   idVotacao             114043 non-null  object \n",
      " 1   uriVotacao            114043 non-null  object \n",
      " 2   data                  114043 non-null  object \n",
      " 3   descricao             114043 non-null  object \n",
      " 4   proposicao_id         114043 non-null  int64  \n",
      " 5   proposicao_uri        114043 non-null  object \n",
      " 6   proposicao_titulo     114043 non-null  object \n",
      " 7   proposicao_ementa     114026 non-null  object \n",
      " 8   proposicao_codTipo    114043 non-null  int64  \n",
      " 9   proposicao_siglaTipo  114043 non-null  object \n",
      " 10  proposicao_numero     114043 non-null  int64  \n",
      " 11  proposicao_ano        113977 non-null  float64\n",
      " 12  year                  114043 non-null  int64  \n",
      "dtypes: float64(1), int64(4), object(8)\n",
      "memory usage: 11.3+ MB\n"
     ]
    }
   ],
   "source": [
    "# Concatenate all DataFrames into a single DataFrame\n",
    "votacoesProposicoes_df = pd.concat(votacoesProposicoes, ignore_index=True)\n",
    "\n",
    "# Display the first few rows of the combined DataFrame\n",
    "votacoesProposicoes_df.info()"
   ]
  },
  {
   "cell_type": "code",
   "execution_count": 19,
   "metadata": {},
   "outputs": [
    {
     "name": "stdout",
     "output_type": "stream",
     "text": [
      "<class 'pandas.core.frame.DataFrame'>\n",
      "RangeIndex: 114043 entries, 0 to 114042\n",
      "Data columns (total 8 columns):\n",
      " #   Column                Non-Null Count   Dtype  \n",
      "---  ------                --------------   -----  \n",
      " 0   idVotacao             114043 non-null  object \n",
      " 1   proposicao_id         114043 non-null  int64  \n",
      " 2   proposicao_titulo     114043 non-null  object \n",
      " 3   proposicao_ementa     114026 non-null  object \n",
      " 4   proposicao_codTipo    114043 non-null  int64  \n",
      " 5   proposicao_siglaTipo  114043 non-null  object \n",
      " 6   proposicao_ano        113977 non-null  float64\n",
      " 7   year                  114043 non-null  int64  \n",
      "dtypes: float64(1), int64(3), object(4)\n",
      "memory usage: 7.0+ MB\n"
     ]
    }
   ],
   "source": [
    "votacoesProposicoes_df = votacoesProposicoes_df.drop(columns=['uriVotacao', 'data', 'descricao', 'proposicao_uri', 'proposicao_numero'])\n",
    "\n",
    "votacoesProposicoes_df.info()"
   ]
  },
  {
   "cell_type": "code",
   "execution_count": 20,
   "metadata": {},
   "outputs": [
    {
     "name": "stdout",
     "output_type": "stream",
     "text": [
      "<class 'pandas.core.frame.DataFrame'>\n",
      "RangeIndex: 114043 entries, 0 to 114042\n",
      "Data columns (total 8 columns):\n",
      " #   Column                  Non-Null Count   Dtype  \n",
      "---  ------                  --------------   -----  \n",
      " 0   idVotacao               114043 non-null  object \n",
      " 1   proposicao_id           114043 non-null  int64  \n",
      " 2   proposicao_titulo       114043 non-null  object \n",
      " 3   proposicao_ementa       114026 non-null  object \n",
      " 4   proposicao_codTipo      114043 non-null  int64  \n",
      " 5   proposicao_siglaTipo    114043 non-null  object \n",
      " 6   proposicao_ano          113977 non-null  float64\n",
      " 7   proposicao_ano_arquivo  114043 non-null  int64  \n",
      "dtypes: float64(1), int64(3), object(4)\n",
      "memory usage: 7.0+ MB\n"
     ]
    }
   ],
   "source": [
    "votacoesProposicoes_df = votacoesProposicoes_df.rename(columns = {'year':'proposicao_ano_arquivo'})\n",
    "\n",
    "votacoesProposicoes_df.info()\n"
   ]
  },
  {
   "cell_type": "code",
   "execution_count": 21,
   "metadata": {},
   "outputs": [
    {
     "name": "stdout",
     "output_type": "stream",
     "text": [
      "<class 'pandas.core.frame.DataFrame'>\n",
      "RangeIndex: 694509 entries, 0 to 694508\n",
      "Data columns (total 32 columns):\n",
      " #   Column                            Non-Null Count   Dtype  \n",
      "---  ------                            --------------   -----  \n",
      " 0   id                                694509 non-null  int64  \n",
      " 1   uri                               694509 non-null  object \n",
      " 2   siglaTipo                         694509 non-null  object \n",
      " 3   numero                            694509 non-null  int64  \n",
      " 4   ano                               694509 non-null  int64  \n",
      " 5   codTipo                           694509 non-null  int64  \n",
      " 6   descricaoTipo                     694509 non-null  object \n",
      " 7   ementa                            663070 non-null  object \n",
      " 8   ementaDetalhada                   22722 non-null   object \n",
      " 9   keywords                          104402 non-null  object \n",
      " 10  dataApresentacao                  694509 non-null  object \n",
      " 11  uriOrgaoNumerador                 694509 non-null  object \n",
      " 12  uriPropAnterior                   0 non-null       float64\n",
      " 13  uriPropPrincipal                  476673 non-null  object \n",
      " 14  uriPropPosterior                  8506 non-null    object \n",
      " 15  urlInteiroTeor                    686835 non-null  object \n",
      " 16  urnFinal                          0 non-null       float64\n",
      " 17  ultimoStatus_dataHora             694509 non-null  object \n",
      " 18  ultimoStatus_sequencia            694509 non-null  int64  \n",
      " 19  ultimoStatus_uriRelator           85752 non-null   object \n",
      " 20  ultimoStatus_idOrgao              307933 non-null  float64\n",
      " 21  ultimoStatus_siglaOrgao           307927 non-null  object \n",
      " 22  ultimoStatus_uriOrgao             307933 non-null  object \n",
      " 23  ultimoStatus_regime               101335 non-null  object \n",
      " 24  ultimoStatus_descricaoTramitacao  694509 non-null  object \n",
      " 25  ultimoStatus_idTipoTramitacao     694509 non-null  int64  \n",
      " 26  ultimoStatus_descricaoSituacao    307933 non-null  object \n",
      " 27  ultimoStatus_idSituacao           307933 non-null  float64\n",
      " 28  ultimoStatus_despacho             693434 non-null  object \n",
      " 29  ultimoStatus_apreciacao           685951 non-null  object \n",
      " 30  ultimoStatus_url                  476036 non-null  object \n",
      " 31  year                              694509 non-null  int64  \n",
      "dtypes: float64(4), int64(7), object(21)\n",
      "memory usage: 169.6+ MB\n"
     ]
    }
   ],
   "source": [
    "proposicoes_df.info()"
   ]
  },
  {
   "cell_type": "code",
   "execution_count": 22,
   "metadata": {},
   "outputs": [
    {
     "data": {
      "text/html": [
       "<div>\n",
       "<style scoped>\n",
       "    .dataframe tbody tr th:only-of-type {\n",
       "        vertical-align: middle;\n",
       "    }\n",
       "\n",
       "    .dataframe tbody tr th {\n",
       "        vertical-align: top;\n",
       "    }\n",
       "\n",
       "    .dataframe thead th {\n",
       "        text-align: right;\n",
       "    }\n",
       "</style>\n",
       "<table border=\"1\" class=\"dataframe\">\n",
       "  <thead>\n",
       "    <tr style=\"text-align: right;\">\n",
       "      <th></th>\n",
       "      <th>id</th>\n",
       "      <th>descricaoTipo</th>\n",
       "      <th>year</th>\n",
       "    </tr>\n",
       "  </thead>\n",
       "  <tbody>\n",
       "    <tr>\n",
       "      <th>0</th>\n",
       "      <td>29517</td>\n",
       "      <td>Substitutivo</td>\n",
       "      <td>2003</td>\n",
       "    </tr>\n",
       "    <tr>\n",
       "      <th>1</th>\n",
       "      <td>33173</td>\n",
       "      <td>Emenda de Relator</td>\n",
       "      <td>2003</td>\n",
       "    </tr>\n",
       "    <tr>\n",
       "      <th>2</th>\n",
       "      <td>33174</td>\n",
       "      <td>Emenda de Relator</td>\n",
       "      <td>2003</td>\n",
       "    </tr>\n",
       "    <tr>\n",
       "      <th>3</th>\n",
       "      <td>36887</td>\n",
       "      <td>Substitutivo</td>\n",
       "      <td>2003</td>\n",
       "    </tr>\n",
       "    <tr>\n",
       "      <th>4</th>\n",
       "      <td>45667</td>\n",
       "      <td>Substitutivo</td>\n",
       "      <td>2003</td>\n",
       "    </tr>\n",
       "    <tr>\n",
       "      <th>...</th>\n",
       "      <td>...</td>\n",
       "      <td>...</td>\n",
       "      <td>...</td>\n",
       "    </tr>\n",
       "    <tr>\n",
       "      <th>694504</th>\n",
       "      <td>2482027</td>\n",
       "      <td>Parecer do Relator</td>\n",
       "      <td>2024</td>\n",
       "    </tr>\n",
       "    <tr>\n",
       "      <th>694505</th>\n",
       "      <td>2482028</td>\n",
       "      <td>Voto em Separado</td>\n",
       "      <td>2024</td>\n",
       "    </tr>\n",
       "    <tr>\n",
       "      <th>694506</th>\n",
       "      <td>2482029</td>\n",
       "      <td>Voto em Separado</td>\n",
       "      <td>2024</td>\n",
       "    </tr>\n",
       "    <tr>\n",
       "      <th>694507</th>\n",
       "      <td>2482030</td>\n",
       "      <td>Parecer do Relator</td>\n",
       "      <td>2024</td>\n",
       "    </tr>\n",
       "    <tr>\n",
       "      <th>694508</th>\n",
       "      <td>2482033</td>\n",
       "      <td>Parecer do Relator</td>\n",
       "      <td>2024</td>\n",
       "    </tr>\n",
       "  </tbody>\n",
       "</table>\n",
       "<p>694509 rows × 3 columns</p>\n",
       "</div>"
      ],
      "text/plain": [
       "             id       descricaoTipo  year\n",
       "0         29517        Substitutivo  2003\n",
       "1         33173   Emenda de Relator  2003\n",
       "2         33174   Emenda de Relator  2003\n",
       "3         36887        Substitutivo  2003\n",
       "4         45667        Substitutivo  2003\n",
       "...         ...                 ...   ...\n",
       "694504  2482027  Parecer do Relator  2024\n",
       "694505  2482028    Voto em Separado  2024\n",
       "694506  2482029    Voto em Separado  2024\n",
       "694507  2482030  Parecer do Relator  2024\n",
       "694508  2482033  Parecer do Relator  2024\n",
       "\n",
       "[694509 rows x 3 columns]"
      ]
     },
     "execution_count": 22,
     "metadata": {},
     "output_type": "execute_result"
    }
   ],
   "source": [
    "proposicoes_df = proposicoes_df[['id', 'descricaoTipo','year']]\n",
    "\n",
    "proposicoes_df"
   ]
  },
  {
   "cell_type": "code",
   "execution_count": 23,
   "metadata": {},
   "outputs": [
    {
     "name": "stdout",
     "output_type": "stream",
     "text": [
      "<class 'pandas.core.frame.DataFrame'>\n",
      "RangeIndex: 114043 entries, 0 to 114042\n",
      "Data columns (total 8 columns):\n",
      " #   Column                  Non-Null Count   Dtype  \n",
      "---  ------                  --------------   -----  \n",
      " 0   idVotacao               114043 non-null  object \n",
      " 1   proposicao_id           114043 non-null  int64  \n",
      " 2   proposicao_titulo       114043 non-null  object \n",
      " 3   proposicao_ementa       114026 non-null  object \n",
      " 4   proposicao_codTipo      114043 non-null  int64  \n",
      " 5   proposicao_siglaTipo    114043 non-null  object \n",
      " 6   proposicao_ano          114041 non-null  float64\n",
      " 7   proposicao_ano_arquivo  114043 non-null  int64  \n",
      "dtypes: float64(1), int64(3), object(4)\n",
      "memory usage: 7.0+ MB\n"
     ]
    }
   ],
   "source": [
    "# Create a dictionary from proposicoes_df\n",
    "year_mapping = dict(zip(proposicoes_df['id'], proposicoes_df['year']))\n",
    "\n",
    "# Fill missing proposicao_ano by mapping the 'proposicao_id'\n",
    "# and only using the map result where 'proposicao_ano' is NaN\n",
    "votacoesProposicoes_df['proposicao_ano'] = votacoesProposicoes_df.apply(\n",
    "    lambda row: row['proposicao_ano'] if pd.notnull(row['proposicao_ano'])\n",
    "    else year_mapping.get(row['proposicao_id'], None),\n",
    "    axis=1\n",
    ")\n",
    "\n",
    "votacoesProposicoes_df.info()"
   ]
  },
  {
   "cell_type": "code",
   "execution_count": 24,
   "metadata": {},
   "outputs": [
    {
     "data": {
      "text/html": [
       "<div>\n",
       "<style scoped>\n",
       "    .dataframe tbody tr th:only-of-type {\n",
       "        vertical-align: middle;\n",
       "    }\n",
       "\n",
       "    .dataframe tbody tr th {\n",
       "        vertical-align: top;\n",
       "    }\n",
       "\n",
       "    .dataframe thead th {\n",
       "        text-align: right;\n",
       "    }\n",
       "</style>\n",
       "<table border=\"1\" class=\"dataframe\">\n",
       "  <thead>\n",
       "    <tr style=\"text-align: right;\">\n",
       "      <th></th>\n",
       "      <th>idVotacao</th>\n",
       "      <th>proposicao_id</th>\n",
       "      <th>proposicao_titulo</th>\n",
       "      <th>proposicao_ementa</th>\n",
       "      <th>proposicao_codTipo</th>\n",
       "      <th>proposicao_siglaTipo</th>\n",
       "      <th>proposicao_ano</th>\n",
       "      <th>proposicao_ano_arquivo</th>\n",
       "    </tr>\n",
       "  </thead>\n",
       "  <tbody>\n",
       "    <tr>\n",
       "      <th>3058</th>\n",
       "      <td>117476-4</td>\n",
       "      <td>29629</td>\n",
       "      <td>PAR 1 CTASP =&gt; PL 3384/2000</td>\n",
       "      <td>Aprovado por Unanimidade o Parecer. \\r\\nParece...</td>\n",
       "      <td>187</td>\n",
       "      <td>PAR</td>\n",
       "      <td>NaN</td>\n",
       "      <td>2003</td>\n",
       "    </tr>\n",
       "    <tr>\n",
       "      <th>4549</th>\n",
       "      <td>134214-2</td>\n",
       "      <td>130292</td>\n",
       "      <td>PRL 1 CDU.</td>\n",
       "      <td>Parecer do Relator, Dep. Barbosa Neto, pela ap...</td>\n",
       "      <td>190</td>\n",
       "      <td>PRL</td>\n",
       "      <td>NaN</td>\n",
       "      <td>2003</td>\n",
       "    </tr>\n",
       "  </tbody>\n",
       "</table>\n",
       "</div>"
      ],
      "text/plain": [
       "     idVotacao  proposicao_id            proposicao_titulo  \\\n",
       "3058  117476-4          29629  PAR 1 CTASP => PL 3384/2000   \n",
       "4549  134214-2         130292                   PRL 1 CDU.   \n",
       "\n",
       "                                      proposicao_ementa  proposicao_codTipo  \\\n",
       "3058  Aprovado por Unanimidade o Parecer. \\r\\nParece...                 187   \n",
       "4549  Parecer do Relator, Dep. Barbosa Neto, pela ap...                 190   \n",
       "\n",
       "     proposicao_siglaTipo  proposicao_ano  proposicao_ano_arquivo  \n",
       "3058                  PAR             NaN                    2003  \n",
       "4549                  PRL             NaN                    2003  "
      ]
     },
     "execution_count": 24,
     "metadata": {},
     "output_type": "execute_result"
    }
   ],
   "source": [
    "votacoesProposicoes_df[votacoesProposicoes_df['proposicao_ano'].isnull()]"
   ]
  },
  {
   "cell_type": "markdown",
   "metadata": {},
   "source": [
    "The null values in year are not relevant, once we will look only for PL type"
   ]
  },
  {
   "cell_type": "code",
   "execution_count": 25,
   "metadata": {},
   "outputs": [
    {
     "data": {
      "text/html": [
       "<div>\n",
       "<style scoped>\n",
       "    .dataframe tbody tr th:only-of-type {\n",
       "        vertical-align: middle;\n",
       "    }\n",
       "\n",
       "    .dataframe tbody tr th {\n",
       "        vertical-align: top;\n",
       "    }\n",
       "\n",
       "    .dataframe thead th {\n",
       "        text-align: right;\n",
       "    }\n",
       "</style>\n",
       "<table border=\"1\" class=\"dataframe\">\n",
       "  <thead>\n",
       "    <tr style=\"text-align: right;\">\n",
       "      <th></th>\n",
       "      <th>idVotacao</th>\n",
       "      <th>siglaOrgao</th>\n",
       "      <th>aprovacao</th>\n",
       "      <th>votosSim</th>\n",
       "      <th>votosNao</th>\n",
       "      <th>votosOutros</th>\n",
       "      <th>descricao</th>\n",
       "      <th>year</th>\n",
       "      <th>nomeOrgao</th>\n",
       "      <th>tipoOrgao</th>\n",
       "      <th>proposicao_id</th>\n",
       "      <th>proposicao_titulo</th>\n",
       "      <th>proposicao_ementa</th>\n",
       "      <th>proposicao_siglaTipo</th>\n",
       "      <th>proposicao_ano</th>\n",
       "      <th>proposicao_ano_arquivo</th>\n",
       "    </tr>\n",
       "  </thead>\n",
       "  <tbody>\n",
       "    <tr>\n",
       "      <th>0</th>\n",
       "      <td>41577-14</td>\n",
       "      <td>MESA</td>\n",
       "      <td>1</td>\n",
       "      <td>0</td>\n",
       "      <td>0</td>\n",
       "      <td>0</td>\n",
       "      <td>Aprovação unânime do parecer da Relatora, Dep....</td>\n",
       "      <td>2003</td>\n",
       "      <td>Mesa Diretora da Câmara dos Deputados</td>\n",
       "      <td>Comissão Diretora</td>\n",
       "      <td>NaN</td>\n",
       "      <td>NaN</td>\n",
       "      <td>NaN</td>\n",
       "      <td>NaN</td>\n",
       "      <td>NaN</td>\n",
       "      <td>NaN</td>\n",
       "    </tr>\n",
       "    <tr>\n",
       "      <th>1</th>\n",
       "      <td>96076-49</td>\n",
       "      <td>PLEN</td>\n",
       "      <td>1</td>\n",
       "      <td>0</td>\n",
       "      <td>0</td>\n",
       "      <td>0</td>\n",
       "      <td>Aprovada a Redação Final oferecida pelo Relato...</td>\n",
       "      <td>2003</td>\n",
       "      <td>Plenário</td>\n",
       "      <td>Plenário Virtual</td>\n",
       "      <td>96076.0</td>\n",
       "      <td>PL 7262/2002</td>\n",
       "      <td>Dispõe sobre o Estatuto de Defesa do Torcedor ...</td>\n",
       "      <td>PL</td>\n",
       "      <td>2002.0</td>\n",
       "      <td>2003.0</td>\n",
       "    </tr>\n",
       "    <tr>\n",
       "      <th>2</th>\n",
       "      <td>98922-29</td>\n",
       "      <td>PLEN</td>\n",
       "      <td>1</td>\n",
       "      <td>0</td>\n",
       "      <td>0</td>\n",
       "      <td>0</td>\n",
       "      <td>Aprovada a Redação Final oferecida pelo Relato...</td>\n",
       "      <td>2003</td>\n",
       "      <td>Plenário</td>\n",
       "      <td>Plenário Virtual</td>\n",
       "      <td>98922.0</td>\n",
       "      <td>MPV 78/2002</td>\n",
       "      <td>Autoriza o Poder Executivo a doar à República ...</td>\n",
       "      <td>MPV</td>\n",
       "      <td>2002.0</td>\n",
       "      <td>2003.0</td>\n",
       "    </tr>\n",
       "    <tr>\n",
       "      <th>3</th>\n",
       "      <td>102277-6</td>\n",
       "      <td>PLEN</td>\n",
       "      <td>1</td>\n",
       "      <td>0</td>\n",
       "      <td>0</td>\n",
       "      <td>0</td>\n",
       "      <td>Aprovado requerimento n. 264/2002 de Líderes q...</td>\n",
       "      <td>2003</td>\n",
       "      <td>Plenário</td>\n",
       "      <td>Plenário Virtual</td>\n",
       "      <td>102277.0</td>\n",
       "      <td>PDC 2659/2002</td>\n",
       "      <td>Disciplina as relações jurídicas decorrentes d...</td>\n",
       "      <td>PDC</td>\n",
       "      <td>2002.0</td>\n",
       "      <td>2003.0</td>\n",
       "    </tr>\n",
       "    <tr>\n",
       "      <th>4</th>\n",
       "      <td>103255-3</td>\n",
       "      <td>PLEN</td>\n",
       "      <td>1</td>\n",
       "      <td>0</td>\n",
       "      <td>0</td>\n",
       "      <td>0</td>\n",
       "      <td>Aprovado o Requerimento</td>\n",
       "      <td>2003</td>\n",
       "      <td>Plenário</td>\n",
       "      <td>Plenário Virtual</td>\n",
       "      <td>102277.0</td>\n",
       "      <td>PDC 2659/2002</td>\n",
       "      <td>Disciplina as relações jurídicas decorrentes d...</td>\n",
       "      <td>PDC</td>\n",
       "      <td>2002.0</td>\n",
       "      <td>2003.0</td>\n",
       "    </tr>\n",
       "    <tr>\n",
       "      <th>...</th>\n",
       "      <td>...</td>\n",
       "      <td>...</td>\n",
       "      <td>...</td>\n",
       "      <td>...</td>\n",
       "      <td>...</td>\n",
       "      <td>...</td>\n",
       "      <td>...</td>\n",
       "      <td>...</td>\n",
       "      <td>...</td>\n",
       "      <td>...</td>\n",
       "      <td>...</td>\n",
       "      <td>...</td>\n",
       "      <td>...</td>\n",
       "      <td>...</td>\n",
       "      <td>...</td>\n",
       "      <td>...</td>\n",
       "    </tr>\n",
       "    <tr>\n",
       "      <th>157155</th>\n",
       "      <td>2266496-54</td>\n",
       "      <td>CCJC</td>\n",
       "      <td>0</td>\n",
       "      <td>0</td>\n",
       "      <td>0</td>\n",
       "      <td>0</td>\n",
       "      <td>Apresentação do VTS n. 1 CCJC (Voto em Separad...</td>\n",
       "      <td>2024</td>\n",
       "      <td>Comissão de Constituição e Justiça e de Cidadania</td>\n",
       "      <td>Comissão Permanente</td>\n",
       "      <td>2266496.0</td>\n",
       "      <td>PL 5451/2020</td>\n",
       "      <td>Altera a Lei nº 8.078, de 11 de setembro de 19...</td>\n",
       "      <td>PL</td>\n",
       "      <td>2020.0</td>\n",
       "      <td>2024.0</td>\n",
       "    </tr>\n",
       "    <tr>\n",
       "      <th>157156</th>\n",
       "      <td>2275427-36</td>\n",
       "      <td>CSAUDE</td>\n",
       "      <td>0</td>\n",
       "      <td>0</td>\n",
       "      <td>0</td>\n",
       "      <td>0</td>\n",
       "      <td>Apresentação do VTS n. 1 CSAUDE (Voto em Separ...</td>\n",
       "      <td>2024</td>\n",
       "      <td>Comissão de Saúde</td>\n",
       "      <td>Comissão Permanente</td>\n",
       "      <td>2275427.0</td>\n",
       "      <td>PL 1065/2021</td>\n",
       "      <td>Institui o projeto UPA Solidária e dá outras p...</td>\n",
       "      <td>PL</td>\n",
       "      <td>2021.0</td>\n",
       "      <td>2024.0</td>\n",
       "    </tr>\n",
       "    <tr>\n",
       "      <th>157157</th>\n",
       "      <td>2455796-34</td>\n",
       "      <td>CSAUDE</td>\n",
       "      <td>0</td>\n",
       "      <td>0</td>\n",
       "      <td>0</td>\n",
       "      <td>0</td>\n",
       "      <td>Apresentação do VTS n. 1 CSAUDE (Voto em Separ...</td>\n",
       "      <td>2024</td>\n",
       "      <td>Comissão de Saúde</td>\n",
       "      <td>Comissão Permanente</td>\n",
       "      <td>2455796.0</td>\n",
       "      <td>PL 3355/2024</td>\n",
       "      <td>Dispõe sobre a obrigatoriedade das empresas op...</td>\n",
       "      <td>PL</td>\n",
       "      <td>2024.0</td>\n",
       "      <td>2024.0</td>\n",
       "    </tr>\n",
       "    <tr>\n",
       "      <th>157158</th>\n",
       "      <td>2454233-21</td>\n",
       "      <td>CCULT</td>\n",
       "      <td>0</td>\n",
       "      <td>0</td>\n",
       "      <td>0</td>\n",
       "      <td>0</td>\n",
       "      <td>Apresentação do VTS n. 1 CCULT (Voto em Separa...</td>\n",
       "      <td>2024</td>\n",
       "      <td>Comissão de Cultura</td>\n",
       "      <td>Comissão Permanente</td>\n",
       "      <td>2454233.0</td>\n",
       "      <td>PL 3245/2024</td>\n",
       "      <td>Dispõe sobre o selo “Cidade Amiga da Cultura”,...</td>\n",
       "      <td>PL</td>\n",
       "      <td>2024.0</td>\n",
       "      <td>2024.0</td>\n",
       "    </tr>\n",
       "    <tr>\n",
       "      <th>157159</th>\n",
       "      <td>2290130-76</td>\n",
       "      <td>CCJC</td>\n",
       "      <td>0</td>\n",
       "      <td>0</td>\n",
       "      <td>0</td>\n",
       "      <td>0</td>\n",
       "      <td>Apresentação do VTS n. 1 CCJC (Voto em Separad...</td>\n",
       "      <td>2024</td>\n",
       "      <td>Comissão de Constituição e Justiça e de Cidadania</td>\n",
       "      <td>Comissão Permanente</td>\n",
       "      <td>2290130.0</td>\n",
       "      <td>PL 2489/2021</td>\n",
       "      <td>Altera o Código de Defesa do Consumidor para p...</td>\n",
       "      <td>PL</td>\n",
       "      <td>2021.0</td>\n",
       "      <td>2024.0</td>\n",
       "    </tr>\n",
       "  </tbody>\n",
       "</table>\n",
       "<p>157160 rows × 16 columns</p>\n",
       "</div>"
      ],
      "text/plain": [
       "         idVotacao siglaOrgao  aprovacao  votosSim  votosNao  votosOutros  \\\n",
       "0         41577-14       MESA          1         0         0            0   \n",
       "1         96076-49       PLEN          1         0         0            0   \n",
       "2         98922-29       PLEN          1         0         0            0   \n",
       "3         102277-6       PLEN          1         0         0            0   \n",
       "4         103255-3       PLEN          1         0         0            0   \n",
       "...            ...        ...        ...       ...       ...          ...   \n",
       "157155  2266496-54       CCJC          0         0         0            0   \n",
       "157156  2275427-36     CSAUDE          0         0         0            0   \n",
       "157157  2455796-34     CSAUDE          0         0         0            0   \n",
       "157158  2454233-21      CCULT          0         0         0            0   \n",
       "157159  2290130-76       CCJC          0         0         0            0   \n",
       "\n",
       "                                                descricao  year  \\\n",
       "0       Aprovação unânime do parecer da Relatora, Dep....  2003   \n",
       "1       Aprovada a Redação Final oferecida pelo Relato...  2003   \n",
       "2       Aprovada a Redação Final oferecida pelo Relato...  2003   \n",
       "3       Aprovado requerimento n. 264/2002 de Líderes q...  2003   \n",
       "4                                 Aprovado o Requerimento  2003   \n",
       "...                                                   ...   ...   \n",
       "157155  Apresentação do VTS n. 1 CCJC (Voto em Separad...  2024   \n",
       "157156  Apresentação do VTS n. 1 CSAUDE (Voto em Separ...  2024   \n",
       "157157  Apresentação do VTS n. 1 CSAUDE (Voto em Separ...  2024   \n",
       "157158  Apresentação do VTS n. 1 CCULT (Voto em Separa...  2024   \n",
       "157159  Apresentação do VTS n. 1 CCJC (Voto em Separad...  2024   \n",
       "\n",
       "                                                nomeOrgao  \\\n",
       "0                   Mesa Diretora da Câmara dos Deputados   \n",
       "1                                                Plenário   \n",
       "2                                                Plenário   \n",
       "3                                                Plenário   \n",
       "4                                                Plenário   \n",
       "...                                                   ...   \n",
       "157155  Comissão de Constituição e Justiça e de Cidadania   \n",
       "157156                                  Comissão de Saúde   \n",
       "157157                                  Comissão de Saúde   \n",
       "157158                                Comissão de Cultura   \n",
       "157159  Comissão de Constituição e Justiça e de Cidadania   \n",
       "\n",
       "                  tipoOrgao  proposicao_id proposicao_titulo  \\\n",
       "0         Comissão Diretora            NaN               NaN   \n",
       "1          Plenário Virtual        96076.0      PL 7262/2002   \n",
       "2          Plenário Virtual        98922.0       MPV 78/2002   \n",
       "3          Plenário Virtual       102277.0     PDC 2659/2002   \n",
       "4          Plenário Virtual       102277.0     PDC 2659/2002   \n",
       "...                     ...            ...               ...   \n",
       "157155  Comissão Permanente      2266496.0      PL 5451/2020   \n",
       "157156  Comissão Permanente      2275427.0      PL 1065/2021   \n",
       "157157  Comissão Permanente      2455796.0      PL 3355/2024   \n",
       "157158  Comissão Permanente      2454233.0      PL 3245/2024   \n",
       "157159  Comissão Permanente      2290130.0      PL 2489/2021   \n",
       "\n",
       "                                        proposicao_ementa  \\\n",
       "0                                                     NaN   \n",
       "1       Dispõe sobre o Estatuto de Defesa do Torcedor ...   \n",
       "2       Autoriza o Poder Executivo a doar à República ...   \n",
       "3       Disciplina as relações jurídicas decorrentes d...   \n",
       "4       Disciplina as relações jurídicas decorrentes d...   \n",
       "...                                                   ...   \n",
       "157155  Altera a Lei nº 8.078, de 11 de setembro de 19...   \n",
       "157156  Institui o projeto UPA Solidária e dá outras p...   \n",
       "157157  Dispõe sobre a obrigatoriedade das empresas op...   \n",
       "157158  Dispõe sobre o selo “Cidade Amiga da Cultura”,...   \n",
       "157159  Altera o Código de Defesa do Consumidor para p...   \n",
       "\n",
       "       proposicao_siglaTipo  proposicao_ano  proposicao_ano_arquivo  \n",
       "0                       NaN             NaN                     NaN  \n",
       "1                        PL          2002.0                  2003.0  \n",
       "2                       MPV          2002.0                  2003.0  \n",
       "3                       PDC          2002.0                  2003.0  \n",
       "4                       PDC          2002.0                  2003.0  \n",
       "...                     ...             ...                     ...  \n",
       "157155                   PL          2020.0                  2024.0  \n",
       "157156                   PL          2021.0                  2024.0  \n",
       "157157                   PL          2024.0                  2024.0  \n",
       "157158                   PL          2024.0                  2024.0  \n",
       "157159                   PL          2021.0                  2024.0  \n",
       "\n",
       "[157160 rows x 16 columns]"
      ]
     },
     "execution_count": 25,
     "metadata": {},
     "output_type": "execute_result"
    }
   ],
   "source": [
    "# Keep only the columns of interest in votacoes_df\n",
    "votacoes_df_filtered = votacoes_df[[\n",
    "    'idVotacao', 'siglaOrgao', 'aprovacao', 'votosSim', \n",
    "    'votosNao', 'votosOutros', 'descricao', 'year', \n",
    "    'nomeOrgao', 'tipoOrgao'\n",
    "]]\n",
    "\n",
    "# Keep only the columns of interest in votacoesProposicoes_df\n",
    "votacoesProposicoes_df_filtered = votacoesProposicoes_df[[\n",
    "    'idVotacao', 'proposicao_id', 'proposicao_titulo', \n",
    "    'proposicao_ementa', 'proposicao_siglaTipo', \n",
    "    'proposicao_ano', 'proposicao_ano_arquivo'\n",
    "]]\n",
    "\n",
    "# Merge on the 'idVotacao' column.\n",
    "# 'how' can be 'inner', 'left', 'right', or 'outer'.\n",
    "# Use 'inner' if you only want matching rows,\n",
    "# or 'left' if you want all rows from votacoes_df plus matches from votacoesProposicoes_df, etc.\n",
    "votacoes_total_df = pd.merge(\n",
    "    votacoes_df_filtered,\n",
    "    votacoesProposicoes_df_filtered,\n",
    "    on='idVotacao',\n",
    "    how='left'  # or 'left', depending on your needs\n",
    ")\n",
    "\n",
    "votacoes_total_df"
   ]
  },
  {
   "cell_type": "markdown",
   "metadata": {},
   "source": [
    "## Analysing Data"
   ]
  },
  {
   "cell_type": "markdown",
   "metadata": {},
   "source": [
    "### Voting By siglaOrgao"
   ]
  },
  {
   "cell_type": "code",
   "execution_count": 26,
   "metadata": {},
   "outputs": [
    {
     "data": {
      "image/png": "[encoded data removed]",
      "text/plain": [
       "<Figure size 1200x600 with 1 Axes>"
      ]
     },
     "metadata": {},
     "output_type": "display_data"
    }
   ],
   "source": [
    "# Group by 'siglaOrgao' and count IDs\n",
    "votacoes_grouped = votacoes_total_df.groupby('tipoOrgao')['idVotacao'].count().reset_index(name='count')\n",
    "\n",
    "# Sort by count and split into top 10 + others\n",
    "votacoes_grouped = votacoes_grouped.sort_values(by='count', ascending=False).reset_index(drop=True)\n",
    "top_10 = votacoes_grouped.head(10)\n",
    "others_count = votacoes_grouped['count'][10:].sum()\n",
    "others_row = pd.DataFrame({'tipoOrgao': ['Others'], 'count': [others_count]})\n",
    "\n",
    "# Combine into final data for the chart\n",
    "votacoes_grouped = pd.concat([top_10, others_row], ignore_index=True)\n",
    "\n",
    "plt.figure(figsize=(12, 6))\n",
    "\n",
    "# Create the bar chart\n",
    "bars = plt.bar(\n",
    "    votacoes_grouped['tipoOrgao'], \n",
    "    votacoes_grouped['count'], \n",
    "    color='skyblue'\n",
    ")\n",
    "\n",
    "# Add labels on top of each bar\n",
    "for bar in bars:\n",
    "    height = bar.get_height()\n",
    "    plt.text(\n",
    "        bar.get_x() + bar.get_width()/2,   # X-position: center of the bar\n",
    "        height,                            # Y-position: at the top of the bar\n",
    "        f'{height}',                       # Text: the height (count)\n",
    "        ha='center', \n",
    "        va='bottom'\n",
    "    )\n",
    "\n",
    "# Title and X-label\n",
    "plt.title('Top 10 Organs (tipoOrgao) + Others (Count of IDs)')\n",
    "plt.xlabel('Organ (tipoOrgao)')\n",
    "\n",
    "# Remove the y-axis label/ticks\n",
    "plt.ylabel('')\n",
    "plt.yticks([])\n",
    "\n",
    "# Remove the grid\n",
    "plt.grid(False)\n",
    "\n",
    "# Rotate x-axis labels if needed\n",
    "plt.xticks(rotation=45)\n",
    "\n",
    "# Fit layout nicely\n",
    "plt.tight_layout()\n",
    "plt.show()"
   ]
  },
  {
   "cell_type": "markdown",
   "metadata": {},
   "source": [
    "### Voting in PLEN by year"
   ]
  },
  {
   "cell_type": "code",
   "execution_count": 27,
   "metadata": {},
   "outputs": [
    {
     "data": {
      "image/png": "[encoded data removed]",
      "text/plain": [
       "<Figure size 1400x700 with 1 Axes>"
      ]
     },
     "metadata": {},
     "output_type": "display_data"
    }
   ],
   "source": [
    "# Filter data for 'PLEN' and years 2003-2024\n",
    "voting_plen_df = votacoes_total_df[\n",
    "    (votacoes_total_df['tipoOrgao'] == 'Plenário Virtual')\n",
    "]\n",
    "\n",
    "# Group by year and count IDs\n",
    "yearly_counts = voting_plen_df.groupby('year')['idVotacao'].count().reset_index(name='count')\n",
    "\n",
    "# Ensure all years from 2003-2024 are included (even if count=0)\n",
    "all_years = pd.DataFrame({'year': range(2003, 2025)})  # 2025 is exclusive, so 2003-2024\n",
    "yearly_counts = all_years.merge(yearly_counts, on='year', how='left').fillna(0)\n",
    "\n",
    "# Plot the bar chart with data labels\n",
    "plt.figure(figsize=(14, 7))\n",
    "bars = plt.bar(yearly_counts['year'], yearly_counts['count'], color='#2ecc71')\n",
    "\n",
    "# Add data labels on top of each bar\n",
    "for bar in bars:\n",
    "    height = bar.get_height()\n",
    "    if height > 0:  # Only label bars with height > 0\n",
    "        plt.text(\n",
    "            bar.get_x() + bar.get_width() / 2,\n",
    "            height + 0.5,\n",
    "            f'{int(height)}',  # Display integer values\n",
    "            ha='center',\n",
    "            va='bottom',\n",
    "            fontsize=10\n",
    "        )\n",
    "\n",
    "# Customize the chart\n",
    "plt.title('Count of IDs per Year for PLEN (2003-2024)', fontsize=14, pad=20)\n",
    "plt.xlabel('Year', fontsize=12, labelpad=10)\n",
    "plt.xticks(yearly_counts['year'], rotation=45, fontsize=10)\n",
    "\n",
    "# Remove y-axis, grid, and spines\n",
    "plt.gca().spines['left'].set_visible(False)\n",
    "plt.gca().spines['right'].set_visible(False)\n",
    "plt.gca().spines['top'].set_visible(False)\n",
    "plt.gca().axes.yaxis.set_visible(False)\n",
    "plt.grid(False)\n",
    "\n",
    "plt.tight_layout()\n",
    "plt.show()"
   ]
  },
  {
   "cell_type": "markdown",
   "metadata": {},
   "source": [
    "### Propositions by Type"
   ]
  },
  {
   "cell_type": "code",
   "execution_count": 28,
   "metadata": {},
   "outputs": [
    {
     "data": {
      "image/png": "[encoded data removed]",
      "text/plain": [
       "<Figure size 1200x600 with 1 Axes>"
      ]
     },
     "metadata": {},
     "output_type": "display_data"
    }
   ],
   "source": [
    "# Group by 'siglaOrgao' and count IDs\n",
    "votacoes_grouped_prop_type = voting_plen_df.groupby('proposicao_siglaTipo')['idVotacao'].count().reset_index(name='count')\n",
    "\n",
    "# Sort by count and split into top 10 + others\n",
    "votacoes_grouped_prop_type = votacoes_grouped_prop_type.sort_values(by='count', ascending=False).reset_index(drop=True)\n",
    "top_10 = votacoes_grouped_prop_type.head(10)\n",
    "others_count = votacoes_grouped_prop_type['count'][10:].sum()\n",
    "others_row = pd.DataFrame({'proposicao_siglaTipo': ['Others'], 'count': [others_count]})\n",
    "\n",
    "# Combine into final data for the chart\n",
    "votacoes_grouped_prop_type = pd.concat([top_10, others_row], ignore_index=True)\n",
    "\n",
    "plt.figure(figsize=(12, 6))\n",
    "\n",
    "# Create the bar chart\n",
    "bars = plt.bar(\n",
    "    votacoes_grouped_prop_type['proposicao_siglaTipo'], \n",
    "    votacoes_grouped_prop_type['count'], \n",
    "    color='skyblue'\n",
    ")\n",
    "\n",
    "# Add labels on top of each bar\n",
    "for bar in bars:\n",
    "    height = bar.get_height()\n",
    "    plt.text(\n",
    "        bar.get_x() + bar.get_width()/2,   # X-position: center of the bar\n",
    "        height,                            # Y-position: at the top of the bar\n",
    "        f'{height}',                       # Text: the height (count)\n",
    "        ha='center', \n",
    "        va='bottom'\n",
    "    )\n",
    "\n",
    "# Title and X-label\n",
    "plt.title('Top 10 Organs (proposicao_siglaTipo) + Others (Count of IDs)')\n",
    "plt.xlabel('Proposition Type (proposicao_siglaTipo)')\n",
    "\n",
    "# Remove the y-axis label/ticks\n",
    "plt.ylabel('')\n",
    "plt.yticks([])\n",
    "\n",
    "# Remove the grid\n",
    "plt.grid(False)\n",
    "\n",
    "# Rotate x-axis labels if needed\n",
    "plt.xticks(rotation=45)\n",
    "\n",
    "# Fit layout nicely\n",
    "plt.tight_layout()\n",
    "plt.show()"
   ]
  },
  {
   "cell_type": "markdown",
   "metadata": {},
   "source": [
    "### PL Analysis"
   ]
  },
  {
   "cell_type": "code",
   "execution_count": 29,
   "metadata": {},
   "outputs": [
    {
     "name": "stderr",
     "output_type": "stream",
     "text": [
      "C:\\Users\\Pedro Natanael\\AppData\\Local\\Temp\\ipykernel_34332\\2074025120.py:4: SettingWithCopyWarning: \n",
      "A value is trying to be set on a copy of a slice from a DataFrame.\n",
      "Try using .loc[row_indexer,col_indexer] = value instead\n",
      "\n",
      "See the caveats in the documentation: https://pandas.pydata.org/pandas-docs/stable/user_guide/indexing.html#returning-a-view-versus-a-copy\n",
      "  voting_plen_selected_df['has_votes'] = (\n"
     ]
    },
    {
     "data": {
      "image/png": "[encoded data removed]",
      "text/plain": [
       "<Figure size 600x400 with 1 Axes>"
      ]
     },
     "metadata": {},
     "output_type": "display_data"
    }
   ],
   "source": [
    "voting_plen_selected_df = votacoes_total_df[(votacoes_total_df['tipoOrgao'] == 'Plenário Virtual') & (votacoes_total_df['proposicao_siglaTipo'] == 'PL')]\n",
    "\n",
    "# Step 1: Create a boolean column indicating if a row has any votes\n",
    "voting_plen_selected_df['has_votes'] = (\n",
    "    voting_plen_selected_df[['votosSim', 'votosNao', 'votosOutros']]\n",
    "    .fillna(0)\n",
    "    .sum(axis=1) > 0\n",
    ")\n",
    "\n",
    "# Step 2: Calculate counts of True/False\n",
    "counts = voting_plen_selected_df['has_votes'].value_counts()\n",
    "\n",
    "# Prepare labels in the right order: False (index 0), True (index 1)\n",
    "# or use .reindex() if you need a specific order\n",
    "labels = ['No Votes', 'Has Votes']\n",
    "# Match these labels to the counts: index=False->0, index=True->1\n",
    "values = [counts.get(False, 0), counts.get(True, 0)]\n",
    "\n",
    "# Step 3: Plot with the same style\n",
    "plt.figure(figsize=(6, 4))\n",
    "\n",
    "# Plot bars\n",
    "bars = plt.bar(labels, values, color='skyblue')\n",
    "\n",
    "# Place data labels above each bar\n",
    "for bar in bars:\n",
    "    height = bar.get_height()\n",
    "    plt.text(\n",
    "        bar.get_x() + bar.get_width()/2,\n",
    "        height,\n",
    "        f'{height}',\n",
    "        ha='center', \n",
    "        va='bottom'\n",
    "    )\n",
    "\n",
    "# Title\n",
    "plt.title('Rows with Registered Votes vs. No Votes\\n(Plenário Virtual, PL)')\n",
    "\n",
    "# Remove y-axis label and ticks\n",
    "plt.ylabel('')\n",
    "plt.yticks([])\n",
    "\n",
    "# Remove grid\n",
    "plt.grid(False)\n",
    "\n",
    "plt.tight_layout()\n",
    "plt.show()"
   ]
  },
  {
   "cell_type": "code",
   "execution_count": 30,
   "metadata": {},
   "outputs": [
    {
     "data": {
      "image/png": "[encoded data removed]",
      "text/plain": [
       "<Figure size 1000x600 with 1 Axes>"
      ]
     },
     "metadata": {},
     "output_type": "display_data"
    }
   ],
   "source": [
    "# 2. Filter only the rows that have votes\n",
    "has_votes_df = voting_plen_selected_df[voting_plen_selected_df['has_votes'] == True]\n",
    "\n",
    "# 3. Group by year to get the count of propositions that have votes\n",
    "counts_by_year = has_votes_df['year'].value_counts().sort_index()\n",
    "\n",
    "# 4. Plot the bar chart\n",
    "plt.figure(figsize=(10, 6))\n",
    "\n",
    "# We turn the index (the years) into strings on the x-axis\n",
    "bars = plt.bar(counts_by_year.index.astype(str), counts_by_year.values, color='skyblue')\n",
    "\n",
    "# 5. Place data labels (counts) above each bar\n",
    "for bar in bars:\n",
    "    height = bar.get_height()\n",
    "    plt.text(\n",
    "        bar.get_x() + bar.get_width() / 2,\n",
    "        height,\n",
    "        str(height),\n",
    "        ha='center',\n",
    "        va='bottom'\n",
    "    )\n",
    "\n",
    "# 6. Style the chart\n",
    "plt.title('Propositions with Votes by Year\\n(Plenário Virtual, PL)')\n",
    "plt.xlabel('Year')\n",
    "plt.ylabel('')         # Remove y-axis label\n",
    "plt.yticks([])         # Remove y-axis ticks\n",
    "plt.grid(False)        # Remove grid\n",
    "plt.tight_layout()\n",
    "\n",
    "plt.show()"
   ]
  },
  {
   "cell_type": "code",
   "execution_count": 31,
   "metadata": {},
   "outputs": [
    {
     "data": {
      "text/html": [
       "<div>\n",
       "<style scoped>\n",
       "    .dataframe tbody tr th:only-of-type {\n",
       "        vertical-align: middle;\n",
       "    }\n",
       "\n",
       "    .dataframe tbody tr th {\n",
       "        vertical-align: top;\n",
       "    }\n",
       "\n",
       "    .dataframe thead th {\n",
       "        text-align: right;\n",
       "    }\n",
       "</style>\n",
       "<table border=\"1\" class=\"dataframe\">\n",
       "  <thead>\n",
       "    <tr style=\"text-align: right;\">\n",
       "      <th></th>\n",
       "      <th>idVotacao</th>\n",
       "      <th>siglaOrgao</th>\n",
       "      <th>aprovacao</th>\n",
       "      <th>votosSim</th>\n",
       "      <th>votosNao</th>\n",
       "      <th>votosOutros</th>\n",
       "      <th>descricao</th>\n",
       "      <th>year</th>\n",
       "      <th>nomeOrgao</th>\n",
       "      <th>tipoOrgao</th>\n",
       "      <th>proposicao_id</th>\n",
       "      <th>proposicao_titulo</th>\n",
       "      <th>proposicao_ementa</th>\n",
       "      <th>proposicao_siglaTipo</th>\n",
       "      <th>proposicao_ano</th>\n",
       "      <th>proposicao_ano_arquivo</th>\n",
       "      <th>has_votes</th>\n",
       "    </tr>\n",
       "  </thead>\n",
       "  <tbody>\n",
       "    <tr>\n",
       "      <th>1</th>\n",
       "      <td>96076-49</td>\n",
       "      <td>PLEN</td>\n",
       "      <td>1</td>\n",
       "      <td>0</td>\n",
       "      <td>0</td>\n",
       "      <td>0</td>\n",
       "      <td>Aprovada a Redação Final oferecida pelo Relato...</td>\n",
       "      <td>2003</td>\n",
       "      <td>Plenário</td>\n",
       "      <td>Plenário Virtual</td>\n",
       "      <td>96076.0</td>\n",
       "      <td>PL 7262/2002</td>\n",
       "      <td>Dispõe sobre o Estatuto de Defesa do Torcedor ...</td>\n",
       "      <td>PL</td>\n",
       "      <td>2002.0</td>\n",
       "      <td>2003.0</td>\n",
       "      <td>False</td>\n",
       "    </tr>\n",
       "    <tr>\n",
       "      <th>5</th>\n",
       "      <td>96076-46</td>\n",
       "      <td>PLEN</td>\n",
       "      <td>1</td>\n",
       "      <td>0</td>\n",
       "      <td>0</td>\n",
       "      <td>0</td>\n",
       "      <td>Aprovado o Substitutivo oferecido pelo Relator...</td>\n",
       "      <td>2003</td>\n",
       "      <td>Plenário</td>\n",
       "      <td>Plenário Virtual</td>\n",
       "      <td>96076.0</td>\n",
       "      <td>PL 7262/2002</td>\n",
       "      <td>Dispõe sobre o Estatuto de Defesa do Torcedor ...</td>\n",
       "      <td>PL</td>\n",
       "      <td>2002.0</td>\n",
       "      <td>2003.0</td>\n",
       "      <td>False</td>\n",
       "    </tr>\n",
       "    <tr>\n",
       "      <th>22</th>\n",
       "      <td>19408-72</td>\n",
       "      <td>PLEN</td>\n",
       "      <td>1</td>\n",
       "      <td>0</td>\n",
       "      <td>0</td>\n",
       "      <td>0</td>\n",
       "      <td>Aprovado o Requerimento do Sr. Dep. José Carlo...</td>\n",
       "      <td>2003</td>\n",
       "      <td>Plenário</td>\n",
       "      <td>Plenário Virtual</td>\n",
       "      <td>19408.0</td>\n",
       "      <td>PL 3285/1992</td>\n",
       "      <td>Dispõe sobre a utilização e proteção da Mata A...</td>\n",
       "      <td>PL</td>\n",
       "      <td>1992.0</td>\n",
       "      <td>2003.0</td>\n",
       "      <td>False</td>\n",
       "    </tr>\n",
       "    <tr>\n",
       "      <th>23</th>\n",
       "      <td>21283-45</td>\n",
       "      <td>PLEN</td>\n",
       "      <td>1</td>\n",
       "      <td>0</td>\n",
       "      <td>0</td>\n",
       "      <td>0</td>\n",
       "      <td>Aprovado o Requerimento do Sr. Dep. Mendes Rib...</td>\n",
       "      <td>2003</td>\n",
       "      <td>Plenário</td>\n",
       "      <td>Plenário Virtual</td>\n",
       "      <td>21283.0</td>\n",
       "      <td>PL 6132/1990</td>\n",
       "      <td>Dispõe sobre o registro de pessoas fisicas ou ...</td>\n",
       "      <td>PL</td>\n",
       "      <td>1990.0</td>\n",
       "      <td>2003.0</td>\n",
       "      <td>False</td>\n",
       "    </tr>\n",
       "    <tr>\n",
       "      <th>24</th>\n",
       "      <td>90170-30</td>\n",
       "      <td>PLEN</td>\n",
       "      <td>1</td>\n",
       "      <td>0</td>\n",
       "      <td>0</td>\n",
       "      <td>0</td>\n",
       "      <td>Aprovado requerimento do Líderes que requer, n...</td>\n",
       "      <td>2003</td>\n",
       "      <td>Plenário</td>\n",
       "      <td>Plenário Virtual</td>\n",
       "      <td>90170.0</td>\n",
       "      <td>PL 7241/2002</td>\n",
       "      <td>Dispõe sobre a alienação por doação de uma Cor...</td>\n",
       "      <td>PL</td>\n",
       "      <td>2002.0</td>\n",
       "      <td>2003.0</td>\n",
       "      <td>False</td>\n",
       "    </tr>\n",
       "    <tr>\n",
       "      <th>...</th>\n",
       "      <td>...</td>\n",
       "      <td>...</td>\n",
       "      <td>...</td>\n",
       "      <td>...</td>\n",
       "      <td>...</td>\n",
       "      <td>...</td>\n",
       "      <td>...</td>\n",
       "      <td>...</td>\n",
       "      <td>...</td>\n",
       "      <td>...</td>\n",
       "      <td>...</td>\n",
       "      <td>...</td>\n",
       "      <td>...</td>\n",
       "      <td>...</td>\n",
       "      <td>...</td>\n",
       "      <td>...</td>\n",
       "      <td>...</td>\n",
       "    </tr>\n",
       "    <tr>\n",
       "      <th>157149</th>\n",
       "      <td>2473375-78</td>\n",
       "      <td>PLEN</td>\n",
       "      <td>1</td>\n",
       "      <td>277</td>\n",
       "      <td>174</td>\n",
       "      <td>2</td>\n",
       "      <td>Mantido o texto. Sim: 277; Não: 174; Abstenção...</td>\n",
       "      <td>2024</td>\n",
       "      <td>Plenário</td>\n",
       "      <td>Plenário Virtual</td>\n",
       "      <td>2473375.0</td>\n",
       "      <td>PL 4614/2024</td>\n",
       "      <td>Altera a Lei nº 8.171, de 17 de janeiro de 199...</td>\n",
       "      <td>PL</td>\n",
       "      <td>2024.0</td>\n",
       "      <td>2024.0</td>\n",
       "      <td>True</td>\n",
       "    </tr>\n",
       "    <tr>\n",
       "      <th>157150</th>\n",
       "      <td>2473375-80</td>\n",
       "      <td>PLEN</td>\n",
       "      <td>1</td>\n",
       "      <td>0</td>\n",
       "      <td>0</td>\n",
       "      <td>0</td>\n",
       "      <td>Aprovada a Redação Final assinada pelo relator...</td>\n",
       "      <td>2024</td>\n",
       "      <td>Plenário</td>\n",
       "      <td>Plenário Virtual</td>\n",
       "      <td>2473375.0</td>\n",
       "      <td>PL 4614/2024</td>\n",
       "      <td>Altera a Lei nº 8.171, de 17 de janeiro de 199...</td>\n",
       "      <td>PL</td>\n",
       "      <td>2024.0</td>\n",
       "      <td>2024.0</td>\n",
       "      <td>False</td>\n",
       "    </tr>\n",
       "    <tr>\n",
       "      <th>157151</th>\n",
       "      <td>2460010-35</td>\n",
       "      <td>PLEN</td>\n",
       "      <td>0</td>\n",
       "      <td>82</td>\n",
       "      <td>193</td>\n",
       "      <td>1</td>\n",
       "      <td>Rejeitado o Requerimento. Sim: 82; Não: 193; T...</td>\n",
       "      <td>2024</td>\n",
       "      <td>Plenário</td>\n",
       "      <td>Plenário Virtual</td>\n",
       "      <td>2460010.0</td>\n",
       "      <td>PL 3802/2024</td>\n",
       "      <td>Altera a Lei nº 14.467, de 16 de novembro de 2...</td>\n",
       "      <td>PL</td>\n",
       "      <td>2024.0</td>\n",
       "      <td>2024.0</td>\n",
       "      <td>True</td>\n",
       "    </tr>\n",
       "    <tr>\n",
       "      <th>157152</th>\n",
       "      <td>2460010-43</td>\n",
       "      <td>PLEN</td>\n",
       "      <td>1</td>\n",
       "      <td>340</td>\n",
       "      <td>117</td>\n",
       "      <td>2</td>\n",
       "      <td>Aprovado o Projeto de Lei nº 3.802, de 2024. S...</td>\n",
       "      <td>2024</td>\n",
       "      <td>Plenário</td>\n",
       "      <td>Plenário Virtual</td>\n",
       "      <td>2460010.0</td>\n",
       "      <td>PL 3802/2024</td>\n",
       "      <td>Altera a Lei nº 14.467, de 16 de novembro de 2...</td>\n",
       "      <td>PL</td>\n",
       "      <td>2024.0</td>\n",
       "      <td>2024.0</td>\n",
       "      <td>True</td>\n",
       "    </tr>\n",
       "    <tr>\n",
       "      <th>157153</th>\n",
       "      <td>2460010-45</td>\n",
       "      <td>PLEN</td>\n",
       "      <td>1</td>\n",
       "      <td>0</td>\n",
       "      <td>0</td>\n",
       "      <td>0</td>\n",
       "      <td>Aprovada a Redação Final assinada pelo relator...</td>\n",
       "      <td>2024</td>\n",
       "      <td>Plenário</td>\n",
       "      <td>Plenário Virtual</td>\n",
       "      <td>2460010.0</td>\n",
       "      <td>PL 3802/2024</td>\n",
       "      <td>Altera a Lei nº 14.467, de 16 de novembro de 2...</td>\n",
       "      <td>PL</td>\n",
       "      <td>2024.0</td>\n",
       "      <td>2024.0</td>\n",
       "      <td>False</td>\n",
       "    </tr>\n",
       "  </tbody>\n",
       "</table>\n",
       "<p>8779 rows × 17 columns</p>\n",
       "</div>"
      ],
      "text/plain": [
       "         idVotacao siglaOrgao  aprovacao  votosSim  votosNao  votosOutros  \\\n",
       "1         96076-49       PLEN          1         0         0            0   \n",
       "5         96076-46       PLEN          1         0         0            0   \n",
       "22        19408-72       PLEN          1         0         0            0   \n",
       "23        21283-45       PLEN          1         0         0            0   \n",
       "24        90170-30       PLEN          1         0         0            0   \n",
       "...            ...        ...        ...       ...       ...          ...   \n",
       "157149  2473375-78       PLEN          1       277       174            2   \n",
       "157150  2473375-80       PLEN          1         0         0            0   \n",
       "157151  2460010-35       PLEN          0        82       193            1   \n",
       "157152  2460010-43       PLEN          1       340       117            2   \n",
       "157153  2460010-45       PLEN          1         0         0            0   \n",
       "\n",
       "                                                descricao  year nomeOrgao  \\\n",
       "1       Aprovada a Redação Final oferecida pelo Relato...  2003  Plenário   \n",
       "5       Aprovado o Substitutivo oferecido pelo Relator...  2003  Plenário   \n",
       "22      Aprovado o Requerimento do Sr. Dep. José Carlo...  2003  Plenário   \n",
       "23      Aprovado o Requerimento do Sr. Dep. Mendes Rib...  2003  Plenário   \n",
       "24      Aprovado requerimento do Líderes que requer, n...  2003  Plenário   \n",
       "...                                                   ...   ...       ...   \n",
       "157149  Mantido o texto. Sim: 277; Não: 174; Abstenção...  2024  Plenário   \n",
       "157150  Aprovada a Redação Final assinada pelo relator...  2024  Plenário   \n",
       "157151  Rejeitado o Requerimento. Sim: 82; Não: 193; T...  2024  Plenário   \n",
       "157152  Aprovado o Projeto de Lei nº 3.802, de 2024. S...  2024  Plenário   \n",
       "157153  Aprovada a Redação Final assinada pelo relator...  2024  Plenário   \n",
       "\n",
       "               tipoOrgao  proposicao_id proposicao_titulo  \\\n",
       "1       Plenário Virtual        96076.0      PL 7262/2002   \n",
       "5       Plenário Virtual        96076.0      PL 7262/2002   \n",
       "22      Plenário Virtual        19408.0      PL 3285/1992   \n",
       "23      Plenário Virtual        21283.0      PL 6132/1990   \n",
       "24      Plenário Virtual        90170.0      PL 7241/2002   \n",
       "...                  ...            ...               ...   \n",
       "157149  Plenário Virtual      2473375.0      PL 4614/2024   \n",
       "157150  Plenário Virtual      2473375.0      PL 4614/2024   \n",
       "157151  Plenário Virtual      2460010.0      PL 3802/2024   \n",
       "157152  Plenário Virtual      2460010.0      PL 3802/2024   \n",
       "157153  Plenário Virtual      2460010.0      PL 3802/2024   \n",
       "\n",
       "                                        proposicao_ementa  \\\n",
       "1       Dispõe sobre o Estatuto de Defesa do Torcedor ...   \n",
       "5       Dispõe sobre o Estatuto de Defesa do Torcedor ...   \n",
       "22      Dispõe sobre a utilização e proteção da Mata A...   \n",
       "23      Dispõe sobre o registro de pessoas fisicas ou ...   \n",
       "24      Dispõe sobre a alienação por doação de uma Cor...   \n",
       "...                                                   ...   \n",
       "157149  Altera a Lei nº 8.171, de 17 de janeiro de 199...   \n",
       "157150  Altera a Lei nº 8.171, de 17 de janeiro de 199...   \n",
       "157151  Altera a Lei nº 14.467, de 16 de novembro de 2...   \n",
       "157152  Altera a Lei nº 14.467, de 16 de novembro de 2...   \n",
       "157153  Altera a Lei nº 14.467, de 16 de novembro de 2...   \n",
       "\n",
       "       proposicao_siglaTipo  proposicao_ano  proposicao_ano_arquivo  has_votes  \n",
       "1                        PL          2002.0                  2003.0      False  \n",
       "5                        PL          2002.0                  2003.0      False  \n",
       "22                       PL          1992.0                  2003.0      False  \n",
       "23                       PL          1990.0                  2003.0      False  \n",
       "24                       PL          2002.0                  2003.0      False  \n",
       "...                     ...             ...                     ...        ...  \n",
       "157149                   PL          2024.0                  2024.0       True  \n",
       "157150                   PL          2024.0                  2024.0      False  \n",
       "157151                   PL          2024.0                  2024.0       True  \n",
       "157152                   PL          2024.0                  2024.0       True  \n",
       "157153                   PL          2024.0                  2024.0      False  \n",
       "\n",
       "[8779 rows x 17 columns]"
      ]
     },
     "execution_count": 31,
     "metadata": {},
     "output_type": "execute_result"
    }
   ],
   "source": [
    "voting_plen_selected_df"
   ]
  },
  {
   "cell_type": "code",
   "execution_count": 32,
   "metadata": {},
   "outputs": [
    {
     "name": "stdout",
     "output_type": "stream",
     "text": [
      "Found years: [2003 2004 2005 2006 2007 2008 2009 2010 2011 2012 2013 2014 2015 2016\n",
      " 2017 2018 2019 2020 2021 2022 2023 2024]\n",
      "\n",
      "Processing year: 2003\n",
      "Loading file: data/voting/votes/votacoesVotos-2003.csv\n",
      "Successfully loaded data/voting/votes/votacoesVotos-2003.csv with 12380 rows.\n",
      "Found 350 unique 'idVotacao' values for year 2003.\n",
      "After filtering, 708 rows remain for year 2003.\n",
      "\n",
      "Processing year: 2004\n",
      "Loading file: data/voting/votes/votacoesVotos-2004.csv\n",
      "Successfully loaded data/voting/votes/votacoesVotos-2004.csv with 24903 rows.\n",
      "Found 184 unique 'idVotacao' values for year 2004.\n",
      "After filtering, 1637 rows remain for year 2004.\n",
      "\n",
      "Processing year: 2005\n",
      "Loading file: data/voting/votes/votacoesVotos-2005.csv\n",
      "Successfully loaded data/voting/votes/votacoesVotos-2005.csv with 17455 rows.\n",
      "Found 173 unique 'idVotacao' values for year 2005.\n",
      "After filtering, 2127 rows remain for year 2005.\n",
      "\n",
      "Processing year: 2006\n",
      "Loading file: data/voting/votes/votacoesVotos-2006.csv\n",
      "Successfully loaded data/voting/votes/votacoesVotos-2006.csv with 21045 rows.\n",
      "Found 191 unique 'idVotacao' values for year 2006.\n",
      "After filtering, 2550 rows remain for year 2006.\n",
      "\n",
      "Processing year: 2007\n",
      "Loading file: data/voting/votes/votacoesVotos-2007.csv\n",
      "Successfully loaded data/voting/votes/votacoesVotos-2007.csv with 41490 rows.\n",
      "Found 169 unique 'idVotacao' values for year 2007.\n",
      "After filtering, 7812 rows remain for year 2007.\n",
      "\n",
      "Processing year: 2008\n",
      "Loading file: data/voting/votes/votacoesVotos-2008.csv\n",
      "Successfully loaded data/voting/votes/votacoesVotos-2008.csv with 32110 rows.\n",
      "Found 218 unique 'idVotacao' values for year 2008.\n",
      "After filtering, 2749 rows remain for year 2008.\n",
      "\n",
      "Processing year: 2009\n",
      "Loading file: data/voting/votes/votacoesVotos-2009.csv\n",
      "Successfully loaded data/voting/votes/votacoesVotos-2009.csv with 45908 rows.\n",
      "Found 352 unique 'idVotacao' values for year 2009.\n",
      "After filtering, 14256 rows remain for year 2009.\n",
      "\n",
      "Processing year: 2010\n",
      "Loading file: data/voting/votes/votacoesVotos-2010.csv\n",
      "Successfully loaded data/voting/votes/votacoesVotos-2010.csv with 22295 rows.\n",
      "Found 121 unique 'idVotacao' values for year 2010.\n",
      "After filtering, 4997 rows remain for year 2010.\n",
      "\n",
      "Processing year: 2011\n",
      "Loading file: data/voting/votes/votacoesVotos-2011.csv\n",
      "Successfully loaded data/voting/votes/votacoesVotos-2011.csv with 33235 rows.\n",
      "Found 190 unique 'idVotacao' values for year 2011.\n",
      "After filtering, 4652 rows remain for year 2011.\n",
      "\n",
      "Processing year: 2012\n",
      "Loading file: data/voting/votes/votacoesVotos-2012.csv\n",
      "Successfully loaded data/voting/votes/votacoesVotos-2012.csv with 22729 rows.\n",
      "Found 377 unique 'idVotacao' values for year 2012.\n",
      "After filtering, 8315 rows remain for year 2012.\n",
      "\n",
      "Processing year: 2013\n",
      "Loading file: data/voting/votes/votacoesVotos-2013.csv\n",
      "Successfully loaded data/voting/votes/votacoesVotos-2013.csv with 43597 rows.\n",
      "Found 243 unique 'idVotacao' values for year 2013.\n",
      "After filtering, 7769 rows remain for year 2013.\n",
      "\n",
      "Processing year: 2014\n",
      "Loading file: data/voting/votes/votacoesVotos-2014.csv\n",
      "Successfully loaded data/voting/votes/votacoesVotos-2014.csv with 25213 rows.\n",
      "Found 237 unique 'idVotacao' values for year 2014.\n",
      "After filtering, 2167 rows remain for year 2014.\n",
      "\n",
      "Processing year: 2015\n",
      "Loading file: data/voting/votes/votacoesVotos-2015.csv\n",
      "Successfully loaded data/voting/votes/votacoesVotos-2015.csv with 113832 rows.\n",
      "Found 677 unique 'idVotacao' values for year 2015.\n",
      "After filtering, 32007 rows remain for year 2015.\n",
      "\n",
      "Processing year: 2016\n",
      "Loading file: data/voting/votes/votacoesVotos-2016.csv\n",
      "Successfully loaded data/voting/votes/votacoesVotos-2016.csv with 72419 rows.\n",
      "Found 270 unique 'idVotacao' values for year 2016.\n",
      "After filtering, 16864 rows remain for year 2016.\n",
      "\n",
      "Processing year: 2017\n",
      "Loading file: data/voting/votes/votacoesVotos-2017.csv\n",
      "Successfully loaded data/voting/votes/votacoesVotos-2017.csv with 76522 rows.\n",
      "Found 435 unique 'idVotacao' values for year 2017.\n",
      "After filtering, 18973 rows remain for year 2017.\n",
      "\n",
      "Processing year: 2018\n",
      "Loading file: data/voting/votes/votacoesVotos-2018.csv\n",
      "Successfully loaded data/voting/votes/votacoesVotos-2018.csv with 45941 rows.\n",
      "Found 340 unique 'idVotacao' values for year 2018.\n",
      "After filtering, 20031 rows remain for year 2018.\n",
      "\n",
      "Processing year: 2019\n",
      "Loading file: data/voting/votes/votacoesVotos-2019.csv\n",
      "Successfully loaded data/voting/votes/votacoesVotos-2019.csv with 120952 rows.\n",
      "Found 490 unique 'idVotacao' values for year 2019.\n",
      "After filtering, 49109 rows remain for year 2019.\n",
      "\n",
      "Processing year: 2020\n",
      "Loading file: data/voting/votes/votacoesVotos-2020.csv\n",
      "Successfully loaded data/voting/votes/votacoesVotos-2020.csv with 159717 rows.\n",
      "Found 596 unique 'idVotacao' values for year 2020.\n",
      "After filtering, 44768 rows remain for year 2020.\n",
      "\n",
      "Processing year: 2021\n",
      "Loading file: data/voting/votes/votacoesVotos-2021.csv\n",
      "Successfully loaded data/voting/votes/votacoesVotos-2021.csv with 322237 rows.\n",
      "Found 776 unique 'idVotacao' values for year 2021.\n",
      "After filtering, 132581 rows remain for year 2021.\n",
      "\n",
      "Processing year: 2022\n",
      "Loading file: data/voting/votes/votacoesVotos-2022.csv\n",
      "Successfully loaded data/voting/votes/votacoesVotos-2022.csv with 197189 rows.\n",
      "Found 595 unique 'idVotacao' values for year 2022.\n",
      "After filtering, 71164 rows remain for year 2022.\n",
      "\n",
      "Processing year: 2023\n",
      "Loading file: data/voting/votes/votacoesVotos-2023.csv\n",
      "Successfully loaded data/voting/votes/votacoesVotos-2023.csv with 128679 rows.\n",
      "Found 727 unique 'idVotacao' values for year 2023.\n",
      "After filtering, 71061 rows remain for year 2023.\n",
      "\n",
      "Processing year: 2024\n",
      "Loading file: data/voting/votes/votacoesVotos-2024.csv\n",
      "Successfully loaded data/voting/votes/votacoesVotos-2024.csv with 116400 rows.\n",
      "Found 1047 unique 'idVotacao' values for year 2024.\n",
      "After filtering, 71146 rows remain for year 2024.\n",
      "\n",
      "Final concatenated DataFrame 'votes_deputies_df' contains 587443 rows.\n"
     ]
    }
   ],
   "source": [
    "# Initialize a list to collect DataFrames for each year\n",
    "votes_deputies_list = []\n",
    "\n",
    "# Get the unique years from the voting_plen_selected_df dataset\n",
    "unique_years = voting_plen_selected_df['year'].unique()\n",
    "print(f\"Found years: {unique_years}\")\n",
    "\n",
    "# Loop over each unique year to process the respective CSV file\n",
    "for year in unique_years:\n",
    "    print(f\"\\nProcessing year: {year}\")\n",
    "    \n",
    "    # Construct the file path for the current year\n",
    "    file_path = f\"data/voting/votes/votacoesVotos-{year}.csv\"\n",
    "    print(f\"Loading file: {file_path}\")\n",
    "    \n",
    "    # Try to load the CSV file\n",
    "    try:\n",
    "        votes_year_df = pd.read_csv(file_path, delimiter=';', quotechar='\"')\n",
    "        print(f\"Successfully loaded {file_path} with {len(votes_year_df)} rows.\")\n",
    "    except Exception as e:\n",
    "        print(f\"Error loading file {file_path}: {e}\")\n",
    "        continue  # Skip this year if there's an error\n",
    "\n",
    "    # Get the list of idVotacao values for this year from voting_plen_selected_df\n",
    "    id_list = voting_plen_selected_df.loc[\n",
    "        voting_plen_selected_df['year'] == year, 'idVotacao'\n",
    "    ].unique()\n",
    "    print(f\"Found {len(id_list)} unique 'idVotacao' values for year {year}.\")\n",
    "\n",
    "    # Filter the votes dataframe to only include rows with idVotacao in id_list\n",
    "    filtered_votes_df = votes_year_df[votes_year_df['idVotacao'].isin(id_list)]\n",
    "    print(f\"After filtering, {len(filtered_votes_df)} rows remain for year {year}.\")\n",
    "\n",
    "    # Add a new column 'year' to the filtered DataFrame\n",
    "    filtered_votes_df = filtered_votes_df.assign(year=year)\n",
    "    \n",
    "    # Append the filtered DataFrame to the list\n",
    "    votes_deputies_list.append(filtered_votes_df)\n",
    "\n",
    "# Concatenate all the filtered DataFrames into a single DataFrame\n",
    "votes_deputies_df = pd.concat(votes_deputies_list, ignore_index=True)\n",
    "print(f\"\\nFinal concatenated DataFrame 'votes_deputies_df' contains {len(votes_deputies_df)} rows.\")"
   ]
  },
  {
   "cell_type": "code",
   "execution_count": 33,
   "metadata": {},
   "outputs": [
    {
     "data": {
      "text/html": [
       "<div>\n",
       "<style scoped>\n",
       "    .dataframe tbody tr th:only-of-type {\n",
       "        vertical-align: middle;\n",
       "    }\n",
       "\n",
       "    .dataframe tbody tr th {\n",
       "        vertical-align: top;\n",
       "    }\n",
       "\n",
       "    .dataframe thead th {\n",
       "        text-align: right;\n",
       "    }\n",
       "</style>\n",
       "<table border=\"1\" class=\"dataframe\">\n",
       "  <thead>\n",
       "    <tr style=\"text-align: right;\">\n",
       "      <th></th>\n",
       "      <th>idVotacao</th>\n",
       "      <th>uriVotacao</th>\n",
       "      <th>dataHoraVoto</th>\n",
       "      <th>voto</th>\n",
       "      <th>deputado_id</th>\n",
       "      <th>deputado_uri</th>\n",
       "      <th>deputado_nome</th>\n",
       "      <th>deputado_siglaPartido</th>\n",
       "      <th>deputado_uriPartido</th>\n",
       "      <th>deputado_siglaUf</th>\n",
       "      <th>deputado_idLegislatura</th>\n",
       "      <th>deputado_urlFoto</th>\n",
       "      <th>year</th>\n",
       "    </tr>\n",
       "  </thead>\n",
       "  <tbody>\n",
       "    <tr>\n",
       "      <th>0</th>\n",
       "      <td>143282-5</td>\n",
       "      <td>https://dadosabertos.camara.leg.br/api/v2/vota...</td>\n",
       "      <td>2003-11-18T19:02:33</td>\n",
       "      <td>Não</td>\n",
       "      <td>73764.0</td>\n",
       "      <td>https://dadosabertos.camara.leg.br/api/v2/depu...</td>\n",
       "      <td>Abelardo Lupion</td>\n",
       "      <td>PFL</td>\n",
       "      <td>https://dadosabertos.camara.leg.br/api/v2/part...</td>\n",
       "      <td>PR</td>\n",
       "      <td>52</td>\n",
       "      <td>https://www.camara.leg.br/internet/deputado/ba...</td>\n",
       "      <td>2003</td>\n",
       "    </tr>\n",
       "    <tr>\n",
       "      <th>1</th>\n",
       "      <td>143282-5</td>\n",
       "      <td>https://dadosabertos.camara.leg.br/api/v2/vota...</td>\n",
       "      <td>2003-11-18T19:09:55</td>\n",
       "      <td>Sim</td>\n",
       "      <td>73886.0</td>\n",
       "      <td>https://dadosabertos.camara.leg.br/api/v2/depu...</td>\n",
       "      <td>Adão Pretto</td>\n",
       "      <td>PT</td>\n",
       "      <td>https://dadosabertos.camara.leg.br/api/v2/part...</td>\n",
       "      <td>RS</td>\n",
       "      <td>52</td>\n",
       "      <td>https://www.camara.leg.br/internet/deputado/ba...</td>\n",
       "      <td>2003</td>\n",
       "    </tr>\n",
       "    <tr>\n",
       "      <th>2</th>\n",
       "      <td>143282-5</td>\n",
       "      <td>https://dadosabertos.camara.leg.br/api/v2/vota...</td>\n",
       "      <td>2003-11-18T18:58:01</td>\n",
       "      <td>Não</td>\n",
       "      <td>73765.0</td>\n",
       "      <td>https://dadosabertos.camara.leg.br/api/v2/depu...</td>\n",
       "      <td>Affonso Camargo</td>\n",
       "      <td>PSDB</td>\n",
       "      <td>https://dadosabertos.camara.leg.br/api/v2/part...</td>\n",
       "      <td>PR</td>\n",
       "      <td>52</td>\n",
       "      <td>https://www.camara.leg.br/internet/deputado/ba...</td>\n",
       "      <td>2003</td>\n",
       "    </tr>\n",
       "    <tr>\n",
       "      <th>3</th>\n",
       "      <td>143282-5</td>\n",
       "      <td>https://dadosabertos.camara.leg.br/api/v2/vota...</td>\n",
       "      <td>2003-11-18T18:57:59</td>\n",
       "      <td>Sim</td>\n",
       "      <td>74358.0</td>\n",
       "      <td>https://dadosabertos.camara.leg.br/api/v2/depu...</td>\n",
       "      <td>Agnaldo Muniz</td>\n",
       "      <td>PPS</td>\n",
       "      <td>https://dadosabertos.camara.leg.br/api/v2/part...</td>\n",
       "      <td>RO</td>\n",
       "      <td>52</td>\n",
       "      <td>https://www.camara.leg.br/internet/deputado/ba...</td>\n",
       "      <td>2003</td>\n",
       "    </tr>\n",
       "    <tr>\n",
       "      <th>4</th>\n",
       "      <td>143282-5</td>\n",
       "      <td>https://dadosabertos.camara.leg.br/api/v2/vota...</td>\n",
       "      <td>2003-11-18T19:04:07</td>\n",
       "      <td>Sim</td>\n",
       "      <td>73457.0</td>\n",
       "      <td>https://dadosabertos.camara.leg.br/api/v2/depu...</td>\n",
       "      <td>Airton Roveda</td>\n",
       "      <td>PMDB</td>\n",
       "      <td>https://dadosabertos.camara.leg.br/api/v2/part...</td>\n",
       "      <td>PR</td>\n",
       "      <td>52</td>\n",
       "      <td>https://www.camara.leg.br/internet/deputado/ba...</td>\n",
       "      <td>2003</td>\n",
       "    </tr>\n",
       "    <tr>\n",
       "      <th>...</th>\n",
       "      <td>...</td>\n",
       "      <td>...</td>\n",
       "      <td>...</td>\n",
       "      <td>...</td>\n",
       "      <td>...</td>\n",
       "      <td>...</td>\n",
       "      <td>...</td>\n",
       "      <td>...</td>\n",
       "      <td>...</td>\n",
       "      <td>...</td>\n",
       "      <td>...</td>\n",
       "      <td>...</td>\n",
       "      <td>...</td>\n",
       "    </tr>\n",
       "    <tr>\n",
       "      <th>587438</th>\n",
       "      <td>565397-185</td>\n",
       "      <td>https://dadosabertos.camara.leg.br/api/v2/vota...</td>\n",
       "      <td>2024-10-16T19:58:10</td>\n",
       "      <td>Sim</td>\n",
       "      <td>220536.0</td>\n",
       "      <td>https://dadosabertos.camara.leg.br/api/v2/depu...</td>\n",
       "      <td>Zé Haroldo Cathedral</td>\n",
       "      <td>PSD</td>\n",
       "      <td>https://dadosabertos.camara.leg.br/api/v2/part...</td>\n",
       "      <td>RR</td>\n",
       "      <td>57</td>\n",
       "      <td>https://www.camara.leg.br/internet/deputado/ba...</td>\n",
       "      <td>2024</td>\n",
       "    </tr>\n",
       "    <tr>\n",
       "      <th>587439</th>\n",
       "      <td>565397-185</td>\n",
       "      <td>https://dadosabertos.camara.leg.br/api/v2/vota...</td>\n",
       "      <td>2024-10-16T20:00:02</td>\n",
       "      <td>Não</td>\n",
       "      <td>160632.0</td>\n",
       "      <td>https://dadosabertos.camara.leg.br/api/v2/depu...</td>\n",
       "      <td>Zé Silva</td>\n",
       "      <td>SOLIDARIEDADE</td>\n",
       "      <td>https://dadosabertos.camara.leg.br/api/v2/part...</td>\n",
       "      <td>MG</td>\n",
       "      <td>57</td>\n",
       "      <td>https://www.camara.leg.br/internet/deputado/ba...</td>\n",
       "      <td>2024</td>\n",
       "    </tr>\n",
       "    <tr>\n",
       "      <th>587440</th>\n",
       "      <td>565397-185</td>\n",
       "      <td>https://dadosabertos.camara.leg.br/api/v2/vota...</td>\n",
       "      <td>2024-10-16T19:59:56</td>\n",
       "      <td>Não</td>\n",
       "      <td>204517.0</td>\n",
       "      <td>https://dadosabertos.camara.leg.br/api/v2/depu...</td>\n",
       "      <td>Zé Vitor</td>\n",
       "      <td>PL</td>\n",
       "      <td>https://dadosabertos.camara.leg.br/api/v2/part...</td>\n",
       "      <td>MG</td>\n",
       "      <td>57</td>\n",
       "      <td>https://www.camara.leg.br/internet/deputado/ba...</td>\n",
       "      <td>2024</td>\n",
       "    </tr>\n",
       "    <tr>\n",
       "      <th>587441</th>\n",
       "      <td>565397-185</td>\n",
       "      <td>https://dadosabertos.camara.leg.br/api/v2/vota...</td>\n",
       "      <td>2024-10-16T19:59:29</td>\n",
       "      <td>Não</td>\n",
       "      <td>220592.0</td>\n",
       "      <td>https://dadosabertos.camara.leg.br/api/v2/depu...</td>\n",
       "      <td>Zezinho Barbary</td>\n",
       "      <td>PP</td>\n",
       "      <td>https://dadosabertos.camara.leg.br/api/v2/part...</td>\n",
       "      <td>AC</td>\n",
       "      <td>57</td>\n",
       "      <td>https://www.camara.leg.br/internet/deputado/ba...</td>\n",
       "      <td>2024</td>\n",
       "    </tr>\n",
       "    <tr>\n",
       "      <th>587442</th>\n",
       "      <td>565397-185</td>\n",
       "      <td>https://dadosabertos.camara.leg.br/api/v2/vota...</td>\n",
       "      <td>2024-10-16T20:00:55</td>\n",
       "      <td>Sim</td>\n",
       "      <td>220552.0</td>\n",
       "      <td>https://dadosabertos.camara.leg.br/api/v2/depu...</td>\n",
       "      <td>Zucco</td>\n",
       "      <td>PL</td>\n",
       "      <td>https://dadosabertos.camara.leg.br/api/v2/part...</td>\n",
       "      <td>RS</td>\n",
       "      <td>57</td>\n",
       "      <td>https://www.camara.leg.br/internet/deputado/ba...</td>\n",
       "      <td>2024</td>\n",
       "    </tr>\n",
       "  </tbody>\n",
       "</table>\n",
       "<p>587443 rows × 13 columns</p>\n",
       "</div>"
      ],
      "text/plain": [
       "         idVotacao                                         uriVotacao  \\\n",
       "0         143282-5  https://dadosabertos.camara.leg.br/api/v2/vota...   \n",
       "1         143282-5  https://dadosabertos.camara.leg.br/api/v2/vota...   \n",
       "2         143282-5  https://dadosabertos.camara.leg.br/api/v2/vota...   \n",
       "3         143282-5  https://dadosabertos.camara.leg.br/api/v2/vota...   \n",
       "4         143282-5  https://dadosabertos.camara.leg.br/api/v2/vota...   \n",
       "...            ...                                                ...   \n",
       "587438  565397-185  https://dadosabertos.camara.leg.br/api/v2/vota...   \n",
       "587439  565397-185  https://dadosabertos.camara.leg.br/api/v2/vota...   \n",
       "587440  565397-185  https://dadosabertos.camara.leg.br/api/v2/vota...   \n",
       "587441  565397-185  https://dadosabertos.camara.leg.br/api/v2/vota...   \n",
       "587442  565397-185  https://dadosabertos.camara.leg.br/api/v2/vota...   \n",
       "\n",
       "               dataHoraVoto voto  deputado_id  \\\n",
       "0       2003-11-18T19:02:33  Não      73764.0   \n",
       "1       2003-11-18T19:09:55  Sim      73886.0   \n",
       "2       2003-11-18T18:58:01  Não      73765.0   \n",
       "3       2003-11-18T18:57:59  Sim      74358.0   \n",
       "4       2003-11-18T19:04:07  Sim      73457.0   \n",
       "...                     ...  ...          ...   \n",
       "587438  2024-10-16T19:58:10  Sim     220536.0   \n",
       "587439  2024-10-16T20:00:02  Não     160632.0   \n",
       "587440  2024-10-16T19:59:56  Não     204517.0   \n",
       "587441  2024-10-16T19:59:29  Não     220592.0   \n",
       "587442  2024-10-16T20:00:55  Sim     220552.0   \n",
       "\n",
       "                                             deputado_uri  \\\n",
       "0       https://dadosabertos.camara.leg.br/api/v2/depu...   \n",
       "1       https://dadosabertos.camara.leg.br/api/v2/depu...   \n",
       "2       https://dadosabertos.camara.leg.br/api/v2/depu...   \n",
       "3       https://dadosabertos.camara.leg.br/api/v2/depu...   \n",
       "4       https://dadosabertos.camara.leg.br/api/v2/depu...   \n",
       "...                                                   ...   \n",
       "587438  https://dadosabertos.camara.leg.br/api/v2/depu...   \n",
       "587439  https://dadosabertos.camara.leg.br/api/v2/depu...   \n",
       "587440  https://dadosabertos.camara.leg.br/api/v2/depu...   \n",
       "587441  https://dadosabertos.camara.leg.br/api/v2/depu...   \n",
       "587442  https://dadosabertos.camara.leg.br/api/v2/depu...   \n",
       "\n",
       "               deputado_nome deputado_siglaPartido  \\\n",
       "0            Abelardo Lupion                   PFL   \n",
       "1                Adão Pretto                    PT   \n",
       "2            Affonso Camargo                  PSDB   \n",
       "3              Agnaldo Muniz                   PPS   \n",
       "4              Airton Roveda                  PMDB   \n",
       "...                      ...                   ...   \n",
       "587438  Zé Haroldo Cathedral                   PSD   \n",
       "587439              Zé Silva         SOLIDARIEDADE   \n",
       "587440              Zé Vitor                    PL   \n",
       "587441       Zezinho Barbary                    PP   \n",
       "587442                 Zucco                    PL   \n",
       "\n",
       "                                      deputado_uriPartido deputado_siglaUf  \\\n",
       "0       https://dadosabertos.camara.leg.br/api/v2/part...               PR   \n",
       "1       https://dadosabertos.camara.leg.br/api/v2/part...               RS   \n",
       "2       https://dadosabertos.camara.leg.br/api/v2/part...               PR   \n",
       "3       https://dadosabertos.camara.leg.br/api/v2/part...               RO   \n",
       "4       https://dadosabertos.camara.leg.br/api/v2/part...               PR   \n",
       "...                                                   ...              ...   \n",
       "587438  https://dadosabertos.camara.leg.br/api/v2/part...               RR   \n",
       "587439  https://dadosabertos.camara.leg.br/api/v2/part...               MG   \n",
       "587440  https://dadosabertos.camara.leg.br/api/v2/part...               MG   \n",
       "587441  https://dadosabertos.camara.leg.br/api/v2/part...               AC   \n",
       "587442  https://dadosabertos.camara.leg.br/api/v2/part...               RS   \n",
       "\n",
       "        deputado_idLegislatura  \\\n",
       "0                           52   \n",
       "1                           52   \n",
       "2                           52   \n",
       "3                           52   \n",
       "4                           52   \n",
       "...                        ...   \n",
       "587438                      57   \n",
       "587439                      57   \n",
       "587440                      57   \n",
       "587441                      57   \n",
       "587442                      57   \n",
       "\n",
       "                                         deputado_urlFoto  year  \n",
       "0       https://www.camara.leg.br/internet/deputado/ba...  2003  \n",
       "1       https://www.camara.leg.br/internet/deputado/ba...  2003  \n",
       "2       https://www.camara.leg.br/internet/deputado/ba...  2003  \n",
       "3       https://www.camara.leg.br/internet/deputado/ba...  2003  \n",
       "4       https://www.camara.leg.br/internet/deputado/ba...  2003  \n",
       "...                                                   ...   ...  \n",
       "587438  https://www.camara.leg.br/internet/deputado/ba...  2024  \n",
       "587439  https://www.camara.leg.br/internet/deputado/ba...  2024  \n",
       "587440  https://www.camara.leg.br/internet/deputado/ba...  2024  \n",
       "587441  https://www.camara.leg.br/internet/deputado/ba...  2024  \n",
       "587442  https://www.camara.leg.br/internet/deputado/ba...  2024  \n",
       "\n",
       "[587443 rows x 13 columns]"
      ]
     },
     "execution_count": 33,
     "metadata": {},
     "output_type": "execute_result"
    }
   ],
   "source": [
    "votes_deputies_df"
   ]
  },
  {
   "cell_type": "code",
   "execution_count": 34,
   "metadata": {},
   "outputs": [
    {
     "data": {
      "image/png": "[encoded data removed]",
      "text/plain": [
       "<Figure size 1000x600 with 1 Axes>"
      ]
     },
     "metadata": {},
     "output_type": "display_data"
    }
   ],
   "source": [
    "# Group the data by the new 'year' column and count unique 'idVotacao' values per year\n",
    "unique_id_counts = votes_deputies_df.groupby('year')['idVotacao'].nunique()\n",
    "\n",
    "# Create a bar chart\n",
    "plt.figure(figsize=(10, 6))\n",
    "bars = plt.bar(unique_id_counts.index.astype(str), unique_id_counts.values, color='skyblue')\n",
    "\n",
    "# Annotate each bar with the unique count value (displaying the value above each bar)\n",
    "for bar in bars:\n",
    "    height = bar.get_height()\n",
    "    plt.text(\n",
    "        bar.get_x() + bar.get_width() / 2,  # Center of the bar\n",
    "        height,                            # Position at the top of the bar\n",
    "        f'{int(height)}',                  # Text label\n",
    "        ha='center',                       # Center horizontally\n",
    "        va='bottom'                        # Place text just above the bar\n",
    "    )\n",
    "\n",
    "# Rotate the x-axis tick labels by 45 degrees for better visibility\n",
    "plt.xticks(rotation=45)\n",
    "\n",
    "# Remove the y-axis and grid lines for a cleaner look\n",
    "plt.gca().axes.get_yaxis().set_visible(False)\n",
    "plt.grid(False)\n",
    "\n",
    "# Add title and x-axis label\n",
    "plt.title('Unique idVotacao per Year')\n",
    "plt.xlabel('Year')\n",
    "\n",
    "# Adjust layout to prevent clipping of tick-labels\n",
    "plt.tight_layout()\n",
    "\n",
    "# Display the plot\n",
    "plt.show()"
   ]
  },
  {
   "cell_type": "code",
   "execution_count": 35,
   "metadata": {},
   "outputs": [
    {
     "data": {
      "text/plain": [
       "1      Aprovada a Redação Final oferecida pelo Relato...\n",
       "5      Aprovado o Substitutivo oferecido pelo Relator...\n",
       "22     Aprovado o Requerimento do Sr. Dep. José Carlo...\n",
       "23     Aprovado o Requerimento do Sr. Dep. Mendes Rib...\n",
       "24     Aprovado requerimento do Líderes que requer, n...\n",
       "30     Aprovado o Requerimento do Sr. Dep. Sarney Fil...\n",
       "38                                              Aprovado\n",
       "42     Aprovada a Redação Final oferecida pelo Relato...\n",
       "44     Aprovado Requerimento do Sr. Dep. Wilson Santo...\n",
       "47                             Aprovado o Projeto de Lei\n",
       "196    Aprovado REQ 450/2003 do Sr. Maurício Rabelo q...\n",
       "197                              Aprovado o Requerimento\n",
       "198                              Aprovado o Requerimento\n",
       "200                              Aprovado o Requerimento\n",
       "201    Aprovado requerimento n. 457/2003 do Sr. Maurí...\n",
       "202    Aprovado requerimento n. 455/2003 do Sr. Luiz ...\n",
       "346                            Rejeitado o Requerimento.\n",
       "357    Aprovada a Redação Final oferecida pelo Relato...\n",
       "359    Aprovada a Redação Final oferecida pelo Relato...\n",
       "360                    Aprovado Requerimento de Urgência\n",
       "370                              Aprovado o Requerimento\n",
       "371    Aprovado o Projeto de Lei nº 3.462, de 2000, r...\n",
       "372    Aprovado o Requerimento do Sr. Dep. Henrique F...\n",
       "373    Aprovada a Emenda Substitutiva Global nº 6, co...\n",
       "374                     Aprovada a Subemenda do Relator.\n",
       "375    Aprovado o Requerimento do Sr. Dep. Eduardo Go...\n",
       "465    Aprovado Requerimento de Srs. Líderes que soli...\n",
       "466    Aprovado requerimento do Sr. Aldo Rebelo que r...\n",
       "487                              Aprovado o Requerimento\n",
       "589    Aprovadas as Emendas de Plenário de nºs. 7,  1...\n",
       "Name: descricao, dtype: object"
      ]
     },
     "execution_count": 35,
     "metadata": {},
     "output_type": "execute_result"
    }
   ],
   "source": [
    "voting_plen_selected_df['descricao'].head(30)"
   ]
  },
  {
   "cell_type": "code",
   "execution_count": 36,
   "metadata": {},
   "outputs": [
    {
     "name": "stdout",
     "output_type": "stream",
     "text": [
      "Unique descriptions have been exported to 'unique_descriptions.csv'\n"
     ]
    }
   ],
   "source": [
    "# Extract unique values from the 'descricao' column\n",
    "unique_descriptions = voting_plen_selected_df['descricao'].unique()\n",
    "\n",
    "# Convert the unique values into a DataFrame\n",
    "unique_descriptions_df = pd.DataFrame(unique_descriptions, columns=['descricao'])\n",
    "\n",
    "# Optional: Sort the descriptions for better readability\n",
    "unique_descriptions_df = unique_descriptions_df.sort_values('descricao')\n",
    "\n",
    "# Export the DataFrame to a CSV file without the index\n",
    "output_file = 'unique_descriptions.csv'\n",
    "unique_descriptions_df.to_csv(output_file, index=False)\n",
    "\n",
    "print(f\"Unique descriptions have been exported to '{output_file}'\")"
   ]
  },
  {
   "cell_type": "code",
   "execution_count": 37,
   "metadata": {},
   "outputs": [
    {
     "name": "stderr",
     "output_type": "stream",
     "text": [
      "C:\\Users\\Pedro Natanael\\AppData\\Local\\Temp\\ipykernel_34332\\945611861.py:229: SettingWithCopyWarning: \n",
      "A value is trying to be set on a copy of a slice from a DataFrame.\n",
      "Try using .loc[row_indexer,col_indexer] = value instead\n",
      "\n",
      "See the caveats in the documentation: https://pandas.pydata.org/pandas-docs/stable/user_guide/indexing.html#returning-a-view-versus-a-copy\n",
      "  voting_plen_selected_df[['category', 'detected_phrase']] = voting_plen_selected_df['descricao'].apply(\n",
      "C:\\Users\\Pedro Natanael\\AppData\\Local\\Temp\\ipykernel_34332\\945611861.py:229: SettingWithCopyWarning: \n",
      "A value is trying to be set on a copy of a slice from a DataFrame.\n",
      "Try using .loc[row_indexer,col_indexer] = value instead\n",
      "\n",
      "See the caveats in the documentation: https://pandas.pydata.org/pandas-docs/stable/user_guide/indexing.html#returning-a-view-versus-a-copy\n",
      "  voting_plen_selected_df[['category', 'detected_phrase']] = voting_plen_selected_df['descricao'].apply(\n"
     ]
    }
   ],
   "source": [
    "def categorize_description(text):\n",
    "    # Ensure the text is a string (handle NaN or non-string values)\n",
    "    if not isinstance(text, str):\n",
    "        return \"Other\", None\n",
    "\n",
    "    # Convert text to lowercase to ignore case differences\n",
    "    text_lower = text.lower()\n",
    "    \n",
    "    # --- Proposition Approval ---\n",
    "    proposition_phrases = [\n",
    "        \"aprovado o projeto\",\n",
    "        \"aprovado o pl\",\n",
    "        \"aprovado o §\",\n",
    "        \"votação do §\",\n",
    "        \"aprovado este projeto\",\n",
    "        \"aprovado o texto\",\n",
    "        \"restabelecido o texto\",\n",
    "        \"mantido o texto\",\n",
    "        \"mantido texto\",\n",
    "        \"suprimido o texto\",\n",
    "        \"suprimidos os artigos destacados\",\n",
    "        \"aprovada a supressão\",\n",
    "        \"aprovado a redação\", # ok\n",
    "        \"aprovada a redação\", # ok\n",
    "        \"mantido o dispositivo\",\n",
    "        \"aprovado o dispositivo\",\n",
    "        \"aprovados os dispositivos\",\n",
    "        \"mantido o §\",\n",
    "        \"rejeitado o dispositivo\",\n",
    "        \"mantido o artigo\",\n",
    "        \"aprovado o art\",\n",
    "        \"mantido o  artigo\",\n",
    "        \"aprovados os artigos\",\n",
    "        \"aprovado o recurso\",\n",
    "        \"rejeitada a supressão\",\n",
    "        \"não acolhido pela mesa o destaque\",\n",
    "        \"rejeitado o projeto\",\n",
    "        \"rejeitado este projeto\",\n",
    "        \"rejeitado o texto\",\n",
    "        \"rejeitado a redação\", # ok\n",
    "        \"rejeitada a redação\", # ok\n",
    "        \"suprimido o dispositivo\",\n",
    "        \"rejeitados os artigos\",\n",
    "        \"mantidos os artigos\",\n",
    "        \"rejeitado o art\",\n",
    "        \"suprimido o art\",\n",
    "        \"rejeitados o art\",\n",
    "        \"rejeitado o recurso\",\n",
    "        \"rejeição do recurso\",\n",
    "        \"suprimidos o texto\",\n",
    "        \"rejeitados os dispositivos constantes\",\n",
    "        \"mantidos os dispositivos\",\n",
    "        \"suprimidos os dispositivos\",\n",
    "        \"rejeitada a alínea\",\n",
    "        \"rejeitada a apreciação\",\n",
    "        \"aprovado o ofício\"\n",
    "    ]\n",
    "    for phrase in proposition_phrases:\n",
    "        if phrase in text_lower:\n",
    "            return \"Proposition Approval\", phrase\n",
    "\n",
    "    # --- Text Editing ---\n",
    "    text_editing_phrases = [\n",
    "        \"aprovado o substitutivo\",\n",
    "        \"aprovada a substituição\",\n",
    "        \"rejeitado o substitutivo\",\n",
    "        \"rejeitado os dispositivos do substitutivo\",\n",
    "        \"rejeitados os dispositivos do substitutivo\",\n",
    "        \"rejeitada a substituição\",\n",
    "        \"aprovado a emenda substitutiva\",\n",
    "        \"emenda aglutinativa substitutiva\",\n",
    "        \"rejeitadas as alterações\",\n",
    "        \"aprovada a emenda\",\n",
    "        \"aprovada a  emenda\",\n",
    "        \"aprovados a ementa\",\n",
    "        \"aprovada a parte da emenda\",\n",
    "        \"aprovada emenda\",\n",
    "        \"aprovadas as emendas\",\n",
    "        \"aprovadas as  emendas\",\n",
    "        \"aprovação das emendas\",\n",
    "        \"aprovadas das emendas\",\n",
    "        \"aprovadas as emenda\",\n",
    "        \"aprovada as emendas\",\n",
    "        \"aprovadas, em globo, as emendas\",\n",
    "        \"aprovadas em globo as emendas\",\n",
    "        \"mantida a parte da emenda\",\n",
    "        \"rejeitada a emenda\",\n",
    "        \"rejeitada emenda\",\n",
    "        \"não acolhida pela mesa a emenda\",\n",
    "        \"rejeitada a a emenda\",\n",
    "        \"suprimida a emenda\",\n",
    "        \"rejeitada as emendas\",\n",
    "        \"rejeitadas, em globo, as emendas\",\n",
    "        \"rejeitadas em globo as emendas\",\n",
    "        \"rejeitada a parte da emenda\",\n",
    "        \"rejeitadas a emenda\",\n",
    "        \"rejeitas as emendas\",\n",
    "        \"rejeitados a emenda\",\n",
    "        \"rejeitado a emenda\",\n",
    "        \"rejeitadas as emendas\",\n",
    "        \"as emendas de redação\",\n",
    "        \"rejeitadas  as emendas\",\n",
    "        \"rejeitadas as emenda\",\n",
    "        \"rejeitada a subemenda\",\n",
    "        \"aprovada a subemenda\",\n",
    "        \"aprovada, por unanimidade, a subemenda\",\n",
    "        \"aprovada a subemeda\",\n",
    "        \"aprovada  a subemenda\",\n",
    "        \"aprovada a  subemenda\",\n",
    "        \"aprovada a submenda\",\n",
    "        \"aprovado a subemenda\",\n",
    "        \"aprovadas as subemendas\",\n",
    "        \"rejeitadas as subemendas\",\n",
    "        \"rejeitadas, em globo, as subemendas\",\n",
    "        \"rejeitada a submenda\",\n",
    "        \"mantido o inciso\",\n",
    "        \"suprimido o inciso\",\n",
    "        \"rejeitados os incisos\",\n",
    "        \"mantida a expressão\",\n",
    "        \"aprovada a expressão\",\n",
    "        \"rejeitada a expressão\",\n",
    "        \"suprimida a expressão\",\n",
    "        \"mantida a  expressão\",\n",
    "        \"mantidas as expressões\",\n",
    "        \"mantido o parágrafo\",\n",
    "        \"rejeitado o parágrafo\",\n",
    "        \"revogação do referido art\",\n",
    "        \"acrescentado o dispositivo\"\n",
    "    ]\n",
    "    for phrase in text_editing_phrases:\n",
    "        if phrase in text_lower:\n",
    "            return \"Text Editing\", phrase\n",
    "\n",
    "    # --- Procedural Vote ---\n",
    "    procedural_phrases = [\n",
    "        #\"aprovado requerimento\",\n",
    "        #\"aprovação do requerimento\",\n",
    "        #\"aprovado req\",\n",
    "        #\"aprovado o req\",\n",
    "        #\"aprovação do req\",\n",
    "        \"apresentação do req\",\n",
    "        #\"o requerimento\",\n",
    "        #\"indeferido requerimento\",\n",
    "        #\"rejeitada a proposta\",\n",
    "        \n",
    "        \"aprovado, por unanimidade, requerimento\",\n",
    "        #\"alteração do regime\",\n",
    "        \"aprovado destaque\",\n",
    "        \"aprovado o destaque\",\n",
    "        \"aprovado o dtq\",\n",
    "        \"rejeitado destaque\",\n",
    "        \"rejeitada a admissibilidade dos destaques\",\n",
    "        \"rejeitado o destaque\",\n",
    "        \"rejeitado o detaque\",\n",
    "        #\"rejeitados em globo os destaques\",\n",
    "        \"admissibilidade dos destaques\",\n",
    "        \"rejeitado o dtq\",\n",
    "        \"rejeitada a admissibilidade\",\n",
    "        #\"rejeitados, em globo, os requerimentos\",\n",
    "        #\"rejeitados em globo os requerimentos\",\n",
    "        \"aprovada a preferência\",\n",
    "        \"para que possa tramitar\",\n",
    "        \"rejeitada a concessão do efeito\",\n",
    "        \"solicita a revisão\",\n",
    "        \"substittutivo da comissão\",\n",
    "        \"encaminhamento\"\n",
    "    ]\n",
    "    for phrase in procedural_phrases:\n",
    "        if phrase in text_lower:\n",
    "            return \"Procedural Vote\", phrase\n",
    "\n",
    "    # --- Change in Agenda ---\n",
    "    agenda_phrases = [\n",
    "        \"modificação na ordem do dia\",\n",
    "        \"modificações na ordem do dia\",\n",
    "        \"rejeitada a preferência\",\n",
    "        \"retirada de pauta\",\n",
    "        \"para que a votação seja\"\n",
    "    ]\n",
    "    for phrase in agenda_phrases:\n",
    "        if phrase in text_lower:\n",
    "            return \"Change in Agenda\", phrase\n",
    "        \n",
    "    # --- Urgency Request ---\n",
    "    urgency_phrases = [\n",
    "        \"requerimento de urgência\",\n",
    "        \"aprovada a urgência\",\n",
    "        \"urgência para apreciação do Projeto\",\n",
    "        \"urgência para este projeto\",\n",
    "        \"aprovada por unanimidade a urgência\",\n",
    "        \"aprovada a requerimento de urgência\",\n",
    "        \"aprovada a urgencia\",\n",
    "        \"aprovado a urgência\",\n",
    "        \"urgência para o pl\"\n",
    "    ]\n",
    "    for phrase in urgency_phrases:\n",
    "        if phrase in text_lower:\n",
    "            return \"Urgency Request\", phrase\n",
    "        \n",
    "    # --- Project Removal ---\n",
    "    removal_phrases = [\n",
    "        \"aprovada a mensagem\"\n",
    "    ]\n",
    "    for phrase in removal_phrases:\n",
    "        if phrase in text_lower:\n",
    "            return \"Project Removal\", phrase\n",
    "        \n",
    "    # --- Highlight Request / Destaque ---\n",
    "    highlight_phrases = [\n",
    "        \"requerimentos de destaques\"\n",
    "    ]\n",
    "    for phrase in highlight_phrases:\n",
    "        if phrase in text_lower:\n",
    "            return \"Highlight Requests\", phrase\n",
    "        \n",
    "    # --- Unite Propositions / Apensação ---\n",
    "    unite_phrases = [\n",
    "        \"apensação\"\n",
    "    ]\n",
    "    for phrase in unite_phrases:\n",
    "        if phrase in text_lower:\n",
    "            return \"Unite Propositions\", phrase\n",
    "\n",
    "    # If no phrases are found, return \"Other\" with no detected phrase.\n",
    "    return \"Other\", None\n",
    "\n",
    "\n",
    "# Apply the function and expand the returned tuple into two separate columns\n",
    "voting_plen_selected_df[['category', 'detected_phrase']] = voting_plen_selected_df['descricao'].apply(\n",
    "    lambda x: pd.Series(categorize_description(x))\n",
    ")\n"
   ]
  },
  {
   "cell_type": "code",
   "execution_count": 38,
   "metadata": {},
   "outputs": [
    {
     "data": {
      "image/png": "[encoded data removed]",
      "text/plain": [
       "<Figure size 800x600 with 1 Axes>"
      ]
     },
     "metadata": {},
     "output_type": "display_data"
    }
   ],
   "source": [
    "# Calculate counts for each category\n",
    "category_counts = voting_plen_selected_df['category'].value_counts()\n",
    "\n",
    "# Create a figure and axis\n",
    "fig, ax = plt.subplots(figsize=(8, 6))\n",
    "\n",
    "# Create a bar plot\n",
    "bars = ax.bar(category_counts.index, category_counts.values, color='steelblue')\n",
    "\n",
    "# Rotate x-axis labels by 45 degrees\n",
    "plt.xticks(rotation=45, ha='right')\n",
    "\n",
    "# Annotate each bar with its count above it\n",
    "for bar in bars:\n",
    "    height = bar.get_height()\n",
    "    ax.annotate(\n",
    "        f'{int(height)}',                      # Text to display\n",
    "        xy=(bar.get_x() + bar.get_width()/2, height),  # Position at the center top of the bar\n",
    "        xytext=(0, 3),                         # Offset the text by 3 points vertically\n",
    "        textcoords=\"offset points\",\n",
    "        ha='center', va='bottom'\n",
    "    )\n",
    "\n",
    "# Remove the y-axis and grid lines\n",
    "ax.get_yaxis().set_visible(False)\n",
    "ax.grid(False)\n",
    "\n",
    "plt.show()"
   ]
  },
  {
   "cell_type": "code",
   "execution_count": 39,
   "metadata": {},
   "outputs": [
    {
     "data": {
      "text/html": [
       "<div>\n",
       "<style scoped>\n",
       "    .dataframe tbody tr th:only-of-type {\n",
       "        vertical-align: middle;\n",
       "    }\n",
       "\n",
       "    .dataframe tbody tr th {\n",
       "        vertical-align: top;\n",
       "    }\n",
       "\n",
       "    .dataframe thead th {\n",
       "        text-align: right;\n",
       "    }\n",
       "</style>\n",
       "<table border=\"1\" class=\"dataframe\">\n",
       "  <thead>\n",
       "    <tr style=\"text-align: right;\">\n",
       "      <th></th>\n",
       "      <th>idVotacao</th>\n",
       "      <th>siglaOrgao</th>\n",
       "      <th>aprovacao</th>\n",
       "      <th>votosSim</th>\n",
       "      <th>votosNao</th>\n",
       "      <th>votosOutros</th>\n",
       "      <th>descricao</th>\n",
       "      <th>year</th>\n",
       "      <th>nomeOrgao</th>\n",
       "      <th>tipoOrgao</th>\n",
       "      <th>proposicao_id</th>\n",
       "      <th>proposicao_titulo</th>\n",
       "      <th>proposicao_ementa</th>\n",
       "      <th>proposicao_siglaTipo</th>\n",
       "      <th>proposicao_ano</th>\n",
       "      <th>proposicao_ano_arquivo</th>\n",
       "      <th>has_votes</th>\n",
       "      <th>category</th>\n",
       "      <th>detected_phrase</th>\n",
       "    </tr>\n",
       "  </thead>\n",
       "  <tbody>\n",
       "    <tr>\n",
       "      <th>1</th>\n",
       "      <td>96076-49</td>\n",
       "      <td>PLEN</td>\n",
       "      <td>1</td>\n",
       "      <td>0</td>\n",
       "      <td>0</td>\n",
       "      <td>0</td>\n",
       "      <td>Aprovada a Redação Final oferecida pelo Relato...</td>\n",
       "      <td>2003</td>\n",
       "      <td>Plenário</td>\n",
       "      <td>Plenário Virtual</td>\n",
       "      <td>96076.0</td>\n",
       "      <td>PL 7262/2002</td>\n",
       "      <td>Dispõe sobre o Estatuto de Defesa do Torcedor ...</td>\n",
       "      <td>PL</td>\n",
       "      <td>2002.0</td>\n",
       "      <td>2003.0</td>\n",
       "      <td>False</td>\n",
       "      <td>Proposition Approval</td>\n",
       "      <td>aprovada a redação</td>\n",
       "    </tr>\n",
       "    <tr>\n",
       "      <th>42</th>\n",
       "      <td>90170-25</td>\n",
       "      <td>PLEN</td>\n",
       "      <td>1</td>\n",
       "      <td>0</td>\n",
       "      <td>0</td>\n",
       "      <td>0</td>\n",
       "      <td>Aprovada a Redação Final oferecida pelo Relato...</td>\n",
       "      <td>2003</td>\n",
       "      <td>Plenário</td>\n",
       "      <td>Plenário Virtual</td>\n",
       "      <td>90170.0</td>\n",
       "      <td>PL 7241/2002</td>\n",
       "      <td>Dispõe sobre a alienação por doação de uma Cor...</td>\n",
       "      <td>PL</td>\n",
       "      <td>2002.0</td>\n",
       "      <td>2003.0</td>\n",
       "      <td>False</td>\n",
       "      <td>Proposition Approval</td>\n",
       "      <td>aprovada a redação</td>\n",
       "    </tr>\n",
       "    <tr>\n",
       "      <th>47</th>\n",
       "      <td>90170-23</td>\n",
       "      <td>PLEN</td>\n",
       "      <td>1</td>\n",
       "      <td>0</td>\n",
       "      <td>0</td>\n",
       "      <td>0</td>\n",
       "      <td>Aprovado o Projeto de Lei</td>\n",
       "      <td>2003</td>\n",
       "      <td>Plenário</td>\n",
       "      <td>Plenário Virtual</td>\n",
       "      <td>90170.0</td>\n",
       "      <td>PL 7241/2002</td>\n",
       "      <td>Dispõe sobre a alienação por doação de uma Cor...</td>\n",
       "      <td>PL</td>\n",
       "      <td>2002.0</td>\n",
       "      <td>2003.0</td>\n",
       "      <td>False</td>\n",
       "      <td>Proposition Approval</td>\n",
       "      <td>aprovado o projeto</td>\n",
       "    </tr>\n",
       "    <tr>\n",
       "      <th>357</th>\n",
       "      <td>18480-65</td>\n",
       "      <td>PLEN</td>\n",
       "      <td>1</td>\n",
       "      <td>0</td>\n",
       "      <td>0</td>\n",
       "      <td>0</td>\n",
       "      <td>Aprovada a Redação Final oferecida pelo Relato...</td>\n",
       "      <td>2003</td>\n",
       "      <td>Plenário</td>\n",
       "      <td>Plenário Virtual</td>\n",
       "      <td>18480.0</td>\n",
       "      <td>PL 2681/1996</td>\n",
       "      <td>Dá nova redação aos §§ 1º e 3º do art. 184 e a...</td>\n",
       "      <td>PL</td>\n",
       "      <td>1996.0</td>\n",
       "      <td>2003.0</td>\n",
       "      <td>False</td>\n",
       "      <td>Proposition Approval</td>\n",
       "      <td>aprovada a redação</td>\n",
       "    </tr>\n",
       "    <tr>\n",
       "      <th>359</th>\n",
       "      <td>19701-54</td>\n",
       "      <td>PLEN</td>\n",
       "      <td>1</td>\n",
       "      <td>0</td>\n",
       "      <td>0</td>\n",
       "      <td>0</td>\n",
       "      <td>Aprovada a Redação Final oferecida pelo Relato...</td>\n",
       "      <td>2003</td>\n",
       "      <td>Plenário</td>\n",
       "      <td>Plenário Virtual</td>\n",
       "      <td>19701.0</td>\n",
       "      <td>PL 3462/2000</td>\n",
       "      <td>Anistia os trabalhadores da Empresa Brasileira...</td>\n",
       "      <td>PL</td>\n",
       "      <td>2000.0</td>\n",
       "      <td>2003.0</td>\n",
       "      <td>False</td>\n",
       "      <td>Proposition Approval</td>\n",
       "      <td>aprovada a redação</td>\n",
       "    </tr>\n",
       "    <tr>\n",
       "      <th>...</th>\n",
       "      <td>...</td>\n",
       "      <td>...</td>\n",
       "      <td>...</td>\n",
       "      <td>...</td>\n",
       "      <td>...</td>\n",
       "      <td>...</td>\n",
       "      <td>...</td>\n",
       "      <td>...</td>\n",
       "      <td>...</td>\n",
       "      <td>...</td>\n",
       "      <td>...</td>\n",
       "      <td>...</td>\n",
       "      <td>...</td>\n",
       "      <td>...</td>\n",
       "      <td>...</td>\n",
       "      <td>...</td>\n",
       "      <td>...</td>\n",
       "      <td>...</td>\n",
       "      <td>...</td>\n",
       "    </tr>\n",
       "    <tr>\n",
       "      <th>157117</th>\n",
       "      <td>2269745-148</td>\n",
       "      <td>PLEN</td>\n",
       "      <td>1</td>\n",
       "      <td>0</td>\n",
       "      <td>0</td>\n",
       "      <td>0</td>\n",
       "      <td>Aprovada a Redação Final assinada pela relator...</td>\n",
       "      <td>2024</td>\n",
       "      <td>Plenário</td>\n",
       "      <td>Plenário Virtual</td>\n",
       "      <td>2269745.0</td>\n",
       "      <td>PL 327/2021</td>\n",
       "      <td>Dispõe sobre a Política Nacional da Transição ...</td>\n",
       "      <td>PL</td>\n",
       "      <td>2021.0</td>\n",
       "      <td>2024.0</td>\n",
       "      <td>False</td>\n",
       "      <td>Proposition Approval</td>\n",
       "      <td>aprovada a redação</td>\n",
       "    </tr>\n",
       "    <tr>\n",
       "      <th>157149</th>\n",
       "      <td>2473375-78</td>\n",
       "      <td>PLEN</td>\n",
       "      <td>1</td>\n",
       "      <td>277</td>\n",
       "      <td>174</td>\n",
       "      <td>2</td>\n",
       "      <td>Mantido o texto. Sim: 277; Não: 174; Abstenção...</td>\n",
       "      <td>2024</td>\n",
       "      <td>Plenário</td>\n",
       "      <td>Plenário Virtual</td>\n",
       "      <td>2473375.0</td>\n",
       "      <td>PL 4614/2024</td>\n",
       "      <td>Altera a Lei nº 8.171, de 17 de janeiro de 199...</td>\n",
       "      <td>PL</td>\n",
       "      <td>2024.0</td>\n",
       "      <td>2024.0</td>\n",
       "      <td>True</td>\n",
       "      <td>Proposition Approval</td>\n",
       "      <td>mantido o texto</td>\n",
       "    </tr>\n",
       "    <tr>\n",
       "      <th>157150</th>\n",
       "      <td>2473375-80</td>\n",
       "      <td>PLEN</td>\n",
       "      <td>1</td>\n",
       "      <td>0</td>\n",
       "      <td>0</td>\n",
       "      <td>0</td>\n",
       "      <td>Aprovada a Redação Final assinada pelo relator...</td>\n",
       "      <td>2024</td>\n",
       "      <td>Plenário</td>\n",
       "      <td>Plenário Virtual</td>\n",
       "      <td>2473375.0</td>\n",
       "      <td>PL 4614/2024</td>\n",
       "      <td>Altera a Lei nº 8.171, de 17 de janeiro de 199...</td>\n",
       "      <td>PL</td>\n",
       "      <td>2024.0</td>\n",
       "      <td>2024.0</td>\n",
       "      <td>False</td>\n",
       "      <td>Proposition Approval</td>\n",
       "      <td>aprovada a redação</td>\n",
       "    </tr>\n",
       "    <tr>\n",
       "      <th>157152</th>\n",
       "      <td>2460010-43</td>\n",
       "      <td>PLEN</td>\n",
       "      <td>1</td>\n",
       "      <td>340</td>\n",
       "      <td>117</td>\n",
       "      <td>2</td>\n",
       "      <td>Aprovado o Projeto de Lei nº 3.802, de 2024. S...</td>\n",
       "      <td>2024</td>\n",
       "      <td>Plenário</td>\n",
       "      <td>Plenário Virtual</td>\n",
       "      <td>2460010.0</td>\n",
       "      <td>PL 3802/2024</td>\n",
       "      <td>Altera a Lei nº 14.467, de 16 de novembro de 2...</td>\n",
       "      <td>PL</td>\n",
       "      <td>2024.0</td>\n",
       "      <td>2024.0</td>\n",
       "      <td>True</td>\n",
       "      <td>Proposition Approval</td>\n",
       "      <td>aprovado o projeto</td>\n",
       "    </tr>\n",
       "    <tr>\n",
       "      <th>157153</th>\n",
       "      <td>2460010-45</td>\n",
       "      <td>PLEN</td>\n",
       "      <td>1</td>\n",
       "      <td>0</td>\n",
       "      <td>0</td>\n",
       "      <td>0</td>\n",
       "      <td>Aprovada a Redação Final assinada pelo relator...</td>\n",
       "      <td>2024</td>\n",
       "      <td>Plenário</td>\n",
       "      <td>Plenário Virtual</td>\n",
       "      <td>2460010.0</td>\n",
       "      <td>PL 3802/2024</td>\n",
       "      <td>Altera a Lei nº 14.467, de 16 de novembro de 2...</td>\n",
       "      <td>PL</td>\n",
       "      <td>2024.0</td>\n",
       "      <td>2024.0</td>\n",
       "      <td>False</td>\n",
       "      <td>Proposition Approval</td>\n",
       "      <td>aprovada a redação</td>\n",
       "    </tr>\n",
       "  </tbody>\n",
       "</table>\n",
       "<p>2576 rows × 19 columns</p>\n",
       "</div>"
      ],
      "text/plain": [
       "          idVotacao siglaOrgao  aprovacao  votosSim  votosNao  votosOutros  \\\n",
       "1          96076-49       PLEN          1         0         0            0   \n",
       "42         90170-25       PLEN          1         0         0            0   \n",
       "47         90170-23       PLEN          1         0         0            0   \n",
       "357        18480-65       PLEN          1         0         0            0   \n",
       "359        19701-54       PLEN          1         0         0            0   \n",
       "...             ...        ...        ...       ...       ...          ...   \n",
       "157117  2269745-148       PLEN          1         0         0            0   \n",
       "157149   2473375-78       PLEN          1       277       174            2   \n",
       "157150   2473375-80       PLEN          1         0         0            0   \n",
       "157152   2460010-43       PLEN          1       340       117            2   \n",
       "157153   2460010-45       PLEN          1         0         0            0   \n",
       "\n",
       "                                                descricao  year nomeOrgao  \\\n",
       "1       Aprovada a Redação Final oferecida pelo Relato...  2003  Plenário   \n",
       "42      Aprovada a Redação Final oferecida pelo Relato...  2003  Plenário   \n",
       "47                              Aprovado o Projeto de Lei  2003  Plenário   \n",
       "357     Aprovada a Redação Final oferecida pelo Relato...  2003  Plenário   \n",
       "359     Aprovada a Redação Final oferecida pelo Relato...  2003  Plenário   \n",
       "...                                                   ...   ...       ...   \n",
       "157117  Aprovada a Redação Final assinada pela relator...  2024  Plenário   \n",
       "157149  Mantido o texto. Sim: 277; Não: 174; Abstenção...  2024  Plenário   \n",
       "157150  Aprovada a Redação Final assinada pelo relator...  2024  Plenário   \n",
       "157152  Aprovado o Projeto de Lei nº 3.802, de 2024. S...  2024  Plenário   \n",
       "157153  Aprovada a Redação Final assinada pelo relator...  2024  Plenário   \n",
       "\n",
       "               tipoOrgao  proposicao_id proposicao_titulo  \\\n",
       "1       Plenário Virtual        96076.0      PL 7262/2002   \n",
       "42      Plenário Virtual        90170.0      PL 7241/2002   \n",
       "47      Plenário Virtual        90170.0      PL 7241/2002   \n",
       "357     Plenário Virtual        18480.0      PL 2681/1996   \n",
       "359     Plenário Virtual        19701.0      PL 3462/2000   \n",
       "...                  ...            ...               ...   \n",
       "157117  Plenário Virtual      2269745.0       PL 327/2021   \n",
       "157149  Plenário Virtual      2473375.0      PL 4614/2024   \n",
       "157150  Plenário Virtual      2473375.0      PL 4614/2024   \n",
       "157152  Plenário Virtual      2460010.0      PL 3802/2024   \n",
       "157153  Plenário Virtual      2460010.0      PL 3802/2024   \n",
       "\n",
       "                                        proposicao_ementa  \\\n",
       "1       Dispõe sobre o Estatuto de Defesa do Torcedor ...   \n",
       "42      Dispõe sobre a alienação por doação de uma Cor...   \n",
       "47      Dispõe sobre a alienação por doação de uma Cor...   \n",
       "357     Dá nova redação aos §§ 1º e 3º do art. 184 e a...   \n",
       "359     Anistia os trabalhadores da Empresa Brasileira...   \n",
       "...                                                   ...   \n",
       "157117  Dispõe sobre a Política Nacional da Transição ...   \n",
       "157149  Altera a Lei nº 8.171, de 17 de janeiro de 199...   \n",
       "157150  Altera a Lei nº 8.171, de 17 de janeiro de 199...   \n",
       "157152  Altera a Lei nº 14.467, de 16 de novembro de 2...   \n",
       "157153  Altera a Lei nº 14.467, de 16 de novembro de 2...   \n",
       "\n",
       "       proposicao_siglaTipo  proposicao_ano  proposicao_ano_arquivo  \\\n",
       "1                        PL          2002.0                  2003.0   \n",
       "42                       PL          2002.0                  2003.0   \n",
       "47                       PL          2002.0                  2003.0   \n",
       "357                      PL          1996.0                  2003.0   \n",
       "359                      PL          2000.0                  2003.0   \n",
       "...                     ...             ...                     ...   \n",
       "157117                   PL          2021.0                  2024.0   \n",
       "157149                   PL          2024.0                  2024.0   \n",
       "157150                   PL          2024.0                  2024.0   \n",
       "157152                   PL          2024.0                  2024.0   \n",
       "157153                   PL          2024.0                  2024.0   \n",
       "\n",
       "        has_votes              category     detected_phrase  \n",
       "1           False  Proposition Approval  aprovada a redação  \n",
       "42          False  Proposition Approval  aprovada a redação  \n",
       "47          False  Proposition Approval  aprovado o projeto  \n",
       "357         False  Proposition Approval  aprovada a redação  \n",
       "359         False  Proposition Approval  aprovada a redação  \n",
       "...           ...                   ...                 ...  \n",
       "157117      False  Proposition Approval  aprovada a redação  \n",
       "157149       True  Proposition Approval     mantido o texto  \n",
       "157150      False  Proposition Approval  aprovada a redação  \n",
       "157152       True  Proposition Approval  aprovado o projeto  \n",
       "157153      False  Proposition Approval  aprovada a redação  \n",
       "\n",
       "[2576 rows x 19 columns]"
      ]
     },
     "execution_count": 39,
     "metadata": {},
     "output_type": "execute_result"
    }
   ],
   "source": [
    "voting_plen_selected_df[(voting_plen_selected_df['category']=='Proposition Approval')]"
   ]
  },
  {
   "cell_type": "markdown",
   "metadata": {},
   "source": [
    "# LLM Classification"
   ]
  },
  {
   "cell_type": "code",
   "execution_count": 40,
   "metadata": {},
   "outputs": [],
   "source": [
    "# Load API key from environment or .env file\n",
    "load_dotenv()\n",
    "api_key = os.getenv(\"GROQ_API_KEY\")\n",
    "\n",
    "if not api_key:\n",
    "    raise ValueError(\"API Key is missing. Set the 'GROQ_API_KEY' as an environment variable or in a .env file.\")"
   ]
  },
  {
   "cell_type": "code",
   "execution_count": 41,
   "metadata": {},
   "outputs": [],
   "source": [
    "# Initialize Groq client\n",
    "client = Groq(api_key=api_key)"
   ]
  },
  {
   "cell_type": "code",
   "execution_count": 42,
   "metadata": {},
   "outputs": [],
   "source": [
    "# Define categories\n",
    "CATEGORIES = [\n",
    "    \"Aprovação do texto ou redação final\",\n",
    "    \"edição ou substitutivo de texto\",\n",
    "    \"requerimento de mudança de agenda\",\n",
    "    \"requerimento de urgência\",\n",
    "    \"remoção do projeto\",\n",
    "    \"requerimento de destaque\",\n",
    "    \"apensação de projeto\",\n",
    "    \"outros\"\n",
    "]"
   ]
  },
  {
   "cell_type": "code",
   "execution_count": 43,
   "metadata": {},
   "outputs": [],
   "source": [
    "# Load your dataset\n",
    "df = voting_plen_selected_df  # Assuming it is already loaded in memory"
   ]
  },
  {
   "cell_type": "code",
   "execution_count": 46,
   "metadata": {},
   "outputs": [
    {
     "name": "stdout",
     "output_type": "stream",
     "text": [
      "Loaded dataset with 8779 rows. Processing in 88 batches of 100 rows each.\n",
      "\n",
      "🔄 Processing batch 1/88 (0 to 99)...\n"
     ]
    },
    {
     "name": "stderr",
     "output_type": "stream",
     "text": [
      "Processing: 100%|██████████| 100/100 [03:27<00:00,  2.07s/it]\n"
     ]
    },
    {
     "name": "stdout",
     "output_type": "stream",
     "text": [
      "\n",
      "✅ Batch 1 completed! File saved as classified_voting_texts_batch_1.csv.\n",
      "\n",
      "🔄 Processing batch 2/88 (100 to 199)...\n"
     ]
    },
    {
     "name": "stderr",
     "output_type": "stream",
     "text": [
      "Processing:  87%|████████▋ | 87/100 [02:57<01:00,  4.62s/it]"
     ]
    },
    {
     "name": "stdout",
     "output_type": "stream",
     "text": [
      "Error processing text at index 186: Error code: 503 - {'error': {'message': 'Service Unavailable', 'type': 'internal_server_error'}}\n"
     ]
    },
    {
     "name": "stderr",
     "output_type": "stream",
     "text": [
      "Processing: 100%|██████████| 100/100 [03:24<00:00,  2.04s/it]\n"
     ]
    },
    {
     "name": "stdout",
     "output_type": "stream",
     "text": [
      "\n",
      "✅ Batch 2 completed! File saved as classified_voting_texts_batch_2.csv.\n",
      "\n",
      "🔄 Processing batch 3/88 (200 to 299)...\n"
     ]
    },
    {
     "name": "stderr",
     "output_type": "stream",
     "text": [
      "Processing:  93%|█████████▎| 93/100 [02:43<00:02,  2.43it/s]"
     ]
    },
    {
     "name": "stdout",
     "output_type": "stream",
     "text": [
      "[Warning] Unexpected classification output at index 292: Rejection of Requests\n"
     ]
    },
    {
     "name": "stderr",
     "output_type": "stream",
     "text": [
      "Processing: 100%|██████████| 100/100 [02:45<00:00,  1.66s/it]\n"
     ]
    },
    {
     "name": "stdout",
     "output_type": "stream",
     "text": [
      "\n",
      "✅ Batch 3 completed! File saved as classified_voting_texts_batch_3.csv.\n",
      "\n",
      "🔄 Processing batch 4/88 (300 to 399)...\n"
     ]
    },
    {
     "name": "stderr",
     "output_type": "stream",
     "text": [
      "Processing: 100%|██████████| 100/100 [03:07<00:00,  1.88s/it]\n"
     ]
    },
    {
     "name": "stdout",
     "output_type": "stream",
     "text": [
      "\n",
      "✅ Batch 4 completed! File saved as classified_voting_texts_batch_4.csv.\n",
      "\n",
      "🔄 Processing batch 5/88 (400 to 499)...\n"
     ]
    },
    {
     "name": "stderr",
     "output_type": "stream",
     "text": [
      "Processing: 100%|██████████| 100/100 [04:22<00:00,  2.62s/it]\n"
     ]
    },
    {
     "name": "stdout",
     "output_type": "stream",
     "text": [
      "\n",
      "✅ Batch 5 completed! File saved as classified_voting_texts_batch_5.csv.\n",
      "\n",
      "🔄 Processing batch 6/88 (500 to 599)...\n"
     ]
    },
    {
     "name": "stderr",
     "output_type": "stream",
     "text": [
      "Processing: 100%|██████████| 100/100 [04:20<00:00,  2.61s/it]\n"
     ]
    },
    {
     "name": "stdout",
     "output_type": "stream",
     "text": [
      "\n",
      "✅ Batch 6 completed! File saved as classified_voting_texts_batch_6.csv.\n",
      "\n",
      "🔄 Processing batch 7/88 (600 to 699)...\n"
     ]
    },
    {
     "name": "stderr",
     "output_type": "stream",
     "text": [
      "Processing: 100%|██████████| 100/100 [04:18<00:00,  2.59s/it]\n"
     ]
    },
    {
     "name": "stdout",
     "output_type": "stream",
     "text": [
      "\n",
      "✅ Batch 7 completed! File saved as classified_voting_texts_batch_7.csv.\n",
      "\n",
      "🔄 Processing batch 8/88 (700 to 799)...\n"
     ]
    },
    {
     "name": "stderr",
     "output_type": "stream",
     "text": [
      "Processing: 100%|██████████| 100/100 [04:19<00:00,  2.59s/it]\n"
     ]
    },
    {
     "name": "stdout",
     "output_type": "stream",
     "text": [
      "\n",
      "✅ Batch 8 completed! File saved as classified_voting_texts_batch_8.csv.\n",
      "\n",
      "🔄 Processing batch 9/88 (800 to 899)...\n"
     ]
    },
    {
     "name": "stderr",
     "output_type": "stream",
     "text": [
      "Processing: 100%|██████████| 100/100 [04:21<00:00,  2.61s/it]\n"
     ]
    },
    {
     "name": "stdout",
     "output_type": "stream",
     "text": [
      "\n",
      "✅ Batch 9 completed! File saved as classified_voting_texts_batch_9.csv.\n",
      "\n",
      "🔄 Processing batch 10/88 (900 to 999)...\n"
     ]
    },
    {
     "name": "stderr",
     "output_type": "stream",
     "text": [
      "Processing: 100%|██████████| 100/100 [04:21<00:00,  2.62s/it]\n"
     ]
    },
    {
     "name": "stdout",
     "output_type": "stream",
     "text": [
      "\n",
      "✅ Batch 10 completed! File saved as classified_voting_texts_batch_10.csv.\n",
      "\n",
      "🔄 Processing batch 11/88 (1000 to 1099)...\n"
     ]
    },
    {
     "name": "stderr",
     "output_type": "stream",
     "text": [
      "Processing:  15%|█▌        | 15/100 [00:40<04:09,  2.93s/it]"
     ]
    },
    {
     "name": "stdout",
     "output_type": "stream",
     "text": [
      "[Warning] Unexpected classification output at index 1014: Rejection of a Bill\n"
     ]
    },
    {
     "name": "stderr",
     "output_type": "stream",
     "text": [
      "Processing: 100%|██████████| 100/100 [02:38<00:00,  1.59s/it]\n"
     ]
    },
    {
     "name": "stdout",
     "output_type": "stream",
     "text": [
      "\n",
      "✅ Batch 11 completed! File saved as classified_voting_texts_batch_11.csv.\n",
      "\n",
      "🔄 Processing batch 12/88 (1100 to 1199)...\n"
     ]
    },
    {
     "name": "stderr",
     "output_type": "stream",
     "text": [
      "Processing: 100%|██████████| 100/100 [03:49<00:00,  2.30s/it]\n"
     ]
    },
    {
     "name": "stdout",
     "output_type": "stream",
     "text": [
      "\n",
      "✅ Batch 12 completed! File saved as classified_voting_texts_batch_12.csv.\n",
      "\n",
      "🔄 Processing batch 13/88 (1200 to 1299)...\n"
     ]
    },
    {
     "name": "stderr",
     "output_type": "stream",
     "text": [
      "Processing: 100%|██████████| 100/100 [02:19<00:00,  1.40s/it]\n"
     ]
    },
    {
     "name": "stdout",
     "output_type": "stream",
     "text": [
      "\n",
      "✅ Batch 13 completed! File saved as classified_voting_texts_batch_13.csv.\n",
      "\n",
      "🔄 Processing batch 14/88 (1300 to 1399)...\n"
     ]
    },
    {
     "name": "stderr",
     "output_type": "stream",
     "text": [
      "Processing: 100%|██████████| 100/100 [03:08<00:00,  1.89s/it]\n"
     ]
    },
    {
     "name": "stdout",
     "output_type": "stream",
     "text": [
      "\n",
      "✅ Batch 14 completed! File saved as classified_voting_texts_batch_14.csv.\n",
      "\n",
      "🔄 Processing batch 15/88 (1400 to 1499)...\n"
     ]
    },
    {
     "name": "stderr",
     "output_type": "stream",
     "text": [
      "Processing: 100%|██████████| 100/100 [03:25<00:00,  2.05s/it]\n"
     ]
    },
    {
     "name": "stdout",
     "output_type": "stream",
     "text": [
      "\n",
      "✅ Batch 15 completed! File saved as classified_voting_texts_batch_15.csv.\n",
      "\n",
      "🔄 Processing batch 16/88 (1500 to 1599)...\n"
     ]
    },
    {
     "name": "stderr",
     "output_type": "stream",
     "text": [
      "Processing: 100%|██████████| 100/100 [03:02<00:00,  1.82s/it]\n"
     ]
    },
    {
     "name": "stdout",
     "output_type": "stream",
     "text": [
      "\n",
      "✅ Batch 16 completed! File saved as classified_voting_texts_batch_16.csv.\n",
      "\n",
      "🔄 Processing batch 17/88 (1600 to 1699)...\n"
     ]
    },
    {
     "name": "stderr",
     "output_type": "stream",
     "text": [
      "Processing: 100%|██████████| 100/100 [03:50<00:00,  2.31s/it]\n"
     ]
    },
    {
     "name": "stdout",
     "output_type": "stream",
     "text": [
      "\n",
      "✅ Batch 17 completed! File saved as classified_voting_texts_batch_17.csv.\n",
      "\n",
      "🔄 Processing batch 18/88 (1700 to 1799)...\n"
     ]
    },
    {
     "name": "stderr",
     "output_type": "stream",
     "text": [
      "Processing: 100%|██████████| 100/100 [02:31<00:00,  1.51s/it]\n"
     ]
    },
    {
     "name": "stdout",
     "output_type": "stream",
     "text": [
      "\n",
      "✅ Batch 18 completed! File saved as classified_voting_texts_batch_18.csv.\n",
      "\n",
      "🔄 Processing batch 19/88 (1800 to 1899)...\n"
     ]
    },
    {
     "name": "stderr",
     "output_type": "stream",
     "text": [
      "Processing: 100%|██████████| 100/100 [04:18<00:00,  2.58s/it]\n"
     ]
    },
    {
     "name": "stdout",
     "output_type": "stream",
     "text": [
      "\n",
      "✅ Batch 19 completed! File saved as classified_voting_texts_batch_19.csv.\n",
      "\n",
      "🔄 Processing batch 20/88 (1900 to 1999)...\n"
     ]
    },
    {
     "name": "stderr",
     "output_type": "stream",
     "text": [
      "Processing: 100%|██████████| 100/100 [08:49<00:00,  5.30s/it]\n"
     ]
    },
    {
     "name": "stdout",
     "output_type": "stream",
     "text": [
      "\n",
      "✅ Batch 20 completed! File saved as classified_voting_texts_batch_20.csv.\n",
      "\n",
      "🔄 Processing batch 21/88 (2000 to 2099)...\n"
     ]
    },
    {
     "name": "stderr",
     "output_type": "stream",
     "text": [
      "Processing:  94%|█████████▍| 94/100 [10:44<00:02,  2.97it/s] "
     ]
    },
    {
     "name": "stdout",
     "output_type": "stream",
     "text": [
      "[Warning] Unexpected classification output at index 2093: Rejection of Amendments\n"
     ]
    },
    {
     "name": "stderr",
     "output_type": "stream",
     "text": [
      "Processing: 100%|██████████| 100/100 [10:52<00:00,  6.53s/it]\n"
     ]
    },
    {
     "name": "stdout",
     "output_type": "stream",
     "text": [
      "\n",
      "✅ Batch 21 completed! File saved as classified_voting_texts_batch_21.csv.\n",
      "\n",
      "🔄 Processing batch 22/88 (2100 to 2199)...\n"
     ]
    },
    {
     "name": "stderr",
     "output_type": "stream",
     "text": [
      "Processing: 100%|██████████| 100/100 [07:19<00:00,  4.40s/it]\n"
     ]
    },
    {
     "name": "stdout",
     "output_type": "stream",
     "text": [
      "\n",
      "✅ Batch 22 completed! File saved as classified_voting_texts_batch_22.csv.\n",
      "\n",
      "🔄 Processing batch 23/88 (2200 to 2299)...\n"
     ]
    },
    {
     "name": "stderr",
     "output_type": "stream",
     "text": [
      "Processing:  69%|██████▉   | 69/100 [12:58<11:56, 23.10s/it] "
     ]
    },
    {
     "name": "stdout",
     "output_type": "stream",
     "text": [
      "Error processing text at index 2268: Error code: 429 - {'error': {'message': 'Rate limit reached for model `llama3-70b-8192` in organization `org_01jkqbt2jkezq8xc0dsgkgkx7b` service tier `on_demand` on : Limit 500000, Used 500028, Requested 334. Please try again in 1m2.642199999s. Visit https://console.groq.com/docs/rate-limits for more information.', 'type': '', 'code': 'rate_limit_exceeded'}}\n"
     ]
    },
    {
     "name": "stderr",
     "output_type": "stream",
     "text": [
      "Processing:  70%|███████   | 70/100 [12:58<08:07, 16.25s/it]"
     ]
    },
    {
     "name": "stdout",
     "output_type": "stream",
     "text": [
      "Error processing text at index 2269: Error code: 429 - {'error': {'message': 'Rate limit reached for model `llama3-70b-8192` in organization `org_01jkqbt2jkezq8xc0dsgkgkx7b` service tier `on_demand` on : Limit 500000, Used 500027, Requested 398. Please try again in 1m13.4424s. Visit https://console.groq.com/docs/rate-limits for more information.', 'type': '', 'code': 'rate_limit_exceeded'}}\n"
     ]
    },
    {
     "name": "stderr",
     "output_type": "stream",
     "text": [
      "Processing: 100%|██████████| 100/100 [18:57<00:00, 11.38s/it]\n"
     ]
    },
    {
     "name": "stdout",
     "output_type": "stream",
     "text": [
      "\n",
      "✅ Batch 23 completed! File saved as classified_voting_texts_batch_23.csv.\n",
      "\n",
      "🔄 Processing batch 24/88 (2300 to 2399)...\n"
     ]
    },
    {
     "name": "stderr",
     "output_type": "stream",
     "text": [
      "Processing: 100%|██████████| 100/100 [04:44<00:00,  2.85s/it]\n"
     ]
    },
    {
     "name": "stdout",
     "output_type": "stream",
     "text": [
      "\n",
      "✅ Batch 24 completed! File saved as classified_voting_texts_batch_24.csv.\n",
      "\n",
      "🔄 Processing batch 25/88 (2400 to 2499)...\n"
     ]
    },
    {
     "name": "stderr",
     "output_type": "stream",
     "text": [
      "Processing: 100%|██████████| 100/100 [10:05<00:00,  6.05s/it]\n"
     ]
    },
    {
     "name": "stdout",
     "output_type": "stream",
     "text": [
      "\n",
      "✅ Batch 25 completed! File saved as classified_voting_texts_batch_25.csv.\n",
      "\n",
      "🔄 Processing batch 26/88 (2500 to 2599)...\n"
     ]
    },
    {
     "name": "stderr",
     "output_type": "stream",
     "text": [
      "Processing: 100%|██████████| 100/100 [25:23<00:00, 15.23s/it]\n"
     ]
    },
    {
     "name": "stdout",
     "output_type": "stream",
     "text": [
      "\n",
      "✅ Batch 26 completed! File saved as classified_voting_texts_batch_26.csv.\n",
      "\n",
      "🔄 Processing batch 27/88 (2600 to 2699)...\n"
     ]
    },
    {
     "name": "stderr",
     "output_type": "stream",
     "text": [
      "Processing: 100%|██████████| 100/100 [04:15<00:00,  2.55s/it]\n"
     ]
    },
    {
     "name": "stdout",
     "output_type": "stream",
     "text": [
      "\n",
      "✅ Batch 27 completed! File saved as classified_voting_texts_batch_27.csv.\n",
      "\n",
      "🔄 Processing batch 28/88 (2700 to 2799)...\n"
     ]
    },
    {
     "name": "stderr",
     "output_type": "stream",
     "text": [
      "Processing:  34%|███▍      | 34/100 [02:21<13:24, 12.19s/it]"
     ]
    },
    {
     "name": "stdout",
     "output_type": "stream",
     "text": [
      "Error processing text at index 2733: Error code: 429 - {'error': {'message': 'Rate limit reached for model `llama3-70b-8192` in organization `org_01jkqbt2jkezq8xc0dsgkgkx7b` service tier `on_demand` on : Limit 500000, Used 499986, Requested 400. Please try again in 1m6.5696s. Visit https://console.groq.com/docs/rate-limits for more information.', 'type': '', 'code': 'rate_limit_exceeded'}}\n"
     ]
    },
    {
     "name": "stderr",
     "output_type": "stream",
     "text": [
      "Processing: 100%|██████████| 100/100 [14:49<00:00,  8.90s/it]\n"
     ]
    },
    {
     "name": "stdout",
     "output_type": "stream",
     "text": [
      "\n",
      "✅ Batch 28 completed! File saved as classified_voting_texts_batch_28.csv.\n",
      "\n",
      "🔄 Processing batch 29/88 (2800 to 2899)...\n"
     ]
    },
    {
     "name": "stderr",
     "output_type": "stream",
     "text": [
      "Processing:  58%|█████▊    | 58/100 [03:04<08:18, 11.87s/it]"
     ]
    },
    {
     "name": "stdout",
     "output_type": "stream",
     "text": [
      "Error processing text at index 2857: Error code: 429 - {'error': {'message': 'Rate limit reached for model `llama3-70b-8192` in organization `org_01jkqbt2jkezq8xc0dsgkgkx7b` service tier `on_demand` on : Limit 500000, Used 499987, Requested 564. Please try again in 1m35.1296s. Visit https://console.groq.com/docs/rate-limits for more information.', 'type': '', 'code': 'rate_limit_exceeded'}}\n"
     ]
    },
    {
     "name": "stderr",
     "output_type": "stream",
     "text": [
      "Processing: 100%|██████████| 100/100 [05:34<00:00,  3.34s/it]\n"
     ]
    },
    {
     "name": "stdout",
     "output_type": "stream",
     "text": [
      "\n",
      "✅ Batch 29 completed! File saved as classified_voting_texts_batch_29.csv.\n",
      "\n",
      "🔄 Processing batch 30/88 (2900 to 2999)...\n"
     ]
    },
    {
     "name": "stderr",
     "output_type": "stream",
     "text": [
      "Processing:  57%|█████▋    | 57/100 [05:03<13:24, 18.70s/it]"
     ]
    },
    {
     "name": "stdout",
     "output_type": "stream",
     "text": [
      "Error processing text at index 2956: Error code: 429 - {'error': {'message': 'Rate limit reached for model `llama3-70b-8192` in organization `org_01jkqbt2jkezq8xc0dsgkgkx7b` service tier `on_demand` on : Limit 500000, Used 499979, Requested 475. Please try again in 1m18.304s. Visit https://console.groq.com/docs/rate-limits for more information.', 'type': '', 'code': 'rate_limit_exceeded'}}\n"
     ]
    },
    {
     "name": "stderr",
     "output_type": "stream",
     "text": [
      "Processing:  72%|███████▏  | 72/100 [12:07<09:09, 19.62s/it]"
     ]
    },
    {
     "name": "stdout",
     "output_type": "stream",
     "text": [
      "Error processing text at index 2971: Error code: 429 - {'error': {'message': 'Rate limit reached for model `llama3-70b-8192` in organization `org_01jkqbt2jkezq8xc0dsgkgkx7b` service tier `on_demand` on : Limit 500000, Used 499976, Requested 843. Please try again in 2m21.509799999s. Visit https://console.groq.com/docs/rate-limits for more information.', 'type': '', 'code': 'rate_limit_exceeded'}}\n"
     ]
    },
    {
     "name": "stderr",
     "output_type": "stream",
     "text": [
      "Processing: 100%|██████████| 100/100 [13:07<00:00,  7.87s/it]\n"
     ]
    },
    {
     "name": "stdout",
     "output_type": "stream",
     "text": [
      "\n",
      "✅ Batch 30 completed! File saved as classified_voting_texts_batch_30.csv.\n",
      "\n",
      "🔄 Processing batch 31/88 (3000 to 3099)...\n"
     ]
    },
    {
     "name": "stderr",
     "output_type": "stream",
     "text": [
      "Processing:  93%|█████████▎| 93/100 [17:16<02:16, 19.48s/it]"
     ]
    },
    {
     "name": "stdout",
     "output_type": "stream",
     "text": [
      "Error processing text at index 3092: Error code: 429 - {'error': {'message': 'Rate limit reached for model `llama3-70b-8192` in organization `org_01jkqbt2jkezq8xc0dsgkgkx7b` service tier `on_demand` on : Limit 500000, Used 499985, Requested 618. Please try again in 1m44.112199999s. Visit https://console.groq.com/docs/rate-limits for more information.', 'type': '', 'code': 'rate_limit_exceeded'}}\n"
     ]
    },
    {
     "name": "stderr",
     "output_type": "stream",
     "text": [
      "Processing: 100%|██████████| 100/100 [20:09<00:00, 12.10s/it]\n"
     ]
    },
    {
     "name": "stdout",
     "output_type": "stream",
     "text": [
      "\n",
      "✅ Batch 31 completed! File saved as classified_voting_texts_batch_31.csv.\n",
      "\n",
      "🔄 Processing batch 32/88 (3100 to 3199)...\n"
     ]
    },
    {
     "name": "stderr",
     "output_type": "stream",
     "text": [
      "Processing: 100%|██████████| 100/100 [15:04<00:00,  9.05s/it]\n"
     ]
    },
    {
     "name": "stdout",
     "output_type": "stream",
     "text": [
      "\n",
      "✅ Batch 32 completed! File saved as classified_voting_texts_batch_32.csv.\n",
      "\n",
      "🔄 Processing batch 33/88 (3200 to 3299)...\n"
     ]
    },
    {
     "name": "stderr",
     "output_type": "stream",
     "text": [
      "Processing: 100%|██████████| 100/100 [08:08<00:00,  4.88s/it]\n"
     ]
    },
    {
     "name": "stdout",
     "output_type": "stream",
     "text": [
      "\n",
      "✅ Batch 33 completed! File saved as classified_voting_texts_batch_33.csv.\n",
      "\n",
      "🔄 Processing batch 34/88 (3300 to 3399)...\n"
     ]
    },
    {
     "name": "stderr",
     "output_type": "stream",
     "text": [
      "Processing: 100%|██████████| 100/100 [07:33<00:00,  4.53s/it]\n"
     ]
    },
    {
     "name": "stdout",
     "output_type": "stream",
     "text": [
      "\n",
      "✅ Batch 34 completed! File saved as classified_voting_texts_batch_34.csv.\n",
      "\n",
      "🔄 Processing batch 35/88 (3400 to 3499)...\n"
     ]
    },
    {
     "name": "stderr",
     "output_type": "stream",
     "text": [
      "Processing: 100%|██████████| 100/100 [05:52<00:00,  3.53s/it]\n"
     ]
    },
    {
     "name": "stdout",
     "output_type": "stream",
     "text": [
      "\n",
      "✅ Batch 35 completed! File saved as classified_voting_texts_batch_35.csv.\n",
      "\n",
      "🔄 Processing batch 36/88 (3500 to 3599)...\n"
     ]
    },
    {
     "name": "stderr",
     "output_type": "stream",
     "text": [
      "Processing: 100%|██████████| 100/100 [13:16<00:00,  7.96s/it]\n"
     ]
    },
    {
     "name": "stdout",
     "output_type": "stream",
     "text": [
      "\n",
      "✅ Batch 36 completed! File saved as classified_voting_texts_batch_36.csv.\n",
      "\n",
      "🔄 Processing batch 37/88 (3600 to 3699)...\n"
     ]
    },
    {
     "name": "stderr",
     "output_type": "stream",
     "text": [
      "Processing: 100%|██████████| 100/100 [06:34<00:00,  3.95s/it]\n"
     ]
    },
    {
     "name": "stdout",
     "output_type": "stream",
     "text": [
      "\n",
      "✅ Batch 37 completed! File saved as classified_voting_texts_batch_37.csv.\n",
      "\n",
      "🔄 Processing batch 38/88 (3700 to 3799)...\n"
     ]
    },
    {
     "name": "stderr",
     "output_type": "stream",
     "text": [
      "Processing: 100%|██████████| 100/100 [13:06<00:00,  7.87s/it]\n"
     ]
    },
    {
     "name": "stdout",
     "output_type": "stream",
     "text": [
      "\n",
      "✅ Batch 38 completed! File saved as classified_voting_texts_batch_38.csv.\n",
      "\n",
      "🔄 Processing batch 39/88 (3800 to 3899)...\n"
     ]
    },
    {
     "name": "stderr",
     "output_type": "stream",
     "text": [
      "Processing: 100%|██████████| 100/100 [30:14<00:00, 18.14s/it]\n"
     ]
    },
    {
     "name": "stdout",
     "output_type": "stream",
     "text": [
      "\n",
      "✅ Batch 39 completed! File saved as classified_voting_texts_batch_39.csv.\n",
      "\n",
      "🔄 Processing batch 40/88 (3900 to 3999)...\n"
     ]
    },
    {
     "name": "stderr",
     "output_type": "stream",
     "text": [
      "Processing:  54%|█████▍    | 54/100 [04:13<04:12,  5.48s/it]"
     ]
    },
    {
     "name": "stdout",
     "output_type": "stream",
     "text": [
      "Error processing text at index 3953: Error code: 503 - {'error': {'message': 'Service Unavailable', 'type': 'internal_server_error'}}\n"
     ]
    },
    {
     "name": "stderr",
     "output_type": "stream",
     "text": [
      "Processing: 100%|██████████| 100/100 [19:23<00:00, 11.63s/it]\n"
     ]
    },
    {
     "name": "stdout",
     "output_type": "stream",
     "text": [
      "\n",
      "✅ Batch 40 completed! File saved as classified_voting_texts_batch_40.csv.\n",
      "\n",
      "🔄 Processing batch 41/88 (4000 to 4099)...\n"
     ]
    },
    {
     "name": "stderr",
     "output_type": "stream",
     "text": [
      "Processing: 100%|██████████| 100/100 [05:54<00:00,  3.54s/it]\n"
     ]
    },
    {
     "name": "stdout",
     "output_type": "stream",
     "text": [
      "\n",
      "✅ Batch 41 completed! File saved as classified_voting_texts_batch_41.csv.\n",
      "\n",
      "🔄 Processing batch 42/88 (4100 to 4199)...\n"
     ]
    },
    {
     "name": "stderr",
     "output_type": "stream",
     "text": [
      "Processing: 100%|██████████| 100/100 [07:15<00:00,  4.35s/it]\n"
     ]
    },
    {
     "name": "stdout",
     "output_type": "stream",
     "text": [
      "\n",
      "✅ Batch 42 completed! File saved as classified_voting_texts_batch_42.csv.\n",
      "\n",
      "🔄 Processing batch 43/88 (4200 to 4299)...\n"
     ]
    },
    {
     "name": "stderr",
     "output_type": "stream",
     "text": [
      "Processing:  54%|█████▍    | 54/100 [07:23<00:13,  3.38it/s]"
     ]
    },
    {
     "name": "stdout",
     "output_type": "stream",
     "text": [
      "[Warning] Unexpected classification output at index 4253: Rejection of Amendments\n"
     ]
    },
    {
     "name": "stderr",
     "output_type": "stream",
     "text": [
      "Processing: 100%|██████████| 100/100 [20:31<00:00, 12.32s/it]\n"
     ]
    },
    {
     "name": "stdout",
     "output_type": "stream",
     "text": [
      "\n",
      "✅ Batch 43 completed! File saved as classified_voting_texts_batch_43.csv.\n",
      "\n",
      "🔄 Processing batch 44/88 (4300 to 4399)...\n"
     ]
    },
    {
     "name": "stderr",
     "output_type": "stream",
     "text": [
      "Processing: 100%|██████████| 100/100 [08:07<00:00,  4.87s/it]\n"
     ]
    },
    {
     "name": "stdout",
     "output_type": "stream",
     "text": [
      "\n",
      "✅ Batch 44 completed! File saved as classified_voting_texts_batch_44.csv.\n",
      "\n",
      "🔄 Processing batch 45/88 (4400 to 4499)...\n"
     ]
    },
    {
     "name": "stderr",
     "output_type": "stream",
     "text": [
      "Processing:  20%|██        | 20/100 [08:57<23:25, 17.57s/it]"
     ]
    },
    {
     "name": "stdout",
     "output_type": "stream",
     "text": [
      "Error processing text at index 4419: Error code: 503 - {'error': {'message': 'Service Unavailable', 'type': 'internal_server_error'}}\n"
     ]
    },
    {
     "name": "stderr",
     "output_type": "stream",
     "text": [
      "Processing:  31%|███       | 31/100 [10:57<26:53, 23.39s/it]"
     ]
    },
    {
     "name": "stdout",
     "output_type": "stream",
     "text": [
      "Error processing text at index 4430: Error code: 503 - {'error': {'message': 'Service Unavailable', 'type': 'internal_server_error'}}\n"
     ]
    },
    {
     "name": "stderr",
     "output_type": "stream",
     "text": [
      "Processing:  60%|██████    | 60/100 [24:11<13:49, 20.73s/it]"
     ]
    },
    {
     "name": "stdout",
     "output_type": "stream",
     "text": [
      "Error processing text at index 4459: Error code: 429 - {'error': {'message': 'Rate limit reached for model `llama3-70b-8192` in organization `org_01jkqbt2jkezq8xc0dsgkgkx7b` service tier `on_demand` on : Limit 500000, Used 499975, Requested 407. Please try again in 1m5.9264s. Visit https://console.groq.com/docs/rate-limits for more information.', 'type': '', 'code': 'rate_limit_exceeded'}}\n"
     ]
    },
    {
     "name": "stderr",
     "output_type": "stream",
     "text": [
      "Processing: 100%|██████████| 100/100 [40:30<00:00, 24.30s/it]\n"
     ]
    },
    {
     "name": "stdout",
     "output_type": "stream",
     "text": [
      "\n",
      "✅ Batch 45 completed! File saved as classified_voting_texts_batch_45.csv.\n",
      "\n",
      "🔄 Processing batch 46/88 (4500 to 4599)...\n"
     ]
    },
    {
     "name": "stderr",
     "output_type": "stream",
     "text": [
      "Processing: 100%|██████████| 100/100 [30:29<00:00, 18.30s/it]\n"
     ]
    },
    {
     "name": "stdout",
     "output_type": "stream",
     "text": [
      "\n",
      "✅ Batch 46 completed! File saved as classified_voting_texts_batch_46.csv.\n",
      "\n",
      "🔄 Processing batch 47/88 (4600 to 4699)...\n"
     ]
    },
    {
     "name": "stderr",
     "output_type": "stream",
     "text": [
      "Processing: 100%|██████████| 100/100 [16:59<00:00, 10.20s/it]\n"
     ]
    },
    {
     "name": "stdout",
     "output_type": "stream",
     "text": [
      "\n",
      "✅ Batch 47 completed! File saved as classified_voting_texts_batch_47.csv.\n",
      "\n",
      "🔄 Processing batch 48/88 (4700 to 4799)...\n"
     ]
    },
    {
     "name": "stderr",
     "output_type": "stream",
     "text": [
      "Processing: 100%|██████████| 100/100 [25:04<00:00, 15.04s/it]\n"
     ]
    },
    {
     "name": "stdout",
     "output_type": "stream",
     "text": [
      "\n",
      "✅ Batch 48 completed! File saved as classified_voting_texts_batch_48.csv.\n",
      "\n",
      "🔄 Processing batch 49/88 (4800 to 4899)...\n"
     ]
    },
    {
     "name": "stderr",
     "output_type": "stream",
     "text": [
      "Processing: 100%|██████████| 100/100 [16:00<00:00,  9.61s/it]\n"
     ]
    },
    {
     "name": "stdout",
     "output_type": "stream",
     "text": [
      "\n",
      "✅ Batch 49 completed! File saved as classified_voting_texts_batch_49.csv.\n",
      "\n",
      "🔄 Processing batch 50/88 (4900 to 4999)...\n"
     ]
    },
    {
     "name": "stderr",
     "output_type": "stream",
     "text": [
      "Processing: 100%|██████████| 100/100 [26:01<00:00, 15.62s/it]\n"
     ]
    },
    {
     "name": "stdout",
     "output_type": "stream",
     "text": [
      "\n",
      "✅ Batch 50 completed! File saved as classified_voting_texts_batch_50.csv.\n",
      "\n",
      "🔄 Processing batch 51/88 (5000 to 5099)...\n"
     ]
    },
    {
     "name": "stderr",
     "output_type": "stream",
     "text": [
      "Processing: 100%|██████████| 100/100 [21:47<00:00, 13.07s/it]\n"
     ]
    },
    {
     "name": "stdout",
     "output_type": "stream",
     "text": [
      "\n",
      "✅ Batch 51 completed! File saved as classified_voting_texts_batch_51.csv.\n",
      "\n",
      "🔄 Processing batch 52/88 (5100 to 5199)...\n"
     ]
    },
    {
     "name": "stderr",
     "output_type": "stream",
     "text": [
      "Processing: 100%|██████████| 100/100 [11:20<00:00,  6.81s/it]\n"
     ]
    },
    {
     "name": "stdout",
     "output_type": "stream",
     "text": [
      "\n",
      "✅ Batch 52 completed! File saved as classified_voting_texts_batch_52.csv.\n",
      "\n",
      "🔄 Processing batch 53/88 (5200 to 5299)...\n"
     ]
    },
    {
     "name": "stderr",
     "output_type": "stream",
     "text": [
      "Processing: 100%|██████████| 100/100 [08:07<00:00,  4.88s/it]\n"
     ]
    },
    {
     "name": "stdout",
     "output_type": "stream",
     "text": [
      "\n",
      "✅ Batch 53 completed! File saved as classified_voting_texts_batch_53.csv.\n",
      "\n",
      "🔄 Processing batch 54/88 (5300 to 5399)...\n"
     ]
    },
    {
     "name": "stderr",
     "output_type": "stream",
     "text": [
      "Processing:  51%|█████     | 51/100 [07:40<16:21, 20.03s/it]"
     ]
    },
    {
     "name": "stdout",
     "output_type": "stream",
     "text": [
      "Error processing text at index 5350: Error code: 429 - {'error': {'message': 'Rate limit reached for model `llama3-70b-8192` in organization `org_01jkqbt2jkezq8xc0dsgkgkx7b` service tier `on_demand` on : Limit 500000, Used 499979, Requested 395. Please try again in 1m4.553s. Visit https://console.groq.com/docs/rate-limits for more information.', 'type': '', 'code': 'rate_limit_exceeded'}}\n"
     ]
    },
    {
     "name": "stderr",
     "output_type": "stream",
     "text": [
      "Processing: 100%|██████████| 100/100 [31:30<00:00, 18.90s/it]\n"
     ]
    },
    {
     "name": "stdout",
     "output_type": "stream",
     "text": [
      "\n",
      "✅ Batch 54 completed! File saved as classified_voting_texts_batch_54.csv.\n",
      "\n",
      "🔄 Processing batch 55/88 (5400 to 5499)...\n"
     ]
    },
    {
     "name": "stderr",
     "output_type": "stream",
     "text": [
      "Processing: 100%|██████████| 100/100 [16:56<00:00, 10.17s/it]\n"
     ]
    },
    {
     "name": "stdout",
     "output_type": "stream",
     "text": [
      "\n",
      "✅ Batch 55 completed! File saved as classified_voting_texts_batch_55.csv.\n",
      "\n",
      "🔄 Processing batch 56/88 (5500 to 5599)...\n"
     ]
    },
    {
     "name": "stderr",
     "output_type": "stream",
     "text": [
      "Processing: 100%|██████████| 100/100 [14:07<00:00,  8.48s/it]\n"
     ]
    },
    {
     "name": "stdout",
     "output_type": "stream",
     "text": [
      "\n",
      "✅ Batch 56 completed! File saved as classified_voting_texts_batch_56.csv.\n",
      "\n",
      "🔄 Processing batch 57/88 (5600 to 5699)...\n"
     ]
    },
    {
     "name": "stderr",
     "output_type": "stream",
     "text": [
      "Processing: 100%|██████████| 100/100 [29:05<00:00, 17.45s/it]\n"
     ]
    },
    {
     "name": "stdout",
     "output_type": "stream",
     "text": [
      "\n",
      "✅ Batch 57 completed! File saved as classified_voting_texts_batch_57.csv.\n",
      "\n",
      "🔄 Processing batch 58/88 (5700 to 5799)...\n"
     ]
    },
    {
     "name": "stderr",
     "output_type": "stream",
     "text": [
      "Processing: 100%|██████████| 100/100 [26:17<00:00, 15.77s/it]\n"
     ]
    },
    {
     "name": "stdout",
     "output_type": "stream",
     "text": [
      "\n",
      "✅ Batch 58 completed! File saved as classified_voting_texts_batch_58.csv.\n",
      "\n",
      "🔄 Processing batch 59/88 (5800 to 5899)...\n"
     ]
    },
    {
     "name": "stderr",
     "output_type": "stream",
     "text": [
      "Processing: 100%|██████████| 100/100 [06:09<00:00,  3.69s/it]\n"
     ]
    },
    {
     "name": "stdout",
     "output_type": "stream",
     "text": [
      "\n",
      "✅ Batch 59 completed! File saved as classified_voting_texts_batch_59.csv.\n",
      "\n",
      "🔄 Processing batch 60/88 (5900 to 5999)...\n"
     ]
    },
    {
     "name": "stderr",
     "output_type": "stream",
     "text": [
      "Processing: 100%|██████████| 100/100 [12:45<00:00,  7.65s/it]\n"
     ]
    },
    {
     "name": "stdout",
     "output_type": "stream",
     "text": [
      "\n",
      "✅ Batch 60 completed! File saved as classified_voting_texts_batch_60.csv.\n",
      "\n",
      "🔄 Processing batch 61/88 (6000 to 6099)...\n"
     ]
    },
    {
     "name": "stderr",
     "output_type": "stream",
     "text": [
      "Processing: 100%|██████████| 100/100 [20:26<00:00, 12.27s/it]\n"
     ]
    },
    {
     "name": "stdout",
     "output_type": "stream",
     "text": [
      "\n",
      "✅ Batch 61 completed! File saved as classified_voting_texts_batch_61.csv.\n",
      "\n",
      "🔄 Processing batch 62/88 (6100 to 6199)...\n"
     ]
    },
    {
     "name": "stderr",
     "output_type": "stream",
     "text": [
      "Processing: 100%|██████████| 100/100 [21:46<00:00, 13.07s/it]\n"
     ]
    },
    {
     "name": "stdout",
     "output_type": "stream",
     "text": [
      "\n",
      "✅ Batch 62 completed! File saved as classified_voting_texts_batch_62.csv.\n",
      "\n",
      "🔄 Processing batch 63/88 (6200 to 6299)...\n"
     ]
    },
    {
     "name": "stderr",
     "output_type": "stream",
     "text": [
      "Processing: 100%|██████████| 100/100 [12:50<00:00,  7.70s/it]\n"
     ]
    },
    {
     "name": "stdout",
     "output_type": "stream",
     "text": [
      "\n",
      "✅ Batch 63 completed! File saved as classified_voting_texts_batch_63.csv.\n",
      "\n",
      "🔄 Processing batch 64/88 (6300 to 6399)...\n"
     ]
    },
    {
     "name": "stderr",
     "output_type": "stream",
     "text": [
      "Processing: 100%|██████████| 100/100 [05:35<00:00,  3.36s/it]\n"
     ]
    },
    {
     "name": "stdout",
     "output_type": "stream",
     "text": [
      "\n",
      "✅ Batch 64 completed! File saved as classified_voting_texts_batch_64.csv.\n",
      "\n",
      "🔄 Processing batch 65/88 (6400 to 6499)...\n"
     ]
    },
    {
     "name": "stderr",
     "output_type": "stream",
     "text": [
      "Processing: 100%|██████████| 100/100 [15:10<00:00,  9.11s/it]\n"
     ]
    },
    {
     "name": "stdout",
     "output_type": "stream",
     "text": [
      "\n",
      "✅ Batch 65 completed! File saved as classified_voting_texts_batch_65.csv.\n",
      "\n",
      "🔄 Processing batch 66/88 (6500 to 6599)...\n"
     ]
    },
    {
     "name": "stderr",
     "output_type": "stream",
     "text": [
      "Processing: 100%|██████████| 100/100 [03:35<00:00,  2.16s/it]\n"
     ]
    },
    {
     "name": "stdout",
     "output_type": "stream",
     "text": [
      "\n",
      "✅ Batch 66 completed! File saved as classified_voting_texts_batch_66.csv.\n",
      "\n",
      "🔄 Processing batch 67/88 (6600 to 6699)...\n"
     ]
    },
    {
     "name": "stderr",
     "output_type": "stream",
     "text": [
      "Processing: 100%|██████████| 100/100 [19:41<00:00, 11.82s/it]\n"
     ]
    },
    {
     "name": "stdout",
     "output_type": "stream",
     "text": [
      "\n",
      "✅ Batch 67 completed! File saved as classified_voting_texts_batch_67.csv.\n",
      "\n",
      "🔄 Processing batch 68/88 (6700 to 6799)...\n"
     ]
    },
    {
     "name": "stderr",
     "output_type": "stream",
     "text": [
      "Processing: 100%|██████████| 100/100 [21:14<00:00, 12.74s/it]\n"
     ]
    },
    {
     "name": "stdout",
     "output_type": "stream",
     "text": [
      "\n",
      "✅ Batch 68 completed! File saved as classified_voting_texts_batch_68.csv.\n",
      "\n",
      "🔄 Processing batch 69/88 (6800 to 6899)...\n"
     ]
    },
    {
     "name": "stderr",
     "output_type": "stream",
     "text": [
      "Processing: 100%|██████████| 100/100 [14:49<00:00,  8.89s/it]\n"
     ]
    },
    {
     "name": "stdout",
     "output_type": "stream",
     "text": [
      "\n",
      "✅ Batch 69 completed! File saved as classified_voting_texts_batch_69.csv.\n",
      "\n",
      "🔄 Processing batch 70/88 (6900 to 6999)...\n"
     ]
    },
    {
     "name": "stderr",
     "output_type": "stream",
     "text": [
      "Processing: 100%|██████████| 100/100 [22:35<00:00, 13.56s/it]\n"
     ]
    },
    {
     "name": "stdout",
     "output_type": "stream",
     "text": [
      "\n",
      "✅ Batch 70 completed! File saved as classified_voting_texts_batch_70.csv.\n",
      "\n",
      "🔄 Processing batch 71/88 (7000 to 7099)...\n"
     ]
    },
    {
     "name": "stderr",
     "output_type": "stream",
     "text": [
      "Processing: 100%|██████████| 100/100 [08:01<00:00,  4.82s/it]\n"
     ]
    },
    {
     "name": "stdout",
     "output_type": "stream",
     "text": [
      "\n",
      "✅ Batch 71 completed! File saved as classified_voting_texts_batch_71.csv.\n",
      "\n",
      "🔄 Processing batch 72/88 (7100 to 7199)...\n"
     ]
    },
    {
     "name": "stderr",
     "output_type": "stream",
     "text": [
      "Processing: 100%|██████████| 100/100 [29:34<00:00, 17.75s/it]\n"
     ]
    },
    {
     "name": "stdout",
     "output_type": "stream",
     "text": [
      "\n",
      "✅ Batch 72 completed! File saved as classified_voting_texts_batch_72.csv.\n",
      "\n",
      "🔄 Processing batch 73/88 (7200 to 7299)...\n"
     ]
    },
    {
     "name": "stderr",
     "output_type": "stream",
     "text": [
      "Processing: 100%|██████████| 100/100 [14:00<00:00,  8.41s/it]\n"
     ]
    },
    {
     "name": "stdout",
     "output_type": "stream",
     "text": [
      "\n",
      "✅ Batch 73 completed! File saved as classified_voting_texts_batch_73.csv.\n",
      "\n",
      "🔄 Processing batch 74/88 (7300 to 7399)...\n"
     ]
    },
    {
     "name": "stderr",
     "output_type": "stream",
     "text": [
      "Processing: 100%|██████████| 100/100 [22:26<00:00, 13.46s/it]\n"
     ]
    },
    {
     "name": "stdout",
     "output_type": "stream",
     "text": [
      "\n",
      "✅ Batch 74 completed! File saved as classified_voting_texts_batch_74.csv.\n",
      "\n",
      "🔄 Processing batch 75/88 (7400 to 7499)...\n"
     ]
    },
    {
     "name": "stderr",
     "output_type": "stream",
     "text": [
      "Processing: 100%|██████████| 100/100 [05:22<00:00,  3.23s/it]\n"
     ]
    },
    {
     "name": "stdout",
     "output_type": "stream",
     "text": [
      "\n",
      "✅ Batch 75 completed! File saved as classified_voting_texts_batch_75.csv.\n",
      "\n",
      "🔄 Processing batch 76/88 (7500 to 7599)...\n"
     ]
    },
    {
     "name": "stderr",
     "output_type": "stream",
     "text": [
      "Processing: 100%|██████████| 100/100 [08:40<00:00,  5.21s/it]\n"
     ]
    },
    {
     "name": "stdout",
     "output_type": "stream",
     "text": [
      "\n",
      "✅ Batch 76 completed! File saved as classified_voting_texts_batch_76.csv.\n",
      "\n",
      "🔄 Processing batch 77/88 (7600 to 7699)...\n"
     ]
    },
    {
     "name": "stderr",
     "output_type": "stream",
     "text": [
      "Processing: 100%|██████████| 100/100 [07:12<00:00,  4.33s/it]\n"
     ]
    },
    {
     "name": "stdout",
     "output_type": "stream",
     "text": [
      "\n",
      "✅ Batch 77 completed! File saved as classified_voting_texts_batch_77.csv.\n",
      "\n",
      "🔄 Processing batch 78/88 (7700 to 7799)...\n"
     ]
    },
    {
     "name": "stderr",
     "output_type": "stream",
     "text": [
      "Processing: 100%|██████████| 100/100 [37:09<00:00, 22.29s/it]\n"
     ]
    },
    {
     "name": "stdout",
     "output_type": "stream",
     "text": [
      "\n",
      "✅ Batch 78 completed! File saved as classified_voting_texts_batch_78.csv.\n",
      "\n",
      "🔄 Processing batch 79/88 (7800 to 7899)...\n"
     ]
    },
    {
     "name": "stderr",
     "output_type": "stream",
     "text": [
      "Processing: 100%|██████████| 100/100 [11:39<00:00,  7.00s/it]\n"
     ]
    },
    {
     "name": "stdout",
     "output_type": "stream",
     "text": [
      "\n",
      "✅ Batch 79 completed! File saved as classified_voting_texts_batch_79.csv.\n",
      "\n",
      "🔄 Processing batch 80/88 (7900 to 7999)...\n"
     ]
    },
    {
     "name": "stderr",
     "output_type": "stream",
     "text": [
      "Processing: 100%|██████████| 100/100 [16:49<00:00, 10.09s/it]\n"
     ]
    },
    {
     "name": "stdout",
     "output_type": "stream",
     "text": [
      "\n",
      "✅ Batch 80 completed! File saved as classified_voting_texts_batch_80.csv.\n",
      "\n",
      "🔄 Processing batch 81/88 (8000 to 8099)...\n"
     ]
    },
    {
     "name": "stderr",
     "output_type": "stream",
     "text": [
      "Processing:  21%|██        | 21/100 [01:34<00:26,  2.94it/s]"
     ]
    },
    {
     "name": "stdout",
     "output_type": "stream",
     "text": [
      "[Warning] Unexpected classification output at index 8020: Rejection of Amendments\n"
     ]
    },
    {
     "name": "stderr",
     "output_type": "stream",
     "text": [
      "Processing: 100%|██████████| 100/100 [05:03<00:00,  3.04s/it]\n"
     ]
    },
    {
     "name": "stdout",
     "output_type": "stream",
     "text": [
      "\n",
      "✅ Batch 81 completed! File saved as classified_voting_texts_batch_81.csv.\n",
      "\n",
      "🔄 Processing batch 82/88 (8100 to 8199)...\n"
     ]
    },
    {
     "name": "stderr",
     "output_type": "stream",
     "text": [
      "Processing:  52%|█████▏    | 52/100 [06:42<24:25, 30.52s/it]"
     ]
    },
    {
     "name": "stdout",
     "output_type": "stream",
     "text": [
      "[Warning] Unexpected classification output at index 8151: Rejection of Amendments\n"
     ]
    },
    {
     "name": "stderr",
     "output_type": "stream",
     "text": [
      "Processing: 100%|██████████| 100/100 [13:57<00:00,  8.38s/it]\n"
     ]
    },
    {
     "name": "stdout",
     "output_type": "stream",
     "text": [
      "\n",
      "✅ Batch 82 completed! File saved as classified_voting_texts_batch_82.csv.\n",
      "\n",
      "🔄 Processing batch 83/88 (8200 to 8299)...\n"
     ]
    },
    {
     "name": "stderr",
     "output_type": "stream",
     "text": [
      "Processing:   7%|▋         | 7/100 [00:17<03:49,  2.47s/it]"
     ]
    },
    {
     "name": "stdout",
     "output_type": "stream",
     "text": [
      "[Warning] Unexpected classification output at index 8206: Rejection of Amendments\n"
     ]
    },
    {
     "name": "stderr",
     "output_type": "stream",
     "text": [
      "Processing: 100%|██████████| 100/100 [13:17<00:00,  7.97s/it]\n"
     ]
    },
    {
     "name": "stdout",
     "output_type": "stream",
     "text": [
      "\n",
      "✅ Batch 83 completed! File saved as classified_voting_texts_batch_83.csv.\n",
      "\n",
      "🔄 Processing batch 84/88 (8300 to 8399)...\n"
     ]
    },
    {
     "name": "stderr",
     "output_type": "stream",
     "text": [
      "Processing: 100%|██████████| 100/100 [07:07<00:00,  4.27s/it]\n"
     ]
    },
    {
     "name": "stdout",
     "output_type": "stream",
     "text": [
      "\n",
      "✅ Batch 84 completed! File saved as classified_voting_texts_batch_84.csv.\n",
      "\n",
      "🔄 Processing batch 85/88 (8400 to 8499)...\n"
     ]
    },
    {
     "name": "stderr",
     "output_type": "stream",
     "text": [
      "Processing: 100%|██████████| 100/100 [19:58<00:00, 11.99s/it]\n"
     ]
    },
    {
     "name": "stdout",
     "output_type": "stream",
     "text": [
      "\n",
      "✅ Batch 85 completed! File saved as classified_voting_texts_batch_85.csv.\n",
      "\n",
      "🔄 Processing batch 86/88 (8500 to 8599)...\n"
     ]
    },
    {
     "name": "stderr",
     "output_type": "stream",
     "text": [
      "Processing: 100%|██████████| 100/100 [08:49<00:00,  5.30s/it]\n"
     ]
    },
    {
     "name": "stdout",
     "output_type": "stream",
     "text": [
      "\n",
      "✅ Batch 86 completed! File saved as classified_voting_texts_batch_86.csv.\n",
      "\n",
      "🔄 Processing batch 87/88 (8600 to 8699)...\n"
     ]
    },
    {
     "name": "stderr",
     "output_type": "stream",
     "text": [
      "Processing: 100%|██████████| 100/100 [21:19<00:00, 12.79s/it]\n"
     ]
    },
    {
     "name": "stdout",
     "output_type": "stream",
     "text": [
      "\n",
      "✅ Batch 87 completed! File saved as classified_voting_texts_batch_87.csv.\n",
      "\n",
      "🔄 Processing batch 88/88 (8700 to 8778)...\n"
     ]
    },
    {
     "name": "stderr",
     "output_type": "stream",
     "text": [
      "Processing: 100%|██████████| 79/79 [28:42<00:00, 21.81s/it]\n"
     ]
    },
    {
     "name": "stdout",
     "output_type": "stream",
     "text": [
      "\n",
      "✅ Batch 88 completed! File saved as classified_voting_texts_batch_88.csv.\n",
      "\n",
      "🎉 All batches processed successfully!\n"
     ]
    }
   ],
   "source": [
    "# Ensure the column 'descricao' exists\n",
    "if 'descricao' not in df.columns:\n",
    "    raise ValueError(\"Column 'descricao' not found in the dataset.\")\n",
    "\n",
    "# Define batch size\n",
    "BATCH_SIZE = 100  \n",
    "total_samples = len(df)\n",
    "num_batches = (total_samples // BATCH_SIZE) + (1 if total_samples % BATCH_SIZE != 0 else 0)\n",
    "\n",
    "print(f\"Loaded dataset with {total_samples} rows. Processing in {num_batches} batches of {BATCH_SIZE} rows each.\")\n",
    "\n",
    "# Function to classify a single text\n",
    "def classify_text(text, index, total):\n",
    "    prompt = (\n",
    "        \"Classify the following Brazilian congressional voting description into one of these predefined categories, \"\n",
    "        \"based solely on the type of legislative action. Respond ONLY with the category name, no explanations or additional text.\\n\\n\"\n",
    "        \"Categories:\\n\"\n",
    "        \"- Approval of Requests (e.g., request for urgency, highlight, postponement, etc.)\\n\"\n",
    "        \"- Change in Processing Regime\\n\"\n",
    "        \"- Approval of Substitutes (e.g., Senate amendments, alternative versions of bills)\\n\"\n",
    "        \"- Approval of Final Wording (last version before becoming law)\\n\"\n",
    "        \"- Approval of Appeals (e.g., reconsideration requests)\\n\"\n",
    "        \"- Other Legislative Actions (if none of the above apply)\\n\\n\"\n",
    "        f\"Text: {text}\\n\"\n",
    "        \"Category:\"\n",
    "    )\n",
    "\n",
    "    messages = [{\"role\": \"user\", \"content\": prompt}]\n",
    "\n",
    "    try:\n",
    "        response = client.chat.completions.create(\n",
    "            model=\"llama3-70b-8192\",\n",
    "            messages=messages,\n",
    "            temperature=0.2,  # Lower temperature for more deterministic classification\n",
    "            max_completion_tokens=10,  # Ensure the response is just the category name\n",
    "            top_p=1,\n",
    "            stream=False,\n",
    "            stop=None,\n",
    "        )\n",
    "\n",
    "        # Extract classification result\n",
    "        classification = response.choices[0].message.content.strip()\n",
    "\n",
    "        # Ensure the output is a valid category\n",
    "        VALID_CATEGORIES = [\n",
    "            \"Approval of Requests\",\n",
    "            \"Change in Processing Regime\",\n",
    "            \"Approval of Substitutes\",\n",
    "            \"Approval of Final Wording\",\n",
    "            \"Approval of Appeals\",\n",
    "            \"Other Legislative Actions\"\n",
    "        ]\n",
    "        \n",
    "        if classification not in VALID_CATEGORIES:\n",
    "            print(f\"[Warning] Unexpected classification output at index {index}: {classification}\")\n",
    "            classification = \"Other Legislative Actions\"  # Default to fallback category\n",
    "\n",
    "        return classification\n",
    "\n",
    "    except Exception as e:\n",
    "        print(f\"Error processing text at index {index}: {e}\")\n",
    "        return \"Error\"\n",
    "\n",
    "# Process and save in batches\n",
    "for batch_num in range(num_batches):\n",
    "    start_idx = batch_num * BATCH_SIZE\n",
    "    end_idx = min(start_idx + BATCH_SIZE, total_samples)\n",
    "    df_batch = df.iloc[start_idx:end_idx].copy()\n",
    "\n",
    "    print(f\"\\n🔄 Processing batch {batch_num+1}/{num_batches} ({start_idx} to {end_idx-1})...\")\n",
    "\n",
    "    df_batch[\"classification\"] = [\n",
    "        classify_text(text, idx, total_samples) if pd.notna(text) else \"No text\"\n",
    "        for idx, text in tqdm(enumerate(df_batch[\"descricao\"], start=start_idx), total=len(df_batch), desc=\"Processing\")\n",
    "    ]\n",
    "\n",
    "    # Save batch to CSV\n",
    "    output_file = f\"classified_voting_texts_batch_{batch_num+1}.csv\"\n",
    "    df_batch.to_csv(output_file, index=False, encoding=\"utf-8\")\n",
    "\n",
    "    print(f\"\\n✅ Batch {batch_num+1} completed! File saved as {output_file}.\")\n",
    "\n",
    "print(\"\\n🎉 All batches processed successfully!\")"
   ]
  }
 ],
 "metadata": {
  "kernelspec": {
   "display_name": "dados_abertos",
   "language": "python",
   "name": "python3"
  },
  "language_info": {
   "codemirror_mode": {
    "name": "ipython",
    "version": 3
   },
   "file_extension": ".py",
   "mimetype": "text/x-python",
   "name": "python",
   "nbconvert_exporter": "python",
   "pygments_lexer": "ipython3",
   "version": "3.8.20"
  }
 },
 "nbformat": 4,
 "nbformat_minor": 2
}
